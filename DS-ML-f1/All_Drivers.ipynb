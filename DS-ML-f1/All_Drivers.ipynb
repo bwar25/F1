{
 "cells": [
  {
   "cell_type": "code",
   "execution_count": 1,
   "id": "e17c461c",
   "metadata": {},
   "outputs": [],
   "source": [
    "import pandas as pd\n",
    "import numpy as np\n",
    "from matplotlib import pyplot as plt"
   ]
  },
  {
   "cell_type": "code",
   "execution_count": 2,
   "id": "12bf29c8",
   "metadata": {},
   "outputs": [],
   "source": [
    "%store -r all_races\n",
    "%store -r dict_of_drivers"
   ]
  },
  {
   "cell_type": "code",
   "execution_count": 3,
   "id": "ba09a311",
   "metadata": {},
   "outputs": [
    {
     "data": {
      "text/plain": [
       "['Alexander  Albon  ALB',\n",
       " 'Antonio  Giovinazzi  GIO',\n",
       " 'Carlos  Sainz  SAI',\n",
       " 'Charles  Leclerc  LEC',\n",
       " 'Daniel  Ricciardo  RIC',\n",
       " 'Daniil  Kvyat  KVY',\n",
       " 'Esteban  Ocon  OCO',\n",
       " 'George  Russell  RUS',\n",
       " 'Kevin  Magnussen  MAG',\n",
       " 'Kimi  Räikkönen  RAI',\n",
       " 'Lance  Stroll  STR',\n",
       " 'Lando  Norris  NOR',\n",
       " 'Lewis  Hamilton  HAM',\n",
       " 'Max  Verstappen  VER',\n",
       " 'Nicholas  Latifi  LAT',\n",
       " 'Pierre  Gasly  GAS',\n",
       " 'Romain  Grosjean  GRO',\n",
       " 'Sebastian  Vettel  VET',\n",
       " 'Sergio  Perez  PER',\n",
       " 'Valtteri  Bottas  BOT']"
      ]
     },
     "execution_count": 3,
     "metadata": {},
     "output_type": "execute_result"
    }
   ],
   "source": [
    "driver_list = list((dict_of_drivers.keys()))\n",
    "driver_list"
   ]
  },
  {
   "cell_type": "code",
   "execution_count": 4,
   "id": "ccc3675c",
   "metadata": {
    "scrolled": true
   },
   "outputs": [],
   "source": [
    "ALB = dict_of_drivers['Alexander  Albon  ALB']\n",
    "GIO = dict_of_drivers['Antonio  Giovinazzi  GIO']\n",
    "SAI = dict_of_drivers['Carlos  Sainz  SAI']\n",
    "LEC = dict_of_drivers['Charles  Leclerc  LEC']\n",
    "RIC = dict_of_drivers['Daniel  Ricciardo  RIC']\n",
    "KVY = dict_of_drivers['Daniil  Kvyat  KVY']\n",
    "OCO = dict_of_drivers['Esteban  Ocon  OCO']\n",
    "RUS = dict_of_drivers['George  Russell  RUS']\n",
    "MAG = dict_of_drivers['Kevin  Magnussen  MAG']\n",
    "RAI = dict_of_drivers['Kimi  Räikkönen  RAI']\n",
    "STR = dict_of_drivers['Lance  Stroll  STR']\n",
    "NOR = dict_of_drivers['Lando  Norris  NOR']\n",
    "HAM = dict_of_drivers['Lewis  Hamilton  HAM']\n",
    "VER = dict_of_drivers['Max  Verstappen  VER']\n",
    "LAT = dict_of_drivers['Nicholas  Latifi  LAT']\n",
    "GAS = dict_of_drivers['Pierre  Gasly  GAS']\n",
    "GRO = dict_of_drivers['Romain  Grosjean  GRO']\n",
    "VET = dict_of_drivers['Sebastian  Vettel  VET']\n",
    "PER = dict_of_drivers['Sergio  Perez  PER']\n",
    "BOT = dict_of_drivers['Valtteri  Bottas  BOT']"
   ]
  },
  {
   "cell_type": "code",
   "execution_count": 5,
   "id": "413d0648",
   "metadata": {},
   "outputs": [],
   "source": [
    "ALB.drop(['Driver', 'Car'], axis=1, inplace=True)\n",
    "GIO.drop(['Driver', 'Car'], axis=1, inplace=True)\n",
    "SAI.drop(['Driver', 'Car'], axis=1, inplace=True)\n",
    "LEC.drop(['Driver', 'Car'], axis=1, inplace=True)\n",
    "RIC.drop(['Driver', 'Car'], axis=1, inplace=True)\n",
    "KVY.drop(['Driver', 'Car'], axis=1, inplace=True)\n",
    "OCO.drop(['Driver', 'Car'], axis=1, inplace=True)\n",
    "RUS.drop(['Driver', 'Car'], axis=1, inplace=True)\n",
    "MAG.drop(['Driver', 'Car'], axis=1, inplace=True)\n",
    "RAI.drop(['Driver', 'Car'], axis=1, inplace=True)\n",
    "STR.drop(['Driver', 'Car'], axis=1, inplace=True)\n",
    "NOR.drop(['Driver', 'Car'], axis=1, inplace=True)\n",
    "HAM.drop(['Driver', 'Car'], axis=1, inplace=True)\n",
    "VER.drop(['Driver', 'Car'], axis=1, inplace=True)\n",
    "LAT.drop(['Driver', 'Car'], axis=1, inplace=True)\n",
    "GAS.drop(['Driver', 'Car'], axis=1, inplace=True)\n",
    "GRO.drop(['Driver', 'Car'], axis=1, inplace=True)\n",
    "VET.drop(['Driver', 'Car'], axis=1, inplace=True)\n",
    "PER.drop(['Driver', 'Car'], axis=1, inplace=True)\n",
    "BOT.drop(['Driver', 'Car'], axis=1, inplace=True)"
   ]
  },
  {
   "cell_type": "code",
   "execution_count": 6,
   "id": "83682369",
   "metadata": {},
   "outputs": [],
   "source": [
    "ALB=ALB.astype(float)\n",
    "GIO=GIO.astype(float)\n",
    "SAI=SAI.astype(float)\n",
    "LEC=LEC.astype(float)\n",
    "RIC=RIC.astype(float)\n",
    "KVY=KVY.astype(float)\n",
    "OCO=OCO.astype(float)\n",
    "RUS=RUS.astype(float)\n",
    "MAG=MAG.astype(float)\n",
    "RAI=RAI.astype(float)\n",
    "STR=STR.astype(float)\n",
    "NOR=NOR.astype(float)\n",
    "HAM=HAM.astype(float)\n",
    "VER=VER.astype(float)\n",
    "LAT=LAT.astype(float)\n",
    "GAS=GAS.astype(float)\n",
    "GRO=GRO.astype(float)\n",
    "VET=VET.astype(float)\n",
    "PER=PER.astype(float)\n",
    "BOT=BOT.astype(float)"
   ]
  },
  {
   "cell_type": "code",
   "execution_count": 7,
   "id": "ffd87ddf",
   "metadata": {
    "scrolled": true
   },
   "outputs": [],
   "source": [
    "ALB.reset_index(inplace=True)\n",
    "ALB.drop(['index'], axis=1, inplace=True)\n",
    "GIO.reset_index(inplace=True)\n",
    "GIO.drop(['index'], axis=1, inplace=True)\n",
    "SAI.reset_index(inplace=True)\n",
    "SAI.drop(['index'], axis=1, inplace=True)\n",
    "LEC.reset_index(inplace=True)\n",
    "LEC.drop(['index'], axis=1, inplace=True)\n",
    "RIC.reset_index(inplace=True)\n",
    "RIC.drop(['index'], axis=1, inplace=True)\n",
    "KVY.reset_index(inplace=True)\n",
    "KVY.drop(['index'], axis=1, inplace=True)\n",
    "OCO.reset_index(inplace=True)\n",
    "OCO.drop(['index'], axis=1, inplace=True)\n",
    "RUS.reset_index(inplace=True)\n",
    "RUS.drop(['index'], axis=1, inplace=True)\n",
    "MAG.reset_index(inplace=True)\n",
    "MAG.drop(['index'], axis=1, inplace=True)\n",
    "RAI.reset_index(inplace=True)\n",
    "RAI.drop(['index'], axis=1, inplace=True)\n",
    "STR.reset_index(inplace=True)\n",
    "STR.drop(['index'], axis=1, inplace=True)\n",
    "NOR.reset_index(inplace=True)\n",
    "NOR.drop(['index'], axis=1, inplace=True)\n",
    "HAM.reset_index(inplace=True)\n",
    "HAM.drop(['index'], axis=1, inplace=True)\n",
    "VER.reset_index(inplace=True)\n",
    "VER.drop(['index'], axis=1, inplace=True)\n",
    "LAT.reset_index(inplace=True)\n",
    "LAT.drop(['index'], axis=1, inplace=True)\n",
    "GAS.reset_index(inplace=True)\n",
    "GAS.drop(['index'], axis=1, inplace=True)\n",
    "GRO.reset_index(inplace=True)\n",
    "GRO.drop(['index'], axis=1, inplace=True)\n",
    "VET.reset_index(inplace=True)\n",
    "VET.drop(['index'], axis=1, inplace=True)\n",
    "PER.reset_index(inplace=True)\n",
    "PER.drop(['index'], axis=1, inplace=True)\n",
    "BOT.reset_index(inplace=True)\n",
    "BOT.drop(['index'], axis=1, inplace=True)"
   ]
  },
  {
   "cell_type": "code",
   "execution_count": 8,
   "id": "57018547",
   "metadata": {
    "scrolled": false
   },
   "outputs": [],
   "source": [
    "# BOT.T.plot()"
   ]
  },
  {
   "cell_type": "code",
   "execution_count": 9,
   "id": "7c88313c",
   "metadata": {},
   "outputs": [],
   "source": [
    "# BOT.plot.bar()"
   ]
  },
  {
   "cell_type": "code",
   "execution_count": 10,
   "id": "fd8d218e",
   "metadata": {},
   "outputs": [
    {
     "name": "stdout",
     "output_type": "stream",
     "text": [
      "6.0\n",
      "8.692307692307692\n",
      "7.6923076923076925\n",
      "7.615384615384615\n",
      "7.076923076923077\n"
     ]
    }
   ],
   "source": [
    "ALBp1 = ALB['Practice1'].sum()\n",
    "ALBp2 = ALB['Practice2'].sum()\n",
    "ALBp3 = ALB['Pracetice3'].sum()\n",
    "ALBqp = ALB['Qualifying'].sum()\n",
    "ALBrr = ALB['racePosition'].sum()\n",
    "print(ALBp1/13)\n",
    "print(ALBp2/13)\n",
    "print(ALBp3/13)\n",
    "print(ALBqp/13)\n",
    "print(ALBrr/13)"
   ]
  },
  {
   "cell_type": "code",
   "execution_count": 11,
   "id": "5fa01937",
   "metadata": {},
   "outputs": [
    {
     "name": "stdout",
     "output_type": "stream",
     "text": [
      "16.363636363636363\n",
      "15.727272727272727\n",
      "16.727272727272727\n",
      "17.181818181818183\n",
      "14.545454545454545\n"
     ]
    }
   ],
   "source": [
    "GIOp1 = GIO['Practice1'].sum()\n",
    "GIOp2 = GIO['Practice2'].sum()\n",
    "GIOp3 = GIO['Pracetice3'].sum()\n",
    "GIOqp = GIO['Qualifying'].sum()\n",
    "GIOrr = GIO['racePosition'].sum()\n",
    "print(GIOp1/11)\n",
    "print(GIOp2/11)\n",
    "print(GIOp3/11)\n",
    "print(GIOqp/11)\n",
    "print(GIOrr/11)"
   ]
  },
  {
   "cell_type": "code",
   "execution_count": 12,
   "id": "2c3f988d",
   "metadata": {},
   "outputs": [
    {
     "name": "stdout",
     "output_type": "stream",
     "text": [
      "10.454545454545455\n",
      "8.636363636363637\n",
      "7.909090909090909\n",
      "8.727272727272727\n",
      "6.7272727272727275\n"
     ]
    }
   ],
   "source": [
    "SAIp1 = SAI['Practice1'].sum()\n",
    "SAIp2 = SAI['Practice2'].sum()\n",
    "SAIp3 = SAI['Pracetice3'].sum()\n",
    "SAIqp = SAI['Qualifying'].sum()\n",
    "SAIrr = SAI['racePosition'].sum()\n",
    "print(SAIp1/11)\n",
    "print(SAIp2/11)\n",
    "print(SAIp3/11)\n",
    "print(SAIqp/11)\n",
    "print(SAIrr/11)"
   ]
  },
  {
   "cell_type": "code",
   "execution_count": 13,
   "id": "2ad440f6",
   "metadata": {
    "scrolled": true
   },
   "outputs": [
    {
     "name": "stdout",
     "output_type": "stream",
     "text": [
      "7.7272727272727275\n",
      "8.272727272727273\n",
      "8.363636363636363\n",
      "8.454545454545455\n",
      "7.181818181818182\n"
     ]
    }
   ],
   "source": [
    "LECp1 = LEC['Practice1'].sum()\n",
    "LECp2 = LEC['Practice2'].sum()\n",
    "LECp3 = LEC['Pracetice3'].sum()\n",
    "LECqp = LEC['Qualifying'].sum()\n",
    "LECrr = LEC['racePosition'].sum()\n",
    "print(LECp1/11)\n",
    "print(LECp2/11)\n",
    "print(LECp3/11)\n",
    "print(LECqp/11)\n",
    "print(LECrr/11)"
   ]
  },
  {
   "cell_type": "code",
   "execution_count": 14,
   "id": "04416971",
   "metadata": {},
   "outputs": [
    {
     "name": "stdout",
     "output_type": "stream",
     "text": [
      "11.076923076923077\n",
      "8.153846153846153\n",
      "10.23076923076923\n",
      "7.769230769230769\n",
      "7.230769230769231\n"
     ]
    }
   ],
   "source": [
    "RICp1 = RIC['Practice1'].sum()\n",
    "RICp2 = RIC['Practice2'].sum()\n",
    "RICp3 = RIC['Pracetice3'].sum()\n",
    "RICqp = RIC['Qualifying'].sum()\n",
    "RICrr = RIC['racePosition'].sum()\n",
    "print(RICp1/13)\n",
    "print(RICp2/13)\n",
    "print(RICp3/13)\n",
    "print(RICqp/13)\n",
    "print(RICrr/13)"
   ]
  },
  {
   "cell_type": "code",
   "execution_count": 15,
   "id": "9a6267c1",
   "metadata": {},
   "outputs": [
    {
     "name": "stdout",
     "output_type": "stream",
     "text": [
      "10.0\n",
      "11.333333333333334\n",
      "12.333333333333334\n",
      "12.0\n",
      "10.75\n"
     ]
    }
   ],
   "source": [
    "KVYp1 = KVY['Practice1'].sum()\n",
    "KVYp2 = KVY['Practice2'].sum()\n",
    "KVYp3 = KVY['Pracetice3'].sum()\n",
    "KVYqp = KVY['Qualifying'].sum()\n",
    "KVYrr = KVY['racePosition'].sum()\n",
    "print(KVYp1/12)\n",
    "print(KVYp2/12)\n",
    "print(KVYp3/12)\n",
    "print(KVYqp/12)\n",
    "print(KVYrr/12)"
   ]
  },
  {
   "cell_type": "code",
   "execution_count": 16,
   "id": "34dfa9a5",
   "metadata": {},
   "outputs": [
    {
     "name": "stdout",
     "output_type": "stream",
     "text": [
      "9.538461538461538\n",
      "9.692307692307692\n",
      "8.0\n",
      "10.384615384615385\n",
      "8.307692307692308\n"
     ]
    }
   ],
   "source": [
    "OCOp1 = OCO['Practice1'].sum()\n",
    "OCOp2 = OCO['Practice2'].sum()\n",
    "OCOp3 = OCO['Pracetice3'].sum()\n",
    "OCOqp = OCO['Qualifying'].sum()\n",
    "OCOrr = OCO['racePosition'].sum()\n",
    "print(OCOp1/13)\n",
    "print(OCOp2/13)\n",
    "print(OCOp3/13)\n",
    "print(OCOqp/13)\n",
    "print(OCOrr/13)"
   ]
  },
  {
   "cell_type": "code",
   "execution_count": 17,
   "id": "cff783af",
   "metadata": {},
   "outputs": [
    {
     "name": "stdout",
     "output_type": "stream",
     "text": [
      "14.833333333333334\n",
      "15.833333333333334\n",
      "15.666666666666666\n",
      "14.75\n",
      "14.5\n"
     ]
    }
   ],
   "source": [
    "RUSp1 = RUS['Practice1'].sum()\n",
    "RUSp2 = RUS['Practice2'].sum()\n",
    "RUSp3 = RUS['Pracetice3'].sum()\n",
    "RUSqp = RUS['Qualifying'].sum()\n",
    "RUSrr = RUS['racePosition'].sum()\n",
    "print(RUSp1/12)\n",
    "print(RUSp2/12)\n",
    "print(RUSp3/12)\n",
    "print(RUSqp/12)\n",
    "print(RUSrr/12)"
   ]
  },
  {
   "cell_type": "code",
   "execution_count": 18,
   "id": "6046a5f2",
   "metadata": {},
   "outputs": [
    {
     "name": "stdout",
     "output_type": "stream",
     "text": [
      "15.125\n",
      "17.0\n",
      "16.75\n",
      "17.5\n",
      "15.0\n"
     ]
    }
   ],
   "source": [
    "MAGp1 = MAG['Practice1'].sum()\n",
    "MAGp2 = MAG['Practice2'].sum()\n",
    "MAGp3 = MAG['Pracetice3'].sum()\n",
    "MAGqp = MAG['Qualifying'].sum()\n",
    "MAGrr = MAG['racePosition'].sum()\n",
    "print(MAGp1/8)\n",
    "print(MAGp2/8)\n",
    "print(MAGp3/8)\n",
    "print(MAGqp/8)\n",
    "print(MAGrr/8)"
   ]
  },
  {
   "cell_type": "code",
   "execution_count": 19,
   "id": "d3f5f3da",
   "metadata": {},
   "outputs": [
    {
     "name": "stdout",
     "output_type": "stream",
     "text": [
      "13.307692307692308\n",
      "13.923076923076923\n",
      "16.692307692307693\n",
      "16.23076923076923\n",
      "13.538461538461538\n"
     ]
    }
   ],
   "source": [
    "RAIp1 = RAI['Practice1'].sum()\n",
    "RAIp2 = RAI['Practice2'].sum()\n",
    "RAIp3 = RAI['Pracetice3'].sum()\n",
    "RAIqp = RAI['Qualifying'].sum()\n",
    "RAIrr = RAI['racePosition'].sum()\n",
    "print(RAIp1/13)\n",
    "print(RAIp2/13)\n",
    "print(RAIp3/13)\n",
    "print(RAIqp/13)\n",
    "print(RAIrr/13)"
   ]
  },
  {
   "cell_type": "code",
   "execution_count": 20,
   "id": "43ff5689",
   "metadata": {},
   "outputs": [
    {
     "name": "stdout",
     "output_type": "stream",
     "text": [
      "8.11111111111111\n",
      "7.333333333333333\n",
      "7.222222222222222\n",
      "6.222222222222222\n",
      "6.333333333333333\n"
     ]
    }
   ],
   "source": [
    "STRp1 = STR['Practice1'].sum()\n",
    "STRp2 = STR['Practice2'].sum()\n",
    "STRp3 = STR['Pracetice3'].sum()\n",
    "STRqp = STR['Qualifying'].sum()\n",
    "STRrr = STR['racePosition'].sum()\n",
    "print(STRp1/9)\n",
    "print(STRp2/9)\n",
    "print(STRp3/9)\n",
    "print(STRqp/9)\n",
    "print(STRrr/9)"
   ]
  },
  {
   "cell_type": "code",
   "execution_count": 21,
   "id": "299d9cd6",
   "metadata": {},
   "outputs": [
    {
     "name": "stdout",
     "output_type": "stream",
     "text": [
      "11.285714285714286\n",
      "8.714285714285714\n",
      "8.428571428571429\n",
      "8.357142857142858\n",
      "8.0\n"
     ]
    }
   ],
   "source": [
    "NORp1 = NOR['Practice1'].sum()\n",
    "NORp2 = NOR['Practice2'].sum()\n",
    "NORp3 = NOR['Pracetice3'].sum()\n",
    "NORqp = NOR['Qualifying'].sum()\n",
    "NORrr = NOR['racePosition'].sum()\n",
    "print(NORp1/14)\n",
    "print(NORp2/14)\n",
    "print(NORp3/14)\n",
    "print(NORqp/14)\n",
    "print(NORrr/14)"
   ]
  },
  {
   "cell_type": "code",
   "execution_count": 22,
   "id": "96950499",
   "metadata": {},
   "outputs": [
    {
     "name": "stdout",
     "output_type": "stream",
     "text": [
      "4.461538461538462\n",
      "3.6153846153846154\n",
      "3.6153846153846154\n",
      "1.6923076923076923\n",
      "2.076923076923077\n"
     ]
    }
   ],
   "source": [
    "HAMp1 = HAM['Practice1'].sum()\n",
    "HAMp2 = HAM['Practice2'].sum()\n",
    "HAMp3 = HAM['Pracetice3'].sum()\n",
    "HAMqp = HAM['Qualifying'].sum()\n",
    "HAMrr = HAM['racePosition'].sum()\n",
    "print(HAMp1/13)\n",
    "print(HAMp2/13)\n",
    "print(HAMp3/13)\n",
    "print(HAMqp/13)\n",
    "print(HAMrr/13)"
   ]
  },
  {
   "cell_type": "code",
   "execution_count": 23,
   "id": "db73c463",
   "metadata": {},
   "outputs": [
    {
     "name": "stdout",
     "output_type": "stream",
     "text": [
      "3.2\n",
      "4.4\n",
      "3.7\n",
      "3.1\n",
      "2.4\n"
     ]
    }
   ],
   "source": [
    "VERp1 = VER['Practice1'].sum()\n",
    "VERp2 = VER['Practice2'].sum()\n",
    "VERp3 = VER['Pracetice3'].sum()\n",
    "VERqp = VER['Qualifying'].sum()\n",
    "VERrr = VER['racePosition'].sum()\n",
    "print(VERp1/10)\n",
    "print(VERp2/10)\n",
    "print(VERp3/10)\n",
    "print(VERqp/10)\n",
    "print(VERrr/10)"
   ]
  },
  {
   "cell_type": "code",
   "execution_count": 24,
   "id": "f1f9d43d",
   "metadata": {},
   "outputs": [
    {
     "name": "stdout",
     "output_type": "stream",
     "text": [
      "18.09090909090909\n",
      "18.09090909090909\n",
      "18.272727272727273\n",
      "19.09090909090909\n",
      "15.818181818181818\n"
     ]
    }
   ],
   "source": [
    "LATp1 = LAT['Practice1'].sum()\n",
    "LATp2 = LAT['Practice2'].sum()\n",
    "LATp3 = LAT['Pracetice3'].sum()\n",
    "LATqp = LAT['Qualifying'].sum()\n",
    "LATrr = LAT['racePosition'].sum()\n",
    "print(LATp1/11)\n",
    "print(LATp2/11)\n",
    "print(LATp3/11)\n",
    "print(LATqp/11)\n",
    "print(LATrr/11)"
   ]
  },
  {
   "cell_type": "code",
   "execution_count": 25,
   "id": "94762ea8",
   "metadata": {},
   "outputs": [
    {
     "name": "stdout",
     "output_type": "stream",
     "text": [
      "9.5\n",
      "9.583333333333334\n",
      "9.25\n",
      "10.166666666666666\n",
      "7.916666666666667\n"
     ]
    }
   ],
   "source": [
    "GASp1 = GAS['Practice1'].sum()\n",
    "GASp2 = GAS['Practice2'].sum()\n",
    "GASp3 = GAS['Pracetice3'].sum()\n",
    "GASqp = GAS['Qualifying'].sum()\n",
    "GASrr = GAS['racePosition'].sum()\n",
    "print(GASp1/12)\n",
    "print(GASp2/12)\n",
    "print(GASp3/12)\n",
    "print(GASqp/12)\n",
    "print(GASrr/12)"
   ]
  },
  {
   "cell_type": "code",
   "execution_count": 26,
   "id": "fa79d6d1",
   "metadata": {},
   "outputs": [
    {
     "name": "stdout",
     "output_type": "stream",
     "text": [
      "14.222222222222221\n",
      "15.444444444444445\n",
      "14.555555555555555\n",
      "16.666666666666668\n",
      "15.555555555555555\n"
     ]
    }
   ],
   "source": [
    "GROp1 = GRO['Practice1'].sum()\n",
    "GROp2 = GRO['Practice2'].sum()\n",
    "GROp3 = GRO['Pracetice3'].sum()\n",
    "GROqp = GRO['Qualifying'].sum()\n",
    "GROrr = GRO['racePosition'].sum()\n",
    "print(GROp1/9)\n",
    "print(GROp2/9)\n",
    "print(GROp3/9)\n",
    "print(GROqp/9)\n",
    "print(GROrr/9)"
   ]
  },
  {
   "cell_type": "code",
   "execution_count": 27,
   "id": "582e2784",
   "metadata": {},
   "outputs": [
    {
     "name": "stdout",
     "output_type": "stream",
     "text": [
      "10.538461538461538\n",
      "11.153846153846153\n",
      "12.153846153846153\n",
      "12.0\n",
      "10.23076923076923\n"
     ]
    }
   ],
   "source": [
    "VETp1 = VET['Practice1'].sum()\n",
    "VETp2 = VET['Practice2'].sum()\n",
    "VETp3 = VET['Pracetice3'].sum()\n",
    "VETqp = VET['Qualifying'].sum()\n",
    "VETrr = VET['racePosition'].sum()\n",
    "print(VETp1/13)\n",
    "print(VETp2/13)\n",
    "print(VETp3/13)\n",
    "print(VETqp/13)\n",
    "print(VETrr/13)"
   ]
  },
  {
   "cell_type": "code",
   "execution_count": 28,
   "id": "a633a034",
   "metadata": {},
   "outputs": [
    {
     "name": "stdout",
     "output_type": "stream",
     "text": [
      "8.0\n",
      "7.0\n",
      "6.6\n",
      "4.9\n",
      "5.7\n"
     ]
    }
   ],
   "source": [
    "PERp1 = PER['Practice1'].sum()\n",
    "PERp2 = PER['Practice2'].sum()\n",
    "PERp3 = PER['Pracetice3'].sum()\n",
    "PERqp = PER['Qualifying'].sum()\n",
    "PERrr = PER['racePosition'].sum()\n",
    "print(PERp1/10)\n",
    "print(PERp2/10)\n",
    "print(PERp3/10)\n",
    "print(PERqp/10)\n",
    "print(PERrr/10)"
   ]
  },
  {
   "cell_type": "code",
   "execution_count": 29,
   "id": "95d61556",
   "metadata": {
    "scrolled": true
   },
   "outputs": [
    {
     "name": "stdout",
     "output_type": "stream",
     "text": [
      "2.4285714285714284\n",
      "2.857142857142857\n",
      "2.857142857142857\n",
      "2.357142857142857\n",
      "4.642857142857143\n"
     ]
    }
   ],
   "source": [
    "BOTp1 = BOT['Practice1'].sum()\n",
    "BOTp2 = BOT['Practice2'].sum()\n",
    "BOTp3 = BOT['Pracetice3'].sum()\n",
    "BOTqp = BOT['Qualifying'].sum()\n",
    "BOTrr = BOT['racePosition'].sum()\n",
    "print(BOTp1/14)\n",
    "print(BOTp2/14)\n",
    "print(BOTp3/14)\n",
    "print(BOTqp/14)\n",
    "print(BOTrr/14)"
   ]
  },
  {
   "cell_type": "code",
   "execution_count": 30,
   "id": "08d82794",
   "metadata": {
    "scrolled": true
   },
   "outputs": [],
   "source": [
    "# plt.plot(BOT)"
   ]
  },
  {
   "cell_type": "code",
   "execution_count": 31,
   "id": "e3435c6a",
   "metadata": {
    "scrolled": true
   },
   "outputs": [],
   "source": [
    "# BOT"
   ]
  },
  {
   "cell_type": "code",
   "execution_count": 32,
   "id": "ddc8fd78",
   "metadata": {},
   "outputs": [],
   "source": [
    "# X = BOT.drop('racePosition', axis=1).copy()\n",
    "# y = BOT['racePosition'].copy()"
   ]
  },
  {
   "cell_type": "code",
   "execution_count": 33,
   "id": "e372e3b2",
   "metadata": {
    "scrolled": true
   },
   "outputs": [],
   "source": [
    "# y.unique()"
   ]
  },
  {
   "cell_type": "code",
   "execution_count": 34,
   "id": "aaf64e16",
   "metadata": {
    "scrolled": true
   },
   "outputs": [
    {
     "data": {
      "text/html": [
       "<div>\n",
       "<style scoped>\n",
       "    .dataframe tbody tr th:only-of-type {\n",
       "        vertical-align: middle;\n",
       "    }\n",
       "\n",
       "    .dataframe tbody tr th {\n",
       "        vertical-align: top;\n",
       "    }\n",
       "\n",
       "    .dataframe thead th {\n",
       "        text-align: right;\n",
       "    }\n",
       "</style>\n",
       "<table border=\"1\" class=\"dataframe\">\n",
       "  <thead>\n",
       "    <tr style=\"text-align: right;\">\n",
       "      <th></th>\n",
       "      <th>Driver</th>\n",
       "      <th>Car</th>\n",
       "      <th>Practice1</th>\n",
       "      <th>Practice2</th>\n",
       "      <th>Pracetice3</th>\n",
       "      <th>Qualifying</th>\n",
       "      <th>racePosition</th>\n",
       "      <th>win</th>\n",
       "    </tr>\n",
       "  </thead>\n",
       "  <tbody>\n",
       "    <tr>\n",
       "      <th>0</th>\n",
       "      <td>Alexander  Albon  ALB</td>\n",
       "      <td>Red Bull Racing Honda</td>\n",
       "      <td>13.0</td>\n",
       "      <td>19.0</td>\n",
       "      <td>12.0</td>\n",
       "      <td>13.0</td>\n",
       "      <td>5</td>\n",
       "      <td>0.0</td>\n",
       "    </tr>\n",
       "    <tr>\n",
       "      <th>0</th>\n",
       "      <td>Alexander  Albon  ALB</td>\n",
       "      <td>Red Bull Racing Honda</td>\n",
       "      <td>4.0</td>\n",
       "      <td>2.0</td>\n",
       "      <td>13.0</td>\n",
       "      <td>12.0</td>\n",
       "      <td>8</td>\n",
       "      <td>0.0</td>\n",
       "    </tr>\n",
       "    <tr>\n",
       "      <th>0</th>\n",
       "      <td>Alexander  Albon  ALB</td>\n",
       "      <td>Red Bull Racing Honda</td>\n",
       "      <td>6.0</td>\n",
       "      <td>11.0</td>\n",
       "      <td>8.0</td>\n",
       "      <td>9.0</td>\n",
       "      <td>5</td>\n",
       "      <td>0.0</td>\n",
       "    </tr>\n",
       "    <tr>\n",
       "      <th>0</th>\n",
       "      <td>Alexander  Albon  ALB</td>\n",
       "      <td>Red Bull Racing Honda</td>\n",
       "      <td>8.0</td>\n",
       "      <td>13.0</td>\n",
       "      <td>9.0</td>\n",
       "      <td>6.0</td>\n",
       "      <td>8</td>\n",
       "      <td>0.0</td>\n",
       "    </tr>\n",
       "    <tr>\n",
       "      <th>0</th>\n",
       "      <td>Alexander  Albon  ALB</td>\n",
       "      <td>Red Bull Racing Honda</td>\n",
       "      <td>6.0</td>\n",
       "      <td>4.0</td>\n",
       "      <td>4.0</td>\n",
       "      <td>5.0</td>\n",
       "      <td>6</td>\n",
       "      <td>0.0</td>\n",
       "    </tr>\n",
       "    <tr>\n",
       "      <th>...</th>\n",
       "      <td>...</td>\n",
       "      <td>...</td>\n",
       "      <td>...</td>\n",
       "      <td>...</td>\n",
       "      <td>...</td>\n",
       "      <td>...</td>\n",
       "      <td>...</td>\n",
       "      <td>...</td>\n",
       "    </tr>\n",
       "    <tr>\n",
       "      <th>19</th>\n",
       "      <td>Valtteri  Bottas  BOT</td>\n",
       "      <td>Mercedes</td>\n",
       "      <td>1.0</td>\n",
       "      <td>1.0</td>\n",
       "      <td>1.0</td>\n",
       "      <td>2.0</td>\n",
       "      <td>2</td>\n",
       "      <td>0.0</td>\n",
       "    </tr>\n",
       "    <tr>\n",
       "      <th>19</th>\n",
       "      <td>Valtteri  Bottas  BOT</td>\n",
       "      <td>Mercedes</td>\n",
       "      <td>9.0</td>\n",
       "      <td>3.0</td>\n",
       "      <td>8.0</td>\n",
       "      <td>9.0</td>\n",
       "      <td>14</td>\n",
       "      <td>0.0</td>\n",
       "    </tr>\n",
       "    <tr>\n",
       "      <th>19</th>\n",
       "      <td>Valtteri  Bottas  BOT</td>\n",
       "      <td>Mercedes</td>\n",
       "      <td>2.0</td>\n",
       "      <td>3.0</td>\n",
       "      <td>3.0</td>\n",
       "      <td>2.0</td>\n",
       "      <td>8</td>\n",
       "      <td>0.0</td>\n",
       "    </tr>\n",
       "    <tr>\n",
       "      <th>19</th>\n",
       "      <td>Valtteri  Bottas  BOT</td>\n",
       "      <td>Mercedes</td>\n",
       "      <td>4.0</td>\n",
       "      <td>11.0</td>\n",
       "      <td>2.0</td>\n",
       "      <td>1.0</td>\n",
       "      <td>8</td>\n",
       "      <td>0.0</td>\n",
       "    </tr>\n",
       "    <tr>\n",
       "      <th>19</th>\n",
       "      <td>Valtteri  Bottas  BOT</td>\n",
       "      <td>Mercedes</td>\n",
       "      <td>2.0</td>\n",
       "      <td>1.0</td>\n",
       "      <td>9.0</td>\n",
       "      <td>2.0</td>\n",
       "      <td>2</td>\n",
       "      <td>0.0</td>\n",
       "    </tr>\n",
       "  </tbody>\n",
       "</table>\n",
       "<p>232 rows × 8 columns</p>\n",
       "</div>"
      ],
      "text/plain": [
       "                   Driver                    Car  Practice1  Practice2  \\\n",
       "0   Alexander  Albon  ALB  Red Bull Racing Honda       13.0       19.0   \n",
       "0   Alexander  Albon  ALB  Red Bull Racing Honda        4.0        2.0   \n",
       "0   Alexander  Albon  ALB  Red Bull Racing Honda        6.0       11.0   \n",
       "0   Alexander  Albon  ALB  Red Bull Racing Honda        8.0       13.0   \n",
       "0   Alexander  Albon  ALB  Red Bull Racing Honda        6.0        4.0   \n",
       "..                    ...                    ...        ...        ...   \n",
       "19  Valtteri  Bottas  BOT               Mercedes        1.0        1.0   \n",
       "19  Valtteri  Bottas  BOT               Mercedes        9.0        3.0   \n",
       "19  Valtteri  Bottas  BOT               Mercedes        2.0        3.0   \n",
       "19  Valtteri  Bottas  BOT               Mercedes        4.0       11.0   \n",
       "19  Valtteri  Bottas  BOT               Mercedes        2.0        1.0   \n",
       "\n",
       "    Pracetice3  Qualifying  racePosition  win  \n",
       "0         12.0        13.0             5  0.0  \n",
       "0         13.0        12.0             8  0.0  \n",
       "0          8.0         9.0             5  0.0  \n",
       "0          9.0         6.0             8  0.0  \n",
       "0          4.0         5.0             6  0.0  \n",
       "..         ...         ...           ...  ...  \n",
       "19         1.0         2.0             2  0.0  \n",
       "19         8.0         9.0            14  0.0  \n",
       "19         3.0         2.0             8  0.0  \n",
       "19         2.0         1.0             8  0.0  \n",
       "19         9.0         2.0             2  0.0  \n",
       "\n",
       "[232 rows x 8 columns]"
      ]
     },
     "execution_count": 34,
     "metadata": {},
     "output_type": "execute_result"
    }
   ],
   "source": [
    "all_races"
   ]
  }
 ],
 "metadata": {
  "kernelspec": {
   "display_name": "Python 3",
   "language": "python",
   "name": "python3"
  },
  "language_info": {
   "codemirror_mode": {
    "name": "ipython",
    "version": 3
   },
   "file_extension": ".py",
   "mimetype": "text/x-python",
   "name": "python",
   "nbconvert_exporter": "python",
   "pygments_lexer": "ipython3",
   "version": "3.8.8"
  }
 },
 "nbformat": 4,
 "nbformat_minor": 5
}
