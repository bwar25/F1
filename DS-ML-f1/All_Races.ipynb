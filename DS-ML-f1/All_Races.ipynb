{
 "cells": [
  {
   "cell_type": "code",
   "execution_count": 1,
   "id": "e125319e",
   "metadata": {},
   "outputs": [],
   "source": [
    "import pandas as pd\n",
    "import numpy as np"
   ]
  },
  {
   "cell_type": "code",
   "execution_count": 2,
   "id": "3ef5cc0d",
   "metadata": {},
   "outputs": [],
   "source": [
    "%store -r austria_dl\n",
    "%store -r styria_dl\n",
    "%store -r hungary_dl\n",
    "%store -r gb_dl\n",
    "%store -r gb70_dl\n",
    "%store -r spain_dl\n",
    "%store -r belgium_dl\n",
    "%store -r italy_dl\n",
    "%store -r tuscany_dl\n",
    "%store -r russia_dl\n",
    "%store -r eifel_dl\n",
    "%store -r portugal_dl\n",
    "%store -r er_dl\n",
    "%store -r turkey_dl\n",
    "%store -r bahrain_dl\n",
    "%store -r sakhir_dl\n",
    "%store -r ad_dl"
   ]
  },
  {
   "cell_type": "code",
   "execution_count": 3,
   "id": "91ab177d",
   "metadata": {},
   "outputs": [],
   "source": [
    "all_full_gp = [austria_dl,\n",
    "styria_dl,               \n",
    "hungary_dl,\n",
    "gb_dl,\n",
    "gb70_dl,\n",
    "spain_dl,\n",
    "belgium_dl,\n",
    "italy_dl,\n",
    "tuscany_dl,\n",
    "russia_dl,\n",
    "eifel_dl,\n",
    "portugal_dl,\n",
    "er_dl,\n",
    "turkey_dl,\n",
    "bahrain_dl,\n",
    "sakhir_dl,\n",
    "ad_dl]"
   ]
  },
  {
   "cell_type": "code",
   "execution_count": 4,
   "id": "024b6866",
   "metadata": {},
   "outputs": [
    {
     "data": {
      "text/html": [
       "<div>\n",
       "<style scoped>\n",
       "    .dataframe tbody tr th:only-of-type {\n",
       "        vertical-align: middle;\n",
       "    }\n",
       "\n",
       "    .dataframe tbody tr th {\n",
       "        vertical-align: top;\n",
       "    }\n",
       "\n",
       "    .dataframe thead th {\n",
       "        text-align: right;\n",
       "    }\n",
       "</style>\n",
       "<table border=\"1\" class=\"dataframe\">\n",
       "  <thead>\n",
       "    <tr style=\"text-align: right;\">\n",
       "      <th></th>\n",
       "      <th>Driver</th>\n",
       "      <th>Car</th>\n",
       "      <th>Practice1</th>\n",
       "      <th>Practice2</th>\n",
       "      <th>Pracetice3</th>\n",
       "      <th>Qualifying</th>\n",
       "      <th>Q1</th>\n",
       "      <th>Q2</th>\n",
       "      <th>Q3</th>\n",
       "      <th>racePosition</th>\n",
       "      <th>racePoints</th>\n",
       "    </tr>\n",
       "  </thead>\n",
       "  <tbody>\n",
       "  </tbody>\n",
       "</table>\n",
       "</div>"
      ],
      "text/plain": [
       "Empty DataFrame\n",
       "Columns: [Driver, Car, Practice1, Practice2, Pracetice3, Qualifying, Q1, Q2, Q3, racePosition, racePoints]\n",
       "Index: []"
      ]
     },
     "execution_count": 4,
     "metadata": {},
     "output_type": "execute_result"
    }
   ],
   "source": [
    "end_results = pd.DataFrame(columns=['Driver', 'Car', 'Practice1', 'Practice2', 'Pracetice3', 'Qualifying', 'Q1', 'Q2', 'Q3', 'racePosition', 'racePoints'])\n",
    "end_results"
   ]
  },
  {
   "cell_type": "code",
   "execution_count": 5,
   "id": "f0e35d2a",
   "metadata": {},
   "outputs": [],
   "source": [
    "# def reorder_columns(race):\n",
    "#     race = race[race.columns[[1, 2, 0, 3, 4, 5, 6, 7, 8, 9, 10]]]\n",
    "    \n",
    "#     return race"
   ]
  },
  {
   "cell_type": "code",
   "execution_count": 6,
   "id": "fb67f57a",
   "metadata": {},
   "outputs": [],
   "source": [
    "austria_dl = austria_dl[austria_dl.columns[[1, 2, 0, 3, 4, 5, 6, 7, 8, 9, 10]]]\n",
    "hungary_dl = hungary_dl[hungary_dl.columns[[1, 2, 0, 3, 4, 5, 6, 7, 8, 9, 10]]]\n",
    "gb_dl = gb_dl[gb_dl.columns[[1, 2, 0, 3, 4, 5, 6, 7, 8, 9, 10]]]\n",
    "gb70_dl = gb70_dl[gb70_dl.columns[[1, 2, 0, 3, 4, 5, 6, 7, 8, 9, 10]]]\n",
    "spain_dl = spain_dl[spain_dl.columns[[1, 2, 0, 3, 4, 5, 6, 7, 8, 9, 10]]]\n",
    "belgium_dl = belgium_dl[belgium_dl.columns[[1, 2, 0, 3, 4, 5, 6, 7, 8, 9, 10]]]\n",
    "italy_dl = italy_dl[italy_dl.columns[[1, 2, 0, 3, 4, 5, 6, 7, 8, 9, 10]]]\n",
    "tuscany_dl = tuscany_dl[tuscany_dl.columns[[1, 2, 0, 3, 4, 5, 6, 7, 8, 9, 10]]]\n",
    "russia_dl = russia_dl[russia_dl.columns[[1, 2, 0, 3, 4, 5, 6, 7, 8, 9, 10]]]\n",
    "portugal_dl = portugal_dl[portugal_dl.columns[[1, 2, 0, 3, 4, 5, 6, 7, 8, 9, 10]]]\n",
    "turkey_dl = turkey_dl[turkey_dl.columns[[1, 2, 0, 3, 4, 5, 6, 7, 8, 9, 10]]]\n",
    "bahrain_dl = bahrain_dl[bahrain_dl.columns[[1, 2, 0, 3, 4, 5, 6, 7, 8, 9, 10]]]\n",
    "sakhir_dl = sakhir_dl[sakhir_dl.columns[[1, 2, 0, 3, 4, 5, 6, 7, 8, 9, 10]]]\n",
    "ad_dl = ad_dl[ad_dl.columns[[1, 2, 0, 3, 4, 5, 6, 7, 8, 9, 10]]]"
   ]
  },
  {
   "cell_type": "code",
   "execution_count": 7,
   "id": "76fb03c0",
   "metadata": {},
   "outputs": [],
   "source": [
    "austria_dl.columns = ['Driver', 'Car', 'Practice1', 'Practice2', 'Pracetice3', 'Qualifying', 'Q1', 'Q2', 'Q3', 'racePosition', 'racePoints']\n",
    "hungary_dl.columns = ['Driver', 'Car', 'Practice1', 'Practice2', 'Pracetice3', 'Qualifying', 'Q1', 'Q2', 'Q3', 'racePosition', 'racePoints']\n",
    "gb_dl.columns = ['Driver', 'Car', 'Practice1', 'Practice2', 'Pracetice3', 'Qualifying', 'Q1', 'Q2', 'Q3', 'racePosition', 'racePoints']\n",
    "gb70_dl.columns = ['Driver', 'Car', 'Practice1', 'Practice2', 'Pracetice3', 'Qualifying', 'Q1', 'Q2', 'Q3', 'racePosition', 'racePoints']\n",
    "spain_dl.columns = ['Driver', 'Car', 'Practice1', 'Practice2', 'Pracetice3', 'Qualifying', 'Q1', 'Q2', 'Q3', 'racePosition', 'racePoints']\n",
    "belgium_dl.columns = ['Driver', 'Car', 'Practice1', 'Practice2', 'Pracetice3', 'Qualifying', 'Q1', 'Q2', 'Q3', 'racePosition', 'racePoints']\n",
    "italy_dl.columns = ['Driver', 'Car', 'Practice1', 'Practice2', 'Pracetice3', 'Qualifying', 'Q1', 'Q2', 'Q3', 'racePosition', 'racePoints']\n",
    "tuscany_dl.columns = ['Driver', 'Car', 'Practice1', 'Practice2', 'Pracetice3', 'Qualifying', 'Q1', 'Q2', 'Q3', 'racePosition', 'racePoints']\n",
    "russia_dl.columns = ['Driver', 'Car', 'Practice1', 'Practice2', 'Pracetice3', 'Qualifying', 'Q1', 'Q2', 'Q3', 'racePosition', 'racePoints']\n",
    "portugal_dl.columns = ['Driver', 'Car', 'Practice1', 'Practice2', 'Pracetice3', 'Qualifying', 'Q1', 'Q2', 'Q3', 'racePosition', 'racePoints']\n",
    "turkey_dl.columns = ['Driver', 'Car', 'Practice1', 'Practice2', 'Pracetice3', 'Qualifying', 'Q1', 'Q2', 'Q3', 'racePosition', 'racePoints']\n",
    "bahrain_dl.columns = ['Driver', 'Car', 'Practice1', 'Practice2', 'Pracetice3', 'Qualifying', 'Q1', 'Q2', 'Q3', 'racePosition', 'racePoints']\n",
    "sakhir_dl.columns = ['Driver', 'Car', 'Practice1', 'Practice2', 'Pracetice3', 'Qualifying', 'Q1', 'Q2', 'Q3', 'racePosition', 'racePoints']\n",
    "ad_dl.columns = ['Driver', 'Car', 'Practice1', 'Practice2', 'Pracetice3', 'Qualifying', 'Q1', 'Q2', 'Q3', 'racePosition', 'racePoints']"
   ]
  },
  {
   "cell_type": "code",
   "execution_count": 8,
   "id": "87ebb927",
   "metadata": {},
   "outputs": [],
   "source": [
    "all_races = austria_dl.append(hungary_dl)\n",
    "all_races = all_races.sort_values(by=['Driver'], ascending=True, kind='mergesort')"
   ]
  },
  {
   "cell_type": "code",
   "execution_count": 9,
   "id": "d9aecfab",
   "metadata": {
    "scrolled": true
   },
   "outputs": [],
   "source": [
    "all_races = all_races.append(gb_dl)\n",
    "all_races = all_races.sort_values(by=['Driver'], ascending=True, kind='mergesort')"
   ]
  },
  {
   "cell_type": "code",
   "execution_count": 10,
   "id": "10278792",
   "metadata": {},
   "outputs": [],
   "source": [
    "all_races = all_races.append(gb70_dl)\n",
    "all_races = all_races.sort_values(by=['Driver'], ascending=True, kind='mergesort')"
   ]
  },
  {
   "cell_type": "code",
   "execution_count": 11,
   "id": "1b4ab48a",
   "metadata": {},
   "outputs": [],
   "source": [
    "all_races = all_races.append(spain_dl)\n",
    "all_races = all_races.sort_values(by=['Driver'], ascending=True, kind='mergesort')"
   ]
  },
  {
   "cell_type": "code",
   "execution_count": 12,
   "id": "29c503e6",
   "metadata": {},
   "outputs": [],
   "source": [
    "all_races = all_races.append(belgium_dl)\n",
    "all_races = all_races.sort_values(by=['Driver'], ascending=True, kind='mergesort')"
   ]
  },
  {
   "cell_type": "code",
   "execution_count": 13,
   "id": "9db8257d",
   "metadata": {},
   "outputs": [],
   "source": [
    "all_races = all_races.append(italy_dl)\n",
    "all_races = all_races.sort_values(by=['Driver'], ascending=True, kind='mergesort')"
   ]
  },
  {
   "cell_type": "code",
   "execution_count": 14,
   "id": "ef2fbac4",
   "metadata": {},
   "outputs": [],
   "source": [
    "all_races = all_races.append(tuscany_dl)\n",
    "all_races = all_races.sort_values(by=['Driver'], ascending=True, kind='mergesort')"
   ]
  },
  {
   "cell_type": "code",
   "execution_count": 15,
   "id": "819eab44",
   "metadata": {},
   "outputs": [],
   "source": [
    "all_races = all_races.append(russia_dl)\n",
    "all_races = all_races.sort_values(by=['Driver'], ascending=True, kind='mergesort')"
   ]
  },
  {
   "cell_type": "code",
   "execution_count": 16,
   "id": "c2e7ed19",
   "metadata": {},
   "outputs": [],
   "source": [
    "all_races = all_races.append(portugal_dl)\n",
    "all_races = all_races.sort_values(by=['Driver'], ascending=True, kind='mergesort')"
   ]
  },
  {
   "cell_type": "code",
   "execution_count": 17,
   "id": "2d5ff3af",
   "metadata": {},
   "outputs": [],
   "source": [
    "all_races = all_races.append(turkey_dl)\n",
    "all_races = all_races.sort_values(by=['Driver'], ascending=True, kind='mergesort')"
   ]
  },
  {
   "cell_type": "code",
   "execution_count": 18,
   "id": "21629fb2",
   "metadata": {},
   "outputs": [],
   "source": [
    "all_races = all_races.append(bahrain_dl)\n",
    "all_races = all_races.sort_values(by=['Driver'], ascending=True, kind='mergesort')"
   ]
  },
  {
   "cell_type": "code",
   "execution_count": 19,
   "id": "385dd6d5",
   "metadata": {},
   "outputs": [],
   "source": [
    "all_races = all_races.append(sakhir_dl)\n",
    "all_races = all_races.sort_values(by=['Driver'], ascending=True, kind='mergesort')"
   ]
  },
  {
   "cell_type": "code",
   "execution_count": 20,
   "id": "6a2804e5",
   "metadata": {},
   "outputs": [],
   "source": [
    "all_races = all_races.append(ad_dl)\n",
    "all_races = all_races.sort_values(by=['Driver'], ascending=True, kind='mergesort')"
   ]
  },
  {
   "cell_type": "code",
   "execution_count": 21,
   "id": "974c05cb",
   "metadata": {
    "scrolled": true
   },
   "outputs": [],
   "source": [
    "# all_races.apply(lambda x: len(x.unique()))"
   ]
  },
  {
   "cell_type": "code",
   "execution_count": 22,
   "id": "cc4257f0",
   "metadata": {},
   "outputs": [
    {
     "data": {
      "text/plain": [
       "Lando  Norris  NOR          14\n",
       "Valtteri  Bottas  BOT       14\n",
       "Lewis  Hamilton  HAM        13\n",
       "Kimi  Räikkönen  RAI        13\n",
       "Esteban  Ocon  OCO          13\n",
       "Alexander  Albon  ALB       13\n",
       "Sebastian  Vettel  VET      13\n",
       "Daniel  Ricciardo  RIC      13\n",
       "Pierre  Gasly  GAS          12\n",
       "George  Russell  RUS        12\n",
       "Daniil  Kvyat  KVY          12\n",
       "Carlos  Sainz  SAI          11\n",
       "Charles  Leclerc  LEC       11\n",
       "Nicholas  Latifi  LAT       11\n",
       "Antonio  Giovinazzi  GIO    11\n",
       "Max  Verstappen  VER        10\n",
       "Sergio  Perez  PER          10\n",
       "Lance  Stroll  STR           9\n",
       "Romain  Grosjean  GRO        9\n",
       "Kevin  Magnussen  MAG        8\n",
       "Pietro  Fittipaldi  FIT      2\n",
       "Jack  Aitken  AIT            1\n",
       "Nico  Hulkenberg  HUL        1\n",
       "Name: Driver, dtype: int64"
      ]
     },
     "execution_count": 22,
     "metadata": {},
     "output_type": "execute_result"
    }
   ],
   "source": [
    "all_races['Driver'].value_counts()"
   ]
  },
  {
   "cell_type": "code",
   "execution_count": 23,
   "id": "6db86bc6",
   "metadata": {},
   "outputs": [],
   "source": [
    "all_races = all_races[~all_races['Driver'].isin(['Pietro  Fittipaldi  FIT'])]\n",
    "all_races = all_races[~all_races['Driver'].isin(['Nico  Hulkenberg  HUL'])]\n",
    "all_races = all_races[~all_races['Driver'].isin(['Jack  Aitken  AIT'])]"
   ]
  },
  {
   "cell_type": "code",
   "execution_count": 24,
   "id": "37fc4c93",
   "metadata": {
    "scrolled": true
   },
   "outputs": [],
   "source": [
    "all_races.drop(['Q1', 'Q2', 'Q3', 'racePoints'], axis=1, inplace=True)"
   ]
  },
  {
   "cell_type": "code",
   "execution_count": 33,
   "id": "590d6b72",
   "metadata": {},
   "outputs": [],
   "source": [
    "all_races['win'] = np.where(all_races['racePosition']==1.0, 1.0, 0)"
   ]
  },
  {
   "cell_type": "code",
   "execution_count": 35,
   "id": "7a2a363b",
   "metadata": {},
   "outputs": [],
   "source": [
    "all_races[\"racePosition\"] = pd.to_numeric(all_races[\"racePosition\"])"
   ]
  },
  {
   "cell_type": "code",
   "execution_count": 36,
   "id": "d647002c",
   "metadata": {},
   "outputs": [],
   "source": [
    "all_races.loc[all_races['racePosition'] == 1,'win'] = 1"
   ]
  },
  {
   "cell_type": "code",
   "execution_count": 37,
   "id": "7b54f286",
   "metadata": {},
   "outputs": [
    {
     "name": "stdout",
     "output_type": "stream",
     "text": [
      "Stored 'all_races' (DataFrame)\n"
     ]
    }
   ],
   "source": [
    "all_races['win'].unique()\n",
    "%store all_races"
   ]
  },
  {
   "cell_type": "code",
   "execution_count": 38,
   "id": "c3e013a2",
   "metadata": {},
   "outputs": [
    {
     "name": "stdout",
     "output_type": "stream",
     "text": [
      "Stored 'dict_of_drivers' (dict)\n"
     ]
    }
   ],
   "source": [
    "dict_of_drivers = {k: v for k, v in all_races.groupby('Driver')}\n",
    "all_drivers = list(dict_of_drivers.keys())\n",
    "%store dict_of_drivers"
   ]
  },
  {
   "cell_type": "code",
   "execution_count": null,
   "id": "bfe4c936",
   "metadata": {},
   "outputs": [],
   "source": []
  }
 ],
 "metadata": {
  "kernelspec": {
   "display_name": "Python 3",
   "language": "python",
   "name": "python3"
  },
  "language_info": {
   "codemirror_mode": {
    "name": "ipython",
    "version": 3
   },
   "file_extension": ".py",
   "mimetype": "text/x-python",
   "name": "python",
   "nbconvert_exporter": "python",
   "pygments_lexer": "ipython3",
   "version": "3.8.8"
  }
 },
 "nbformat": 4,
 "nbformat_minor": 5
}
