{
 "cells": [
  {
   "cell_type": "code",
   "execution_count": 1,
   "metadata": {},
   "outputs": [],
   "source": [
    "# initial run through of project"
   ]
  },
  {
   "cell_type": "code",
   "execution_count": 2,
   "metadata": {},
   "outputs": [],
   "source": [
    "# import necessary libraries\n",
    "\n",
    "import pandas as pd\n",
    "import numpy as np"
   ]
  },
  {
   "cell_type": "code",
   "execution_count": 3,
   "metadata": {
    "scrolled": true
   },
   "outputs": [
    {
     "name": "stdout",
     "output_type": "stream",
     "text": [
      "https://www.formula1.com/en/results.html/2020/races/1045/austria/practice-1.html\n",
      "https://www.formula1.com/en/results.html/2020/races/1045/austria/practice-2.html\n",
      "https://www.formula1.com/en/results.html/2020/races/1045/austria/practice-3.html\n",
      "https://www.formula1.com/en/results.html/2020/races/1045/austria/qualfying.html\n",
      "https://www.formula1.com/en/results.html/2020/races/1045/austria/race-result.html\n"
     ]
    }
   ],
   "source": [
    "# scraping data \n",
    "\n",
    "titles = ['practice-1', 'practice-2', 'practice-3', 'qualfying', 'race-result']\n",
    "url = 'https://www.formula1.com/en/results.html/2020/races/1045/austria/{}.html'\n",
    "\n",
    "for title in titles:\n",
    "    urls = url.format(title)\n",
    "    print(urls)"
   ]
  },
  {
   "cell_type": "code",
   "execution_count": 4,
   "metadata": {},
   "outputs": [],
   "source": [
    "OneP1_2020 = 'https://www.formula1.com/en/results.html/2020/races/1045/austria/practice-1.html'\n",
    "OneP2_2020 = 'https://www.formula1.com/en/results.html/2020/races/1045/austria/practice-2.html'\n",
    "OneP3_2020 = 'https://www.formula1.com/en/results.html/2020/races/1045/austria/practice-3.html'\n",
    "OneQ_2020 = 'https://www.formula1.com/en/results.html/2020/races/1045/austria/qualifying.html'\n",
    "OneRR_2020 = 'https://www.formula1.com/en/results.html/2020/races/1045/austria/race-result.html'"
   ]
  },
  {
   "cell_type": "code",
   "execution_count": 5,
   "metadata": {
    "scrolled": true
   },
   "outputs": [],
   "source": [
    "df_OneP1_2020 = pd.read_html(OneP1_2020, header=0)\n",
    "df_OneP2_2020 = pd.read_html(OneP2_2020, header=0)\n",
    "df_OneP3_2020 = pd.read_html(OneP3_2020, header=0)\n",
    "df_OneQ_2020 = pd.read_html(OneQ_2020, header=0)\n",
    "df_OneRR_2020 = pd.read_html(OneRR_2020, header=0)\n",
    "\n",
    "df_OneP1_2020 = df_OneP1_2020[0]\n",
    "df_OneP2_2020 = df_OneP2_2020[0]\n",
    "df_OneP3_2020 = df_OneP3_2020[0]\n",
    "df_OneQ_2020 = df_OneQ_2020[0]\n",
    "df_OneRR_2020 = df_OneRR_2020[0]"
   ]
  },
  {
   "cell_type": "code",
   "execution_count": 6,
   "metadata": {
    "scrolled": true
   },
   "outputs": [],
   "source": [
    "df_OneP1_2020.drop(['Unnamed: 0', 'Unnamed: 8', 'No'], axis=1, inplace=True)\n",
    "df_OneP2_2020.drop(['Unnamed: 0', 'Unnamed: 8', 'No'], axis=1, inplace=True)\n",
    "df_OneP3_2020.drop(['Unnamed: 0', 'Unnamed: 8', 'No'], axis=1, inplace=True)\n",
    "df_OneQ_2020.drop(['Unnamed: 0', 'Unnamed: 9', 'No'], axis=1, inplace=True)\n",
    "df_OneRR_2020.drop(['Unnamed: 0', 'Unnamed: 8', 'No'], axis=1, inplace=True)"
   ]
  },
  {
   "cell_type": "code",
   "execution_count": 7,
   "metadata": {},
   "outputs": [],
   "source": [
    "# df_OneP1_2020 = df_OneP1_2020.fillna(0)\n",
    "# df_OneP2_2020 = df_OneP2_2020.fillna(0)\n",
    "# df_OneP3_2020 = df_OneP3_2020.fillna(0)"
   ]
  },
  {
   "cell_type": "code",
   "execution_count": 8,
   "metadata": {},
   "outputs": [],
   "source": [
    "austria_GP = [df_OneP1_2020, df_OneP2_2020, df_OneP3_2020, df_OneQ_2020, df_OneRR_2020]"
   ]
  },
  {
   "cell_type": "code",
   "execution_count": 9,
   "metadata": {},
   "outputs": [],
   "source": [
    "austria_GP_0 = austria_GP[0]\n",
    "austria_GP_1 = austria_GP[1]\n",
    "austria_GP_2 = austria_GP[2]\n",
    "austria_GP_3 = austria_GP[3]\n",
    "austria_GP_4 = austria_GP[4]"
   ]
  },
  {
   "cell_type": "code",
   "execution_count": 10,
   "metadata": {},
   "outputs": [],
   "source": [
    "austria_allP = pd.concat([austria_GP_0, austria_GP_1, austria_GP_2])\n",
    "austria_allP = austria_allP.groupby('Driver').Pos.sum()\n",
    "austria_allP = pd.DataFrame(austria_allP)\n",
    "austria_allP.rename(columns = {'Pos': 'Pos_Practice'}, inplace = True)"
   ]
  },
  {
   "cell_type": "code",
   "execution_count": 11,
   "metadata": {},
   "outputs": [],
   "source": [
    "austriaQ = austria_GP_3.groupby('Driver').Pos.sum()\n",
    "austriaQ = pd.DataFrame(austriaQ)\n",
    "austriaQ.rename(columns = {'Pos': 'Pos_Qualifying'}, inplace = True)"
   ]
  },
  {
   "cell_type": "code",
   "execution_count": 12,
   "metadata": {},
   "outputs": [],
   "source": [
    "austriaR = austria_GP_4.groupby('Driver').Pos.sum()\n",
    "austriaR = pd.DataFrame(austriaR)\n",
    "austriaR.rename(columns = {'Pos': 'Pos_Race'}, inplace = True)"
   ]
  },
  {
   "cell_type": "code",
   "execution_count": 13,
   "metadata": {},
   "outputs": [],
   "source": [
    "austria_end = pd.concat([austria_allP, austriaQ, austriaR], axis=1)"
   ]
  },
  {
   "cell_type": "code",
   "execution_count": 14,
   "metadata": {},
   "outputs": [],
   "source": [
    "austria_GP_0.sort_values(by=['Driver'], inplace=True)\n",
    "austria_GP_1.sort_values(by=['Driver'], inplace=True)\n",
    "austria_GP_2.sort_values(by=['Driver'], inplace=True)\n",
    "austria_GP_3.sort_values(by=['Driver'], inplace=True)\n",
    "austria_GP_4.sort_values(by=['Driver'], inplace=True)"
   ]
  },
  {
   "cell_type": "code",
   "execution_count": 15,
   "metadata": {},
   "outputs": [],
   "source": [
    "# austria_dl = pd.concat([austria_GP_0, austria_GP_1, austria_GP_2, austria_GP_3, austria_GP_4], ignore_index=True)\n",
    "austria_dl = pd.merge(austria_GP_0, austria_GP_1, on='Driver', how='outer')\n",
    "austria_dl = pd.merge(austria_dl, austria_GP_2, on='Driver', how='outer')\n",
    "austria_dl = pd.merge(austria_dl, austria_GP_3, on='Driver', how='outer')\n",
    "austria_dl = pd.merge(austria_dl, austria_GP_4, on='Driver', how='outer')"
   ]
  },
  {
   "cell_type": "code",
   "execution_count": 16,
   "metadata": {
    "scrolled": true
   },
   "outputs": [
    {
     "data": {
      "text/plain": [
       "['Pos_x',\n",
       " 'Driver',\n",
       " 'Car_x',\n",
       " 'Time_x',\n",
       " 'Gap_x',\n",
       " 'Laps_x',\n",
       " 'Pos_y',\n",
       " 'Car_y',\n",
       " 'Time_y',\n",
       " 'Gap_y',\n",
       " 'Laps_y',\n",
       " 'Pos_x',\n",
       " 'Car_x',\n",
       " 'Time',\n",
       " 'Gap',\n",
       " 'Laps_x',\n",
       " 'Pos_y',\n",
       " 'Car_y',\n",
       " 'Q1',\n",
       " 'Q2',\n",
       " 'Q3',\n",
       " 'Laps_y',\n",
       " 'Pos',\n",
       " 'Car',\n",
       " 'Laps',\n",
       " 'Time/Retired',\n",
       " 'PTS']"
      ]
     },
     "execution_count": 16,
     "metadata": {},
     "output_type": "execute_result"
    }
   ],
   "source": [
    "change_dups = austria_dl.columns.values.tolist()\n",
    "change_dups"
   ]
  },
  {
   "cell_type": "code",
   "execution_count": 17,
   "metadata": {},
   "outputs": [
    {
     "data": {
      "text/plain": [
       "['Pos_x',\n",
       " 'Driver',\n",
       " 'Car_x',\n",
       " 'Time_x',\n",
       " 'Gap_x',\n",
       " 'Laps_x',\n",
       " 'Pos_y',\n",
       " 'Car_y',\n",
       " 'Time_y',\n",
       " 'Gap_y',\n",
       " 'Laps_y',\n",
       " 'Pos_x_2',\n",
       " 'Car_x_2',\n",
       " 'Time',\n",
       " 'Gap',\n",
       " 'Laps_x_2',\n",
       " 'Pos_y_2',\n",
       " 'Car_y_2',\n",
       " 'Q1',\n",
       " 'Q2',\n",
       " 'Q3',\n",
       " 'Laps_y_2',\n",
       " 'Pos',\n",
       " 'Car',\n",
       " 'Laps',\n",
       " 'Time/Retired',\n",
       " 'PTS']"
      ]
     },
     "execution_count": 17,
     "metadata": {},
     "output_type": "execute_result"
    }
   ],
   "source": [
    "def uniquify(change_dups):\n",
    "    seen = set()\n",
    "    \n",
    "    for dup in change_dups:\n",
    "        name = 1\n",
    "        new_name = dup\n",
    "        \n",
    "        while new_name in seen:\n",
    "            name += 1\n",
    "            new_name = \"{}_{}\".format(dup, name)\n",
    "            \n",
    "        yield new_name\n",
    "        seen.add(new_name)\n",
    "        \n",
    "list(uniquify(change_dups))"
   ]
  },
  {
   "cell_type": "code",
   "execution_count": 18,
   "metadata": {},
   "outputs": [],
   "source": [
    "austria_dl = austria_dl.set_axis(['Pos_x',\n",
    " 'Driver',\n",
    " 'Car_x',\n",
    " 'Time_x',\n",
    " 'Gap_x',\n",
    " 'Laps_x',\n",
    " 'Pos_y',\n",
    " 'Car_y',\n",
    " 'Time_y',\n",
    " 'Gap_y',\n",
    " 'Laps_y',\n",
    " 'Pos_x_2',\n",
    " 'Car_x_2',\n",
    " 'Time',\n",
    " 'Gap',\n",
    " 'Laps_x_2',\n",
    " 'Pos_y_2',\n",
    " 'Car_y_2',\n",
    " 'Q1',\n",
    " 'Q2',\n",
    " 'Q3',\n",
    " 'Laps_y_2',\n",
    " 'Pos',\n",
    " 'Car',\n",
    " 'Laps',\n",
    " 'Time/Retired',\n",
    " 'PTS'], axis=1, inplace=False)"
   ]
  },
  {
   "cell_type": "code",
   "execution_count": 19,
   "metadata": {
    "scrolled": false
   },
   "outputs": [],
   "source": [
    "pd.set_option('display.max_columns', None)"
   ]
  },
  {
   "cell_type": "code",
   "execution_count": 20,
   "metadata": {
    "scrolled": true
   },
   "outputs": [
    {
     "data": {
      "text/plain": [
       "['Pos_x',\n",
       " 'Driver',\n",
       " 'Car_x',\n",
       " 'Time_x',\n",
       " 'Gap_x',\n",
       " 'Laps_x',\n",
       " 'Pos_y',\n",
       " 'Car_y',\n",
       " 'Time_y',\n",
       " 'Gap_y',\n",
       " 'Laps_y',\n",
       " 'Pos_x',\n",
       " 'Car_x',\n",
       " 'Time',\n",
       " 'Gap',\n",
       " 'Laps_x',\n",
       " 'Pos_y',\n",
       " 'Car_y',\n",
       " 'Q1',\n",
       " 'Q2',\n",
       " 'Q3',\n",
       " 'Laps_y',\n",
       " 'Pos',\n",
       " 'Car',\n",
       " 'Laps',\n",
       " 'Time/Retired',\n",
       " 'PTS']"
      ]
     },
     "execution_count": 20,
     "metadata": {},
     "output_type": "execute_result"
    }
   ],
   "source": [
    "change_dups"
   ]
  },
  {
   "cell_type": "code",
   "execution_count": 21,
   "metadata": {},
   "outputs": [],
   "source": [
    "new_names = ['Pos1',\n",
    " 'Driver1',\n",
    " 'Car1',\n",
    " 'Time1',\n",
    " 'Gap1',\n",
    " 'Laps1',\n",
    " 'Pos2',\n",
    " 'Car2',\n",
    " 'Time2',\n",
    " 'Gap2',\n",
    " 'Laps2',\n",
    " 'Pos3',\n",
    " 'Car3',\n",
    " 'Time3',\n",
    " 'Gap3',\n",
    " 'Laps3',\n",
    " 'PosQ',\n",
    " 'CarQ',\n",
    " 'Q1_Q',\n",
    " 'Q2_Q',\n",
    " 'Q3_Q',\n",
    " 'LapsQ',\n",
    " 'PosRR',\n",
    " 'CarRR',\n",
    " 'LapsRR',\n",
    " 'Time/Retired_RR',\n",
    " 'PTS_RR']"
   ]
  },
  {
   "cell_type": "code",
   "execution_count": 22,
   "metadata": {},
   "outputs": [],
   "source": [
    "austria_dl.columns = ['Pos1',\n",
    " 'Driver1',\n",
    " 'Car1',\n",
    " 'Time1',\n",
    " 'Gap1',\n",
    " 'Laps1',\n",
    " 'Pos2',\n",
    " 'Car2',\n",
    " 'Time2',\n",
    " 'Gap2',\n",
    " 'Laps2',\n",
    " 'Pos3',\n",
    " 'Car3',\n",
    " 'Time3',\n",
    " 'Gap3',\n",
    " 'Laps3',\n",
    " 'PosQ',\n",
    " 'CarQ',\n",
    " 'Q1_Q',\n",
    " 'Q2_Q',\n",
    " 'Q3_Q',\n",
    " 'LapsQ',\n",
    " 'PosRR',\n",
    " 'CarRR',\n",
    " 'LapsRR',\n",
    " 'Time/Retired_RR',\n",
    " 'PTS_RR']"
   ]
  },
  {
   "cell_type": "code",
   "execution_count": 23,
   "metadata": {},
   "outputs": [],
   "source": [
    "austria_dl.drop(['Car2', 'Car3', 'CarQ', 'CarRR'], axis=1, inplace=True)"
   ]
  },
  {
   "cell_type": "code",
   "execution_count": 24,
   "metadata": {},
   "outputs": [],
   "source": [
    "# austria_dl = austria_dl.fillna('n/a')"
   ]
  },
  {
   "cell_type": "code",
   "execution_count": 25,
   "metadata": {
    "scrolled": true
   },
   "outputs": [],
   "source": [
    "names_list = list(austria_dl.columns)\n",
    "\n",
    "new_names_list = []\n",
    "\n",
    "for names in names_list:\n",
    "    names = 'austria_' + names\n",
    "    new_names_list.append(names)\n",
    "    \n",
    "austria_dl.columns = new_names_list"
   ]
  },
  {
   "cell_type": "code",
   "execution_count": 26,
   "metadata": {},
   "outputs": [],
   "source": [
    "austria_dl = austria_dl[~austria_dl['austria_Time/Retired_RR'].isin(['DNF'])]"
   ]
  },
  {
   "cell_type": "code",
   "execution_count": 27,
   "metadata": {
    "scrolled": false
   },
   "outputs": [],
   "source": [
    "pd.options.mode.chained_assignment = None  # default='warn'\n",
    "austria_dl.drop(austria_dl.columns[[4, 5, 8, 9, 12, 13, 18, 20, 21]], axis=1, inplace=True)"
   ]
  },
  {
   "cell_type": "code",
   "execution_count": 28,
   "metadata": {},
   "outputs": [],
   "source": [
    "# austria_dl.iloc[:, 9] = austria_dl.iloc[:, 9].apply(lambda x: 1 if not pd.isnull(x) else 0)\n",
    "# austria_dl.iloc[:, 10] = austria_dl.iloc[:, 10].apply(lambda x: 1 if not pd.isnull(x) else 0)\n",
    "# austria_dl.iloc[:, 11] = austria_dl.iloc[:, 11].apply(lambda x: 1 if not pd.isnull(x) else 0)"
   ]
  },
  {
   "cell_type": "code",
   "execution_count": 29,
   "metadata": {},
   "outputs": [],
   "source": [
    "def qualifying_values(race):\n",
    "    race.iloc[:, 9] = race.iloc[:, 9].apply(lambda x: 1 if not pd.isnull(x) else 0)\n",
    "    race.iloc[:, 10] = race.iloc[:, 10].apply(lambda x: 1 if not pd.isnull(x) else 0)\n",
    "    race.iloc[:, 11] = race.iloc[:, 11].apply(lambda x: 1 if not pd.isnull(x) else 0)"
   ]
  },
  {
   "cell_type": "code",
   "execution_count": 30,
   "metadata": {},
   "outputs": [],
   "source": [
    "qualifying_values(austria_dl)"
   ]
  },
  {
   "cell_type": "code",
   "execution_count": 31,
   "metadata": {},
   "outputs": [],
   "source": [
    "austria_dl.drop(['austria_Time1', 'austria_Time2', 'austria_Time3'], axis=1, inplace=True)"
   ]
  },
  {
   "cell_type": "code",
   "execution_count": 32,
   "metadata": {
    "scrolled": true
   },
   "outputs": [
    {
     "data": {
      "text/html": [
       "<div>\n",
       "<style scoped>\n",
       "    .dataframe tbody tr th:only-of-type {\n",
       "        vertical-align: middle;\n",
       "    }\n",
       "\n",
       "    .dataframe tbody tr th {\n",
       "        vertical-align: top;\n",
       "    }\n",
       "\n",
       "    .dataframe thead th {\n",
       "        text-align: right;\n",
       "    }\n",
       "</style>\n",
       "<table border=\"1\" class=\"dataframe\">\n",
       "  <thead>\n",
       "    <tr style=\"text-align: right;\">\n",
       "      <th></th>\n",
       "      <th>austria_Pos1</th>\n",
       "      <th>austria_Driver1</th>\n",
       "      <th>austria_Car1</th>\n",
       "      <th>austria_Pos2</th>\n",
       "      <th>austria_Pos3</th>\n",
       "      <th>austria_PosQ</th>\n",
       "      <th>austria_Q1_Q</th>\n",
       "      <th>austria_Q2_Q</th>\n",
       "      <th>austria_Q3_Q</th>\n",
       "      <th>austria_PosRR</th>\n",
       "      <th>austria_PTS_RR</th>\n",
       "    </tr>\n",
       "  </thead>\n",
       "  <tbody>\n",
       "    <tr>\n",
       "      <th>1</th>\n",
       "      <td>14</td>\n",
       "      <td>Antonio  Giovinazzi  GIO</td>\n",
       "      <td>Alfa Romeo Racing Ferrari</td>\n",
       "      <td>14</td>\n",
       "      <td>18</td>\n",
       "      <td>18</td>\n",
       "      <td>1</td>\n",
       "      <td>0</td>\n",
       "      <td>0</td>\n",
       "      <td>9</td>\n",
       "      <td>2</td>\n",
       "    </tr>\n",
       "    <tr>\n",
       "      <th>2</th>\n",
       "      <td>4</td>\n",
       "      <td>Carlos  Sainz  SAI</td>\n",
       "      <td>McLaren Renault</td>\n",
       "      <td>10</td>\n",
       "      <td>13</td>\n",
       "      <td>8</td>\n",
       "      <td>1</td>\n",
       "      <td>1</td>\n",
       "      <td>1</td>\n",
       "      <td>5</td>\n",
       "      <td>10</td>\n",
       "    </tr>\n",
       "    <tr>\n",
       "      <th>3</th>\n",
       "      <td>10</td>\n",
       "      <td>Charles  Leclerc  LEC</td>\n",
       "      <td>Ferrari</td>\n",
       "      <td>9</td>\n",
       "      <td>5</td>\n",
       "      <td>7</td>\n",
       "      <td>1</td>\n",
       "      <td>1</td>\n",
       "      <td>1</td>\n",
       "      <td>2</td>\n",
       "      <td>18</td>\n",
       "    </tr>\n",
       "    <tr>\n",
       "      <th>6</th>\n",
       "      <td>13</td>\n",
       "      <td>Esteban  Ocon  OCO</td>\n",
       "      <td>Renault</td>\n",
       "      <td>11</td>\n",
       "      <td>11</td>\n",
       "      <td>14</td>\n",
       "      <td>1</td>\n",
       "      <td>1</td>\n",
       "      <td>0</td>\n",
       "      <td>8</td>\n",
       "      <td>4</td>\n",
       "    </tr>\n",
       "    <tr>\n",
       "      <th>11</th>\n",
       "      <td>6</td>\n",
       "      <td>Lando  Norris  NOR</td>\n",
       "      <td>McLaren Renault</td>\n",
       "      <td>6</td>\n",
       "      <td>10</td>\n",
       "      <td>4</td>\n",
       "      <td>1</td>\n",
       "      <td>1</td>\n",
       "      <td>1</td>\n",
       "      <td>3</td>\n",
       "      <td>16</td>\n",
       "    </tr>\n",
       "    <tr>\n",
       "      <th>12</th>\n",
       "      <td>1</td>\n",
       "      <td>Lewis  Hamilton  HAM</td>\n",
       "      <td>Mercedes</td>\n",
       "      <td>1</td>\n",
       "      <td>1</td>\n",
       "      <td>2</td>\n",
       "      <td>1</td>\n",
       "      <td>1</td>\n",
       "      <td>1</td>\n",
       "      <td>4</td>\n",
       "      <td>12</td>\n",
       "    </tr>\n",
       "    <tr>\n",
       "      <th>14</th>\n",
       "      <td>18</td>\n",
       "      <td>Nicholas  Latifi  LAT</td>\n",
       "      <td>Williams Mercedes</td>\n",
       "      <td>20</td>\n",
       "      <td>20</td>\n",
       "      <td>20</td>\n",
       "      <td>1</td>\n",
       "      <td>0</td>\n",
       "      <td>0</td>\n",
       "      <td>11</td>\n",
       "      <td>0</td>\n",
       "    </tr>\n",
       "    <tr>\n",
       "      <th>15</th>\n",
       "      <td>16</td>\n",
       "      <td>Pierre  Gasly  GAS</td>\n",
       "      <td>AlphaTauri Honda</td>\n",
       "      <td>17</td>\n",
       "      <td>9</td>\n",
       "      <td>12</td>\n",
       "      <td>1</td>\n",
       "      <td>1</td>\n",
       "      <td>0</td>\n",
       "      <td>7</td>\n",
       "      <td>6</td>\n",
       "    </tr>\n",
       "    <tr>\n",
       "      <th>17</th>\n",
       "      <td>12</td>\n",
       "      <td>Sebastian  Vettel  VET</td>\n",
       "      <td>Ferrari</td>\n",
       "      <td>4</td>\n",
       "      <td>7</td>\n",
       "      <td>11</td>\n",
       "      <td>1</td>\n",
       "      <td>1</td>\n",
       "      <td>0</td>\n",
       "      <td>10</td>\n",
       "      <td>1</td>\n",
       "    </tr>\n",
       "    <tr>\n",
       "      <th>18</th>\n",
       "      <td>5</td>\n",
       "      <td>Sergio  Perez  PER</td>\n",
       "      <td>Racing Point BWT Mercedes</td>\n",
       "      <td>3</td>\n",
       "      <td>4</td>\n",
       "      <td>6</td>\n",
       "      <td>1</td>\n",
       "      <td>1</td>\n",
       "      <td>1</td>\n",
       "      <td>6</td>\n",
       "      <td>8</td>\n",
       "    </tr>\n",
       "    <tr>\n",
       "      <th>19</th>\n",
       "      <td>2</td>\n",
       "      <td>Valtteri  Bottas  BOT</td>\n",
       "      <td>Mercedes</td>\n",
       "      <td>2</td>\n",
       "      <td>2</td>\n",
       "      <td>1</td>\n",
       "      <td>1</td>\n",
       "      <td>1</td>\n",
       "      <td>1</td>\n",
       "      <td>1</td>\n",
       "      <td>25</td>\n",
       "    </tr>\n",
       "  </tbody>\n",
       "</table>\n",
       "</div>"
      ],
      "text/plain": [
       "    austria_Pos1           austria_Driver1               austria_Car1  \\\n",
       "1             14  Antonio  Giovinazzi  GIO  Alfa Romeo Racing Ferrari   \n",
       "2              4        Carlos  Sainz  SAI            McLaren Renault   \n",
       "3             10     Charles  Leclerc  LEC                    Ferrari   \n",
       "6             13        Esteban  Ocon  OCO                    Renault   \n",
       "11             6        Lando  Norris  NOR            McLaren Renault   \n",
       "12             1      Lewis  Hamilton  HAM                   Mercedes   \n",
       "14            18     Nicholas  Latifi  LAT          Williams Mercedes   \n",
       "15            16        Pierre  Gasly  GAS           AlphaTauri Honda   \n",
       "17            12    Sebastian  Vettel  VET                    Ferrari   \n",
       "18             5        Sergio  Perez  PER  Racing Point BWT Mercedes   \n",
       "19             2     Valtteri  Bottas  BOT                   Mercedes   \n",
       "\n",
       "    austria_Pos2  austria_Pos3  austria_PosQ  austria_Q1_Q  austria_Q2_Q  \\\n",
       "1             14            18            18             1             0   \n",
       "2             10            13             8             1             1   \n",
       "3              9             5             7             1             1   \n",
       "6             11            11            14             1             1   \n",
       "11             6            10             4             1             1   \n",
       "12             1             1             2             1             1   \n",
       "14            20            20            20             1             0   \n",
       "15            17             9            12             1             1   \n",
       "17             4             7            11             1             1   \n",
       "18             3             4             6             1             1   \n",
       "19             2             2             1             1             1   \n",
       "\n",
       "    austria_Q3_Q austria_PosRR  austria_PTS_RR  \n",
       "1              0             9               2  \n",
       "2              1             5              10  \n",
       "3              1             2              18  \n",
       "6              0             8               4  \n",
       "11             1             3              16  \n",
       "12             1             4              12  \n",
       "14             0            11               0  \n",
       "15             0             7               6  \n",
       "17             0            10               1  \n",
       "18             1             6               8  \n",
       "19             1             1              25  "
      ]
     },
     "execution_count": 32,
     "metadata": {},
     "output_type": "execute_result"
    }
   ],
   "source": [
    "austria_dl"
   ]
  },
  {
   "cell_type": "code",
   "execution_count": 33,
   "metadata": {},
   "outputs": [
    {
     "name": "stdout",
     "output_type": "stream",
     "text": [
      "Stored 'austria_dl' (DataFrame)\n"
     ]
    }
   ],
   "source": [
    "%store austria_dl"
   ]
  }
 ],
 "metadata": {
  "kernelspec": {
   "display_name": "Python 3",
   "language": "python",
   "name": "python3"
  },
  "language_info": {
   "codemirror_mode": {
    "name": "ipython",
    "version": 3
   },
   "file_extension": ".py",
   "mimetype": "text/x-python",
   "name": "python",
   "nbconvert_exporter": "python",
   "pygments_lexer": "ipython3",
   "version": "3.8.8"
  }
 },
 "nbformat": 4,
 "nbformat_minor": 4
}
