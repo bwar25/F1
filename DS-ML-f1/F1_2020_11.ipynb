{
 "cells": [
  {
   "cell_type": "code",
   "execution_count": 1,
   "metadata": {},
   "outputs": [],
   "source": [
    "# initial run through of project"
   ]
  },
  {
   "cell_type": "code",
   "execution_count": 2,
   "metadata": {},
   "outputs": [],
   "source": [
    "# import necessary libraries\n",
    "\n",
    "import pandas as pd"
   ]
  },
  {
   "cell_type": "code",
   "execution_count": 3,
   "metadata": {},
   "outputs": [
    {
     "name": "stdout",
     "output_type": "stream",
     "text": [
      "https://www.formula1.com/en/results.html/2020/races/1055/germany/practice-3.html\n",
      "https://www.formula1.com/en/results.html/2020/races/1055/germany/qualifying.html\n",
      "https://www.formula1.com/en/results.html/2020/races/1055/germany/race-result.html\n"
     ]
    }
   ],
   "source": [
    "# scraping data \n",
    "\n",
    "titles = ['practice-3', 'qualifying', 'race-result']\n",
    "url = 'https://www.formula1.com/en/results.html/2020/races/1055/germany/{}.html'\n",
    "\n",
    "for title in titles:\n",
    "    urls = url.format(title)\n",
    "    print(urls)"
   ]
  },
  {
   "cell_type": "code",
   "execution_count": 4,
   "metadata": {},
   "outputs": [],
   "source": [
    "ElevenP3_2020 ='https://www.formula1.com/en/results.html/2020/races/1055/germany/practice-3.html'\n",
    "ElevenQ_2020 = 'https://www.formula1.com/en/results.html/2020/races/1055/germany/qualifying.html'\n",
    "ElevenRR_2020 = 'https://www.formula1.com/en/results.html/2020/races/1055/germany/race-result.html'"
   ]
  },
  {
   "cell_type": "code",
   "execution_count": 5,
   "metadata": {},
   "outputs": [],
   "source": [
    "df_ElevenP3_2020 = pd.read_html(ElevenP3_2020, header=0)\n",
    "df_ElevenQ_2020 = pd.read_html(ElevenQ_2020, header=0)\n",
    "df_ElevenRR_2020 = pd.read_html(ElevenRR_2020, header=0)\n",
    "\n",
    "df_ElevenP3_2020 = df_ElevenP3_2020[0]\n",
    "df_ElevenQ_2020 = df_ElevenQ_2020[0]\n",
    "df_ElevenRR_2020 = df_ElevenRR_2020[0]"
   ]
  },
  {
   "cell_type": "code",
   "execution_count": 6,
   "metadata": {},
   "outputs": [],
   "source": [
    "df_ElevenP3_2020.drop(['Unnamed: 0', 'Unnamed: 8', 'No'], axis=1, inplace=True)\n",
    "df_ElevenQ_2020.drop(['Unnamed: 0', 'Unnamed: 9', 'No'], axis=1, inplace=True)\n",
    "df_ElevenRR_2020.drop(['Unnamed: 0', 'Unnamed: 8', 'No'], axis=1, inplace=True)"
   ]
  },
  {
   "cell_type": "code",
   "execution_count": 7,
   "metadata": {},
   "outputs": [],
   "source": [
    "# df_ElevenP3_2020 = df_ElevenP3_2020.fillna(0)"
   ]
  },
  {
   "cell_type": "code",
   "execution_count": 8,
   "metadata": {},
   "outputs": [],
   "source": [
    "eifel_GP = [df_ElevenP3_2020, df_ElevenQ_2020, df_ElevenRR_2020]"
   ]
  },
  {
   "cell_type": "code",
   "execution_count": 9,
   "metadata": {},
   "outputs": [],
   "source": [
    "eifel_GP_0 = eifel_GP[0]\n",
    "eifel_GP_1 = eifel_GP[1]\n",
    "eifel_GP_2 = eifel_GP[2]"
   ]
  },
  {
   "cell_type": "code",
   "execution_count": 10,
   "metadata": {},
   "outputs": [],
   "source": [
    "eifel_allP = eifel_GP[0]\n",
    "eifel_allP = eifel_allP.groupby('Driver').Pos.sum()\n",
    "eifel_allP = pd.DataFrame(eifel_allP)\n",
    "eifel_allP.rename(columns = {'Pos': 'Pos_Practice'}, inplace = True)"
   ]
  },
  {
   "cell_type": "code",
   "execution_count": 11,
   "metadata": {},
   "outputs": [],
   "source": [
    "eifelQ = eifel_GP_1.groupby('Driver').Pos.sum()\n",
    "eifelQ = pd.DataFrame(eifelQ)\n",
    "eifelQ.rename(columns = {'Pos': 'Pos_Qualifying'}, inplace = True)"
   ]
  },
  {
   "cell_type": "code",
   "execution_count": 12,
   "metadata": {},
   "outputs": [],
   "source": [
    "eifelR = eifel_GP_2.groupby('Driver').Pos.sum()\n",
    "eifelR = pd.DataFrame(eifelR)\n",
    "eifelR.rename(columns = {'Pos': 'Pos_Race'}, inplace = True)"
   ]
  },
  {
   "cell_type": "code",
   "execution_count": 13,
   "metadata": {},
   "outputs": [],
   "source": [
    "eifel_end = pd.concat([eifel_allP, eifelQ, eifelR], axis=1)"
   ]
  },
  {
   "cell_type": "code",
   "execution_count": 14,
   "metadata": {},
   "outputs": [],
   "source": [
    "eifel_GP_0.sort_values(by=['Driver'], inplace=True)\n",
    "eifel_GP_1.sort_values(by=['Driver'], inplace=True)\n",
    "eifel_GP_2.sort_values(by=['Driver'], inplace=True)"
   ]
  },
  {
   "cell_type": "code",
   "execution_count": 15,
   "metadata": {},
   "outputs": [],
   "source": [
    "eifel_dl = pd.merge(eifel_GP_0, eifel_GP_1, on='Driver', how='outer')\n",
    "eifel_dl = pd.merge(eifel_dl, eifel_GP_2, on='Driver', how='outer')"
   ]
  },
  {
   "cell_type": "code",
   "execution_count": 16,
   "metadata": {},
   "outputs": [
    {
     "data": {
      "text/plain": [
       "['Pos_x',\n",
       " 'Driver',\n",
       " 'Car_x',\n",
       " 'Time',\n",
       " 'Gap',\n",
       " 'Laps_x',\n",
       " 'Pos_y',\n",
       " 'Car_y',\n",
       " 'Q1',\n",
       " 'Q2',\n",
       " 'Q3',\n",
       " 'Laps_y',\n",
       " 'Pos',\n",
       " 'Car',\n",
       " 'Laps',\n",
       " 'Time/Retired',\n",
       " 'PTS']"
      ]
     },
     "execution_count": 16,
     "metadata": {},
     "output_type": "execute_result"
    }
   ],
   "source": [
    "change_dups = eifel_dl.columns.values.tolist()\n",
    "change_dups"
   ]
  },
  {
   "cell_type": "code",
   "execution_count": 17,
   "metadata": {},
   "outputs": [
    {
     "data": {
      "text/plain": [
       "['Pos_x',\n",
       " 'Driver',\n",
       " 'Car_x',\n",
       " 'Time',\n",
       " 'Gap',\n",
       " 'Laps_x',\n",
       " 'Pos_y',\n",
       " 'Car_y',\n",
       " 'Q1',\n",
       " 'Q2',\n",
       " 'Q3',\n",
       " 'Laps_y',\n",
       " 'Pos',\n",
       " 'Car',\n",
       " 'Laps',\n",
       " 'Time/Retired',\n",
       " 'PTS']"
      ]
     },
     "execution_count": 17,
     "metadata": {},
     "output_type": "execute_result"
    }
   ],
   "source": [
    "def uniquify(change_dups):\n",
    "    seen = set()\n",
    "    \n",
    "    for dup in change_dups:\n",
    "        name = 1\n",
    "        new_name = dup\n",
    "        \n",
    "        while new_name in seen:\n",
    "            name += 1\n",
    "            new_name = \"{}_{}\".format(dup, name)\n",
    "            \n",
    "        yield new_name\n",
    "        seen.add(new_name)\n",
    "        \n",
    "list(uniquify(change_dups))"
   ]
  },
  {
   "cell_type": "code",
   "execution_count": 18,
   "metadata": {},
   "outputs": [],
   "source": [
    "eifel_dl = eifel_dl.set_axis(['Pos_x',\n",
    " 'Driver',\n",
    " 'Car_x',\n",
    " 'Time',\n",
    " 'Gap',\n",
    " 'Laps_x',\n",
    " 'Pos_y',\n",
    " 'Car_y',\n",
    " 'Q1',\n",
    " 'Q2',\n",
    " 'Q3',\n",
    " 'Laps_y',\n",
    " 'Pos',\n",
    " 'Car',\n",
    " 'Laps',\n",
    " 'Time/Retired',\n",
    " 'PTS'], axis=1, inplace=False)"
   ]
  },
  {
   "cell_type": "code",
   "execution_count": 19,
   "metadata": {},
   "outputs": [
    {
     "data": {
      "text/plain": [
       "['Pos_x',\n",
       " 'Driver',\n",
       " 'Car_x',\n",
       " 'Time',\n",
       " 'Gap',\n",
       " 'Laps_x',\n",
       " 'Pos_y',\n",
       " 'Car_y',\n",
       " 'Q1',\n",
       " 'Q2',\n",
       " 'Q3',\n",
       " 'Laps_y',\n",
       " 'Pos',\n",
       " 'Car',\n",
       " 'Laps',\n",
       " 'Time/Retired',\n",
       " 'PTS']"
      ]
     },
     "execution_count": 19,
     "metadata": {},
     "output_type": "execute_result"
    }
   ],
   "source": [
    "change_dups"
   ]
  },
  {
   "cell_type": "code",
   "execution_count": 20,
   "metadata": {},
   "outputs": [],
   "source": [
    "new_names = ['Pos1',\n",
    " 'Driver1',\n",
    " 'Car1',\n",
    " 'Time3',\n",
    " 'Gap3',\n",
    " 'Laps3',\n",
    " 'PosQ',\n",
    " 'CarQ',\n",
    " 'Q1_Q',\n",
    " 'Q2_Q',\n",
    " 'Q3_Q',\n",
    " 'LapsQ',\n",
    " 'PosRR',\n",
    " 'CarRR',\n",
    " 'LapsRR',\n",
    " 'Time/Retired_RR',\n",
    " 'PTS_RR']"
   ]
  },
  {
   "cell_type": "code",
   "execution_count": 21,
   "metadata": {},
   "outputs": [],
   "source": [
    "eifel_dl.columns = ['Pos1',\n",
    " 'Driver1',\n",
    " 'Car1',\n",
    " 'Time3',\n",
    " 'Gap3',\n",
    " 'Laps3',\n",
    " 'PosQ',\n",
    " 'CarQ',\n",
    " 'Q1_Q',\n",
    " 'Q2_Q',\n",
    " 'Q3_Q',\n",
    " 'LapsQ',\n",
    " 'PosRR',\n",
    " 'CarRR',\n",
    " 'LapsRR',\n",
    " 'Time/Retired_RR',\n",
    " 'PTS_RR']"
   ]
  },
  {
   "cell_type": "code",
   "execution_count": 22,
   "metadata": {},
   "outputs": [],
   "source": [
    "eifel_dl.drop(['CarQ', 'CarRR'], axis=1, inplace=True)"
   ]
  },
  {
   "cell_type": "code",
   "execution_count": 23,
   "metadata": {},
   "outputs": [],
   "source": [
    "# eifel_dl = eifel_dl.fillna('n/a')"
   ]
  },
  {
   "cell_type": "code",
   "execution_count": 24,
   "metadata": {},
   "outputs": [],
   "source": [
    "names_list = list(eifel_dl.columns)\n",
    "\n",
    "new_names_list = []\n",
    "\n",
    "for names in names_list:\n",
    "    names = 'eifel_' + names\n",
    "    new_names_list.append(names)\n",
    "    \n",
    "eifel_dl.columns = new_names_list"
   ]
  },
  {
   "cell_type": "code",
   "execution_count": 25,
   "metadata": {},
   "outputs": [],
   "source": [
    "eifel_dl = eifel_dl[~eifel_dl['eifel_Time/Retired_RR'].isin(['DNF'])]"
   ]
  },
  {
   "cell_type": "code",
   "execution_count": 26,
   "metadata": {},
   "outputs": [],
   "source": [
    "pd.options.mode.chained_assignment = None  # default='warn'\n",
    "eifel_dl.drop(eifel_dl.columns[[4, 5, 10, 12, 13]], axis=1, inplace=True)"
   ]
  },
  {
   "cell_type": "code",
   "execution_count": 27,
   "metadata": {},
   "outputs": [],
   "source": [
    "eifel_dl.drop(['eifel_Time3'], axis=1, inplace=True)"
   ]
  },
  {
   "cell_type": "code",
   "execution_count": 28,
   "metadata": {},
   "outputs": [],
   "source": [
    "def qualifying_values(race):\n",
    "    race.iloc[:, 4] = race.iloc[:, 4].apply(lambda x: 1 if not pd.isnull(x) else 0)\n",
    "    race.iloc[:, 5] = race.iloc[:, 5].apply(lambda x: 1 if not pd.isnull(x) else 0)\n",
    "    race.iloc[:, 6] = race.iloc[:, 6].apply(lambda x: 1 if not pd.isnull(x) else 0)"
   ]
  },
  {
   "cell_type": "code",
   "execution_count": 29,
   "metadata": {},
   "outputs": [],
   "source": [
    "qualifying_values(eifel_dl)"
   ]
  },
  {
   "cell_type": "code",
   "execution_count": 30,
   "metadata": {},
   "outputs": [],
   "source": [
    "eifel_dl['eifel_Pos1'] = eifel_dl['eifel_Pos1'].fillna(20.0)"
   ]
  },
  {
   "cell_type": "code",
   "execution_count": 31,
   "metadata": {},
   "outputs": [],
   "source": [
    "eifel_dl['eifel_Car1'] = eifel_dl['eifel_Car1'].fillna('Racing Point BWT Mercedes')"
   ]
  },
  {
   "cell_type": "code",
   "execution_count": 32,
   "metadata": {
    "scrolled": true
   },
   "outputs": [
    {
     "data": {
      "text/html": [
       "<div>\n",
       "<style scoped>\n",
       "    .dataframe tbody tr th:only-of-type {\n",
       "        vertical-align: middle;\n",
       "    }\n",
       "\n",
       "    .dataframe tbody tr th {\n",
       "        vertical-align: top;\n",
       "    }\n",
       "\n",
       "    .dataframe thead th {\n",
       "        text-align: right;\n",
       "    }\n",
       "</style>\n",
       "<table border=\"1\" class=\"dataframe\">\n",
       "  <thead>\n",
       "    <tr style=\"text-align: right;\">\n",
       "      <th></th>\n",
       "      <th>eifel_Pos1</th>\n",
       "      <th>eifel_Driver1</th>\n",
       "      <th>eifel_Car1</th>\n",
       "      <th>eifel_PosQ</th>\n",
       "      <th>eifel_Q1_Q</th>\n",
       "      <th>eifel_Q2_Q</th>\n",
       "      <th>eifel_Q3_Q</th>\n",
       "      <th>eifel_PosRR</th>\n",
       "      <th>eifel_PTS_RR</th>\n",
       "    </tr>\n",
       "  </thead>\n",
       "  <tbody>\n",
       "    <tr>\n",
       "      <th>1</th>\n",
       "      <td>18.0</td>\n",
       "      <td>Antonio  Giovinazzi  GIO</td>\n",
       "      <td>Alfa Romeo Racing Ferrari</td>\n",
       "      <td>14</td>\n",
       "      <td>1</td>\n",
       "      <td>1</td>\n",
       "      <td>0</td>\n",
       "      <td>10</td>\n",
       "      <td>1</td>\n",
       "    </tr>\n",
       "    <tr>\n",
       "      <th>2</th>\n",
       "      <td>13.0</td>\n",
       "      <td>Carlos  Sainz  SAI</td>\n",
       "      <td>McLaren Renault</td>\n",
       "      <td>10</td>\n",
       "      <td>1</td>\n",
       "      <td>1</td>\n",
       "      <td>1</td>\n",
       "      <td>5</td>\n",
       "      <td>10</td>\n",
       "    </tr>\n",
       "    <tr>\n",
       "      <th>3</th>\n",
       "      <td>3.0</td>\n",
       "      <td>Charles  Leclerc  LEC</td>\n",
       "      <td>Ferrari</td>\n",
       "      <td>4</td>\n",
       "      <td>1</td>\n",
       "      <td>1</td>\n",
       "      <td>1</td>\n",
       "      <td>7</td>\n",
       "      <td>6</td>\n",
       "    </tr>\n",
       "    <tr>\n",
       "      <th>4</th>\n",
       "      <td>8.0</td>\n",
       "      <td>Daniel  Ricciardo  RIC</td>\n",
       "      <td>Renault</td>\n",
       "      <td>6</td>\n",
       "      <td>1</td>\n",
       "      <td>1</td>\n",
       "      <td>1</td>\n",
       "      <td>3</td>\n",
       "      <td>15</td>\n",
       "    </tr>\n",
       "    <tr>\n",
       "      <th>5</th>\n",
       "      <td>12.0</td>\n",
       "      <td>Daniil  Kvyat  KVY</td>\n",
       "      <td>AlphaTauri Honda</td>\n",
       "      <td>13</td>\n",
       "      <td>1</td>\n",
       "      <td>1</td>\n",
       "      <td>0</td>\n",
       "      <td>15</td>\n",
       "      <td>0</td>\n",
       "    </tr>\n",
       "    <tr>\n",
       "      <th>8</th>\n",
       "      <td>16.0</td>\n",
       "      <td>Kevin  Magnussen  MAG</td>\n",
       "      <td>Haas Ferrari</td>\n",
       "      <td>15</td>\n",
       "      <td>1</td>\n",
       "      <td>1</td>\n",
       "      <td>0</td>\n",
       "      <td>13</td>\n",
       "      <td>0</td>\n",
       "    </tr>\n",
       "    <tr>\n",
       "      <th>9</th>\n",
       "      <td>14.0</td>\n",
       "      <td>Kimi  Räikkönen  RAI</td>\n",
       "      <td>Alfa Romeo Racing Ferrari</td>\n",
       "      <td>19</td>\n",
       "      <td>1</td>\n",
       "      <td>0</td>\n",
       "      <td>0</td>\n",
       "      <td>12</td>\n",
       "      <td>0</td>\n",
       "    </tr>\n",
       "    <tr>\n",
       "      <th>11</th>\n",
       "      <td>2.0</td>\n",
       "      <td>Lewis  Hamilton  HAM</td>\n",
       "      <td>Mercedes</td>\n",
       "      <td>2</td>\n",
       "      <td>1</td>\n",
       "      <td>1</td>\n",
       "      <td>1</td>\n",
       "      <td>1</td>\n",
       "      <td>25</td>\n",
       "    </tr>\n",
       "    <tr>\n",
       "      <th>12</th>\n",
       "      <td>4.0</td>\n",
       "      <td>Max  Verstappen  VER</td>\n",
       "      <td>Red Bull Racing Honda</td>\n",
       "      <td>3</td>\n",
       "      <td>1</td>\n",
       "      <td>1</td>\n",
       "      <td>1</td>\n",
       "      <td>2</td>\n",
       "      <td>19</td>\n",
       "    </tr>\n",
       "    <tr>\n",
       "      <th>13</th>\n",
       "      <td>19.0</td>\n",
       "      <td>Nicholas  Latifi  LAT</td>\n",
       "      <td>Williams Mercedes</td>\n",
       "      <td>18</td>\n",
       "      <td>1</td>\n",
       "      <td>0</td>\n",
       "      <td>0</td>\n",
       "      <td>14</td>\n",
       "      <td>0</td>\n",
       "    </tr>\n",
       "    <tr>\n",
       "      <th>14</th>\n",
       "      <td>10.0</td>\n",
       "      <td>Pierre  Gasly  GAS</td>\n",
       "      <td>AlphaTauri Honda</td>\n",
       "      <td>12</td>\n",
       "      <td>1</td>\n",
       "      <td>1</td>\n",
       "      <td>0</td>\n",
       "      <td>6</td>\n",
       "      <td>8</td>\n",
       "    </tr>\n",
       "    <tr>\n",
       "      <th>15</th>\n",
       "      <td>15.0</td>\n",
       "      <td>Romain  Grosjean  GRO</td>\n",
       "      <td>Haas Ferrari</td>\n",
       "      <td>16</td>\n",
       "      <td>1</td>\n",
       "      <td>0</td>\n",
       "      <td>0</td>\n",
       "      <td>9</td>\n",
       "      <td>2</td>\n",
       "    </tr>\n",
       "    <tr>\n",
       "      <th>16</th>\n",
       "      <td>5.0</td>\n",
       "      <td>Sebastian  Vettel  VET</td>\n",
       "      <td>Ferrari</td>\n",
       "      <td>11</td>\n",
       "      <td>1</td>\n",
       "      <td>1</td>\n",
       "      <td>0</td>\n",
       "      <td>11</td>\n",
       "      <td>0</td>\n",
       "    </tr>\n",
       "    <tr>\n",
       "      <th>17</th>\n",
       "      <td>7.0</td>\n",
       "      <td>Sergio  Perez  PER</td>\n",
       "      <td>Racing Point BWT Mercedes</td>\n",
       "      <td>9</td>\n",
       "      <td>1</td>\n",
       "      <td>1</td>\n",
       "      <td>1</td>\n",
       "      <td>4</td>\n",
       "      <td>12</td>\n",
       "    </tr>\n",
       "    <tr>\n",
       "      <th>19</th>\n",
       "      <td>20.0</td>\n",
       "      <td>Nico  Hulkenberg  HUL</td>\n",
       "      <td>Racing Point BWT Mercedes</td>\n",
       "      <td>20</td>\n",
       "      <td>1</td>\n",
       "      <td>0</td>\n",
       "      <td>0</td>\n",
       "      <td>8</td>\n",
       "      <td>4</td>\n",
       "    </tr>\n",
       "  </tbody>\n",
       "</table>\n",
       "</div>"
      ],
      "text/plain": [
       "    eifel_Pos1             eifel_Driver1                 eifel_Car1  \\\n",
       "1         18.0  Antonio  Giovinazzi  GIO  Alfa Romeo Racing Ferrari   \n",
       "2         13.0        Carlos  Sainz  SAI            McLaren Renault   \n",
       "3          3.0     Charles  Leclerc  LEC                    Ferrari   \n",
       "4          8.0    Daniel  Ricciardo  RIC                    Renault   \n",
       "5         12.0        Daniil  Kvyat  KVY           AlphaTauri Honda   \n",
       "8         16.0     Kevin  Magnussen  MAG               Haas Ferrari   \n",
       "9         14.0      Kimi  Räikkönen  RAI  Alfa Romeo Racing Ferrari   \n",
       "11         2.0      Lewis  Hamilton  HAM                   Mercedes   \n",
       "12         4.0      Max  Verstappen  VER      Red Bull Racing Honda   \n",
       "13        19.0     Nicholas  Latifi  LAT          Williams Mercedes   \n",
       "14        10.0        Pierre  Gasly  GAS           AlphaTauri Honda   \n",
       "15        15.0     Romain  Grosjean  GRO               Haas Ferrari   \n",
       "16         5.0    Sebastian  Vettel  VET                    Ferrari   \n",
       "17         7.0        Sergio  Perez  PER  Racing Point BWT Mercedes   \n",
       "19        20.0     Nico  Hulkenberg  HUL  Racing Point BWT Mercedes   \n",
       "\n",
       "    eifel_PosQ  eifel_Q1_Q  eifel_Q2_Q  eifel_Q3_Q eifel_PosRR  eifel_PTS_RR  \n",
       "1           14           1           1           0          10             1  \n",
       "2           10           1           1           1           5            10  \n",
       "3            4           1           1           1           7             6  \n",
       "4            6           1           1           1           3            15  \n",
       "5           13           1           1           0          15             0  \n",
       "8           15           1           1           0          13             0  \n",
       "9           19           1           0           0          12             0  \n",
       "11           2           1           1           1           1            25  \n",
       "12           3           1           1           1           2            19  \n",
       "13          18           1           0           0          14             0  \n",
       "14          12           1           1           0           6             8  \n",
       "15          16           1           0           0           9             2  \n",
       "16          11           1           1           0          11             0  \n",
       "17           9           1           1           1           4            12  \n",
       "19          20           1           0           0           8             4  "
      ]
     },
     "execution_count": 32,
     "metadata": {},
     "output_type": "execute_result"
    }
   ],
   "source": [
    "eifel_dl"
   ]
  },
  {
   "cell_type": "code",
   "execution_count": 33,
   "metadata": {},
   "outputs": [
    {
     "name": "stdout",
     "output_type": "stream",
     "text": [
      "Stored 'eifel_dl' (DataFrame)\n"
     ]
    }
   ],
   "source": [
    "%store eifel_dl"
   ]
  }
 ],
 "metadata": {
  "kernelspec": {
   "display_name": "Python 3",
   "language": "python",
   "name": "python3"
  },
  "language_info": {
   "codemirror_mode": {
    "name": "ipython",
    "version": 3
   },
   "file_extension": ".py",
   "mimetype": "text/x-python",
   "name": "python",
   "nbconvert_exporter": "python",
   "pygments_lexer": "ipython3",
   "version": "3.8.8"
  }
 },
 "nbformat": 4,
 "nbformat_minor": 4
}
