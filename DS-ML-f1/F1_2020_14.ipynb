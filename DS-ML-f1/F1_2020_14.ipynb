{
 "cells": [
  {
   "cell_type": "code",
   "execution_count": 1,
   "metadata": {},
   "outputs": [],
   "source": [
    "# initial run through of project"
   ]
  },
  {
   "cell_type": "code",
   "execution_count": 2,
   "metadata": {},
   "outputs": [],
   "source": [
    "# import necessary libraries\n",
    "\n",
    "import pandas as pd"
   ]
  },
  {
   "cell_type": "code",
   "execution_count": 3,
   "metadata": {},
   "outputs": [
    {
     "name": "stdout",
     "output_type": "stream",
     "text": [
      "https://www.formula1.com/en/results.html/2020/races/1058/turkey/practice-1.html\n",
      "https://www.formula1.com/en/results.html/2020/races/1058/turkey/practice-2.html\n",
      "https://www.formula1.com/en/results.html/2020/races/1058/turkey/practice-3.html\n",
      "https://www.formula1.com/en/results.html/2020/races/1058/turkey/qualifying.html\n",
      "https://www.formula1.com/en/results.html/2020/races/1058/turkey/race-result.html\n"
     ]
    }
   ],
   "source": [
    "# scraping data \n",
    "\n",
    "titles = ['practice-1', 'practice-2', 'practice-3', 'qualifying', 'race-result']\n",
    "url = 'https://www.formula1.com/en/results.html/2020/races/1058/turkey/{}.html'\n",
    "\n",
    "for title in titles:\n",
    "    urls = url.format(title)\n",
    "    print(urls)"
   ]
  },
  {
   "cell_type": "code",
   "execution_count": 4,
   "metadata": {},
   "outputs": [],
   "source": [
    "FourteenP1_2020 ='https://www.formula1.com/en/results.html/2020/races/1058/turkey/practice-1.html'\n",
    "FourteenP2_2020 ='https://www.formula1.com/en/results.html/2020/races/1058/turkey/practice-2.html'\n",
    "FourteenP3_2020 ='https://www.formula1.com/en/results.html/2020/races/1058/turkey/practice-3.html'\n",
    "FourteenQ_2020 ='https://www.formula1.com/en/results.html/2020/races/1058/turkey/qualifying.html'\n",
    "FourteenRR_2020 ='https://www.formula1.com/en/results.html/2020/races/1058/turkey/race-result.html'"
   ]
  },
  {
   "cell_type": "code",
   "execution_count": 5,
   "metadata": {},
   "outputs": [],
   "source": [
    "df_FourteenP1_2020 = pd.read_html(FourteenP1_2020, header=0)\n",
    "df_FourteenP2_2020 = pd.read_html(FourteenP2_2020, header=0)\n",
    "df_FourteenP3_2020 = pd.read_html(FourteenP3_2020, header=0)\n",
    "df_FourteenQ_2020 = pd.read_html(FourteenQ_2020, header=0)\n",
    "df_FourteenRR_2020 = pd.read_html(FourteenRR_2020, header=0)\n",
    "\n",
    "df_FourteenP1_2020 = df_FourteenP1_2020[0]\n",
    "df_FourteenP2_2020 = df_FourteenP2_2020[0]\n",
    "df_FourteenP3_2020 = df_FourteenP3_2020[0]\n",
    "df_FourteenQ_2020 = df_FourteenQ_2020[0]\n",
    "df_FourteenRR_2020 = df_FourteenRR_2020[0]"
   ]
  },
  {
   "cell_type": "code",
   "execution_count": 6,
   "metadata": {},
   "outputs": [],
   "source": [
    "df_FourteenP1_2020.drop(['Unnamed: 0', 'Unnamed: 8', 'No'], axis=1, inplace=True)\n",
    "df_FourteenP2_2020.drop(['Unnamed: 0', 'Unnamed: 8', 'No'], axis=1, inplace=True)\n",
    "df_FourteenP3_2020.drop(['Unnamed: 0', 'Unnamed: 8', 'No'], axis=1, inplace=True)\n",
    "df_FourteenQ_2020.drop(['Unnamed: 0', 'Unnamed: 9', 'No'], axis=1, inplace=True)\n",
    "df_FourteenRR_2020.drop(['Unnamed: 0', 'Unnamed: 8', 'No'], axis=1, inplace=True)"
   ]
  },
  {
   "cell_type": "code",
   "execution_count": 7,
   "metadata": {},
   "outputs": [],
   "source": [
    "# df_FourteenP1_2020 = df_FourteenP1_2020.fillna(0)\n",
    "# df_FourteenP2_2020 = df_FourteenP2_2020.fillna(0)\n",
    "# df_FourteenP3_2020 = df_FourteenP3_2020.fillna(0)"
   ]
  },
  {
   "cell_type": "code",
   "execution_count": 8,
   "metadata": {},
   "outputs": [],
   "source": [
    "turkey_GP = [df_FourteenP1_2020, df_FourteenP2_2020, df_FourteenP3_2020, df_FourteenQ_2020, df_FourteenRR_2020]"
   ]
  },
  {
   "cell_type": "code",
   "execution_count": 9,
   "metadata": {},
   "outputs": [],
   "source": [
    "turkey_GP_0 = turkey_GP[0]\n",
    "turkey_GP_1 = turkey_GP[1]\n",
    "turkey_GP_2 = turkey_GP[2]\n",
    "turkey_GP_3 = turkey_GP[3]\n",
    "turkey_GP_4 = turkey_GP[4]"
   ]
  },
  {
   "cell_type": "code",
   "execution_count": 10,
   "metadata": {},
   "outputs": [],
   "source": [
    "turkey_allP = pd.concat([turkey_GP_0, turkey_GP_1, turkey_GP_2])\n",
    "turkey_allP = turkey_allP.groupby('Driver').Pos.sum()\n",
    "turkey_allP = pd.DataFrame(turkey_allP)\n",
    "turkey_allP.rename(columns = {'Pos': 'Pos_Practice'}, inplace = True)"
   ]
  },
  {
   "cell_type": "code",
   "execution_count": 11,
   "metadata": {},
   "outputs": [],
   "source": [
    "turkeyQ = turkey_GP_3.groupby('Driver').Pos.sum()\n",
    "turkeyQ = pd.DataFrame(turkeyQ)\n",
    "turkeyQ.rename(columns = {'Pos': 'Pos_Qualifying'}, inplace = True)"
   ]
  },
  {
   "cell_type": "code",
   "execution_count": 12,
   "metadata": {},
   "outputs": [],
   "source": [
    "turkeyR = turkey_GP_4.groupby('Driver').Pos.sum()\n",
    "turkeyR = pd.DataFrame(turkeyR)\n",
    "turkeyR.rename(columns = {'Pos': 'Pos_Race'}, inplace = True)"
   ]
  },
  {
   "cell_type": "code",
   "execution_count": 13,
   "metadata": {},
   "outputs": [],
   "source": [
    "turkey_end = pd.concat([turkey_allP, turkeyQ, turkeyR], axis=1)"
   ]
  },
  {
   "cell_type": "code",
   "execution_count": 14,
   "metadata": {},
   "outputs": [],
   "source": [
    "turkey_GP_0.sort_values(by=['Driver'], inplace=True)\n",
    "turkey_GP_1.sort_values(by=['Driver'], inplace=True)\n",
    "turkey_GP_2.sort_values(by=['Driver'], inplace=True)\n",
    "turkey_GP_3.sort_values(by=['Driver'], inplace=True)\n",
    "turkey_GP_4.sort_values(by=['Driver'], inplace=True)"
   ]
  },
  {
   "cell_type": "code",
   "execution_count": 15,
   "metadata": {},
   "outputs": [],
   "source": [
    "turkey_dl = pd.merge(turkey_GP_0, turkey_GP_1, on='Driver', how='outer')\n",
    "turkey_dl = pd.merge(turkey_dl, turkey_GP_2, on='Driver', how='outer')\n",
    "turkey_dl = pd.merge(turkey_dl, turkey_GP_3, on='Driver', how='outer')\n",
    "turkey_dl = pd.merge(turkey_dl, turkey_GP_4, on='Driver', how='outer')"
   ]
  },
  {
   "cell_type": "code",
   "execution_count": 16,
   "metadata": {},
   "outputs": [
    {
     "data": {
      "text/plain": [
       "['Pos_x',\n",
       " 'Driver',\n",
       " 'Car_x',\n",
       " 'Time_x',\n",
       " 'Gap_x',\n",
       " 'Laps_x',\n",
       " 'Pos_y',\n",
       " 'Car_y',\n",
       " 'Time_y',\n",
       " 'Gap_y',\n",
       " 'Laps_y',\n",
       " 'Pos_x',\n",
       " 'Car_x',\n",
       " 'Time',\n",
       " 'Gap',\n",
       " 'Laps_x',\n",
       " 'Pos_y',\n",
       " 'Car_y',\n",
       " 'Q1',\n",
       " 'Q2',\n",
       " 'Q3',\n",
       " 'Laps_y',\n",
       " 'Pos',\n",
       " 'Car',\n",
       " 'Laps',\n",
       " 'Time/Retired',\n",
       " 'PTS']"
      ]
     },
     "execution_count": 16,
     "metadata": {},
     "output_type": "execute_result"
    }
   ],
   "source": [
    "change_dups = turkey_dl.columns.values.tolist()\n",
    "change_dups"
   ]
  },
  {
   "cell_type": "code",
   "execution_count": 17,
   "metadata": {},
   "outputs": [
    {
     "data": {
      "text/plain": [
       "['Pos_x',\n",
       " 'Driver',\n",
       " 'Car_x',\n",
       " 'Time_x',\n",
       " 'Gap_x',\n",
       " 'Laps_x',\n",
       " 'Pos_y',\n",
       " 'Car_y',\n",
       " 'Time_y',\n",
       " 'Gap_y',\n",
       " 'Laps_y',\n",
       " 'Pos_x_2',\n",
       " 'Car_x_2',\n",
       " 'Time',\n",
       " 'Gap',\n",
       " 'Laps_x_2',\n",
       " 'Pos_y_2',\n",
       " 'Car_y_2',\n",
       " 'Q1',\n",
       " 'Q2',\n",
       " 'Q3',\n",
       " 'Laps_y_2',\n",
       " 'Pos',\n",
       " 'Car',\n",
       " 'Laps',\n",
       " 'Time/Retired',\n",
       " 'PTS']"
      ]
     },
     "execution_count": 17,
     "metadata": {},
     "output_type": "execute_result"
    }
   ],
   "source": [
    "def uniquify(change_dups):\n",
    "    seen = set()\n",
    "    \n",
    "    for dup in change_dups:\n",
    "        name = 1\n",
    "        new_name = dup\n",
    "        \n",
    "        while new_name in seen:\n",
    "            name += 1\n",
    "            new_name = \"{}_{}\".format(dup, name)\n",
    "            \n",
    "        yield new_name\n",
    "        seen.add(new_name)\n",
    "        \n",
    "list(uniquify(change_dups))"
   ]
  },
  {
   "cell_type": "code",
   "execution_count": 18,
   "metadata": {},
   "outputs": [],
   "source": [
    "turkey_dl = turkey_dl.set_axis(['Pos_x',\n",
    " 'Driver',\n",
    " 'Car_x',\n",
    " 'Time_x',\n",
    " 'Gap_x',\n",
    " 'Laps_x',\n",
    " 'Pos_y',\n",
    " 'Car_y',\n",
    " 'Time_y',\n",
    " 'Gap_y',\n",
    " 'Laps_y',\n",
    " 'Pos_x_2',\n",
    " 'Car_x_2',\n",
    " 'Time',\n",
    " 'Gap',\n",
    " 'Laps_x_2',\n",
    " 'Pos_y_2',\n",
    " 'Car_y_2',\n",
    " 'Q1',\n",
    " 'Q2',\n",
    " 'Q3',\n",
    " 'Laps_y_2',\n",
    " 'Pos',\n",
    " 'Car',\n",
    " 'Laps',\n",
    " 'Time/Retired',\n",
    " 'PTS'], axis=1, inplace=False)"
   ]
  },
  {
   "cell_type": "code",
   "execution_count": 19,
   "metadata": {},
   "outputs": [
    {
     "data": {
      "text/plain": [
       "['Pos_x',\n",
       " 'Driver',\n",
       " 'Car_x',\n",
       " 'Time_x',\n",
       " 'Gap_x',\n",
       " 'Laps_x',\n",
       " 'Pos_y',\n",
       " 'Car_y',\n",
       " 'Time_y',\n",
       " 'Gap_y',\n",
       " 'Laps_y',\n",
       " 'Pos_x',\n",
       " 'Car_x',\n",
       " 'Time',\n",
       " 'Gap',\n",
       " 'Laps_x',\n",
       " 'Pos_y',\n",
       " 'Car_y',\n",
       " 'Q1',\n",
       " 'Q2',\n",
       " 'Q3',\n",
       " 'Laps_y',\n",
       " 'Pos',\n",
       " 'Car',\n",
       " 'Laps',\n",
       " 'Time/Retired',\n",
       " 'PTS']"
      ]
     },
     "execution_count": 19,
     "metadata": {},
     "output_type": "execute_result"
    }
   ],
   "source": [
    "change_dups"
   ]
  },
  {
   "cell_type": "code",
   "execution_count": 20,
   "metadata": {},
   "outputs": [],
   "source": [
    "new_names = ['Pos1',\n",
    " 'Driver1',\n",
    " 'Car1',\n",
    " 'Time1',\n",
    " 'Gap1',\n",
    " 'Laps1',\n",
    " 'Pos2',\n",
    " 'Car2',\n",
    " 'Time2',\n",
    " 'Gap2',\n",
    " 'Laps2',\n",
    " 'Pos3',\n",
    " 'Car3',\n",
    " 'Time3',\n",
    " 'Gap3',\n",
    " 'Laps3',\n",
    " 'PosQ',\n",
    " 'CarQ',\n",
    " 'Q1_Q',\n",
    " 'Q2_Q',\n",
    " 'Q3_Q',\n",
    " 'LapsQ',\n",
    " 'PosRR',\n",
    " 'CarRR',\n",
    " 'LapsRR',\n",
    " 'Time/Retired_RR',\n",
    " 'PTS_RR']"
   ]
  },
  {
   "cell_type": "code",
   "execution_count": 21,
   "metadata": {},
   "outputs": [],
   "source": [
    "turkey_dl.columns = ['Pos1',\n",
    " 'Driver1',\n",
    " 'Car1',\n",
    " 'Time1',\n",
    " 'Gap1',\n",
    " 'Laps1',\n",
    " 'Pos2',\n",
    " 'Car2',\n",
    " 'Time2',\n",
    " 'Gap2',\n",
    " 'Laps2',\n",
    " 'Pos3',\n",
    " 'Car3',\n",
    " 'Time3',\n",
    " 'Gap3',\n",
    " 'Laps3',\n",
    " 'PosQ',\n",
    " 'CarQ',\n",
    " 'Q1_Q',\n",
    " 'Q2_Q',\n",
    " 'Q3_Q',\n",
    " 'LapsQ',\n",
    " 'PosRR',\n",
    " 'CarRR',\n",
    " 'LapsRR',\n",
    " 'Time/Retired_RR',\n",
    " 'PTS_RR']"
   ]
  },
  {
   "cell_type": "code",
   "execution_count": 22,
   "metadata": {},
   "outputs": [],
   "source": [
    "turkey_dl.drop(['Car2', 'Car3', 'CarQ', 'CarRR'], axis=1, inplace=True)"
   ]
  },
  {
   "cell_type": "code",
   "execution_count": 23,
   "metadata": {},
   "outputs": [],
   "source": [
    "# turkey_dl = turkey_dl.fillna('n/a')"
   ]
  },
  {
   "cell_type": "code",
   "execution_count": 24,
   "metadata": {
    "scrolled": true
   },
   "outputs": [],
   "source": [
    "names_list = list(turkey_dl.columns)\n",
    "\n",
    "new_names_list = []\n",
    "\n",
    "for names in names_list:\n",
    "    names = 'turkey_' + names\n",
    "    new_names_list.append(names)\n",
    "    \n",
    "turkey_dl.columns = new_names_list"
   ]
  },
  {
   "cell_type": "code",
   "execution_count": 25,
   "metadata": {},
   "outputs": [],
   "source": [
    "turkey_dl = turkey_dl[~turkey_dl['turkey_Time/Retired_RR'].isin(['DNF'])]"
   ]
  },
  {
   "cell_type": "code",
   "execution_count": 26,
   "metadata": {},
   "outputs": [],
   "source": [
    "pd.options.mode.chained_assignment = None  # default='warn'\n",
    "turkey_dl.drop(turkey_dl.columns[[4, 5, 8, 9, 12, 13, 18, 20, 21]], axis=1, inplace=True)"
   ]
  },
  {
   "cell_type": "code",
   "execution_count": 27,
   "metadata": {},
   "outputs": [],
   "source": [
    "turkey_dl.drop(['turkey_Time1', 'turkey_Time2', 'turkey_Time3'], axis=1, inplace=True)"
   ]
  },
  {
   "cell_type": "code",
   "execution_count": 28,
   "metadata": {},
   "outputs": [],
   "source": [
    "def qualifying_values(race):\n",
    "    race.iloc[:, 6] = race.iloc[:, 6].apply(lambda x: 1 if not pd.isnull(x) else 0)\n",
    "    race.iloc[:, 7] = race.iloc[:, 7].apply(lambda x: 1 if not pd.isnull(x) else 0)\n",
    "    race.iloc[:, 8] = race.iloc[:, 8].apply(lambda x: 1 if not pd.isnull(x) else 0)"
   ]
  },
  {
   "cell_type": "code",
   "execution_count": 29,
   "metadata": {},
   "outputs": [],
   "source": [
    "qualifying_values(turkey_dl)"
   ]
  },
  {
   "cell_type": "code",
   "execution_count": 30,
   "metadata": {
    "scrolled": true
   },
   "outputs": [
    {
     "data": {
      "text/html": [
       "<div>\n",
       "<style scoped>\n",
       "    .dataframe tbody tr th:only-of-type {\n",
       "        vertical-align: middle;\n",
       "    }\n",
       "\n",
       "    .dataframe tbody tr th {\n",
       "        vertical-align: top;\n",
       "    }\n",
       "\n",
       "    .dataframe thead th {\n",
       "        text-align: right;\n",
       "    }\n",
       "</style>\n",
       "<table border=\"1\" class=\"dataframe\">\n",
       "  <thead>\n",
       "    <tr style=\"text-align: right;\">\n",
       "      <th></th>\n",
       "      <th>turkey_Pos1</th>\n",
       "      <th>turkey_Driver1</th>\n",
       "      <th>turkey_Car1</th>\n",
       "      <th>turkey_Pos2</th>\n",
       "      <th>turkey_Pos3</th>\n",
       "      <th>turkey_PosQ</th>\n",
       "      <th>turkey_Q1_Q</th>\n",
       "      <th>turkey_Q2_Q</th>\n",
       "      <th>turkey_Q3_Q</th>\n",
       "      <th>turkey_PosRR</th>\n",
       "      <th>turkey_PTS_RR</th>\n",
       "    </tr>\n",
       "  </thead>\n",
       "  <tbody>\n",
       "    <tr>\n",
       "      <th>0</th>\n",
       "      <td>2</td>\n",
       "      <td>Alexander  Albon  ALB</td>\n",
       "      <td>Red Bull Racing Honda</td>\n",
       "      <td>5</td>\n",
       "      <td>3</td>\n",
       "      <td>4</td>\n",
       "      <td>1</td>\n",
       "      <td>1</td>\n",
       "      <td>1</td>\n",
       "      <td>7</td>\n",
       "      <td>6</td>\n",
       "    </tr>\n",
       "    <tr>\n",
       "      <th>2</th>\n",
       "      <td>19</td>\n",
       "      <td>Carlos  Sainz  SAI</td>\n",
       "      <td>McLaren Renault</td>\n",
       "      <td>14</td>\n",
       "      <td>12</td>\n",
       "      <td>13</td>\n",
       "      <td>1</td>\n",
       "      <td>1</td>\n",
       "      <td>0</td>\n",
       "      <td>5</td>\n",
       "      <td>10</td>\n",
       "    </tr>\n",
       "    <tr>\n",
       "      <th>3</th>\n",
       "      <td>3</td>\n",
       "      <td>Charles  Leclerc  LEC</td>\n",
       "      <td>Ferrari</td>\n",
       "      <td>2</td>\n",
       "      <td>2</td>\n",
       "      <td>14</td>\n",
       "      <td>1</td>\n",
       "      <td>1</td>\n",
       "      <td>0</td>\n",
       "      <td>4</td>\n",
       "      <td>12</td>\n",
       "    </tr>\n",
       "    <tr>\n",
       "      <th>4</th>\n",
       "      <td>18</td>\n",
       "      <td>Daniel  Ricciardo  RIC</td>\n",
       "      <td>Renault</td>\n",
       "      <td>15</td>\n",
       "      <td>11</td>\n",
       "      <td>5</td>\n",
       "      <td>1</td>\n",
       "      <td>1</td>\n",
       "      <td>1</td>\n",
       "      <td>10</td>\n",
       "      <td>1</td>\n",
       "    </tr>\n",
       "    <tr>\n",
       "      <th>5</th>\n",
       "      <td>6</td>\n",
       "      <td>Daniil  Kvyat  KVY</td>\n",
       "      <td>AlphaTauri Honda</td>\n",
       "      <td>6</td>\n",
       "      <td>17</td>\n",
       "      <td>17</td>\n",
       "      <td>1</td>\n",
       "      <td>0</td>\n",
       "      <td>0</td>\n",
       "      <td>12</td>\n",
       "      <td>0</td>\n",
       "    </tr>\n",
       "    <tr>\n",
       "      <th>6</th>\n",
       "      <td>10</td>\n",
       "      <td>Esteban  Ocon  OCO</td>\n",
       "      <td>Renault</td>\n",
       "      <td>12</td>\n",
       "      <td>4</td>\n",
       "      <td>7</td>\n",
       "      <td>1</td>\n",
       "      <td>1</td>\n",
       "      <td>1</td>\n",
       "      <td>11</td>\n",
       "      <td>0</td>\n",
       "    </tr>\n",
       "    <tr>\n",
       "      <th>7</th>\n",
       "      <td>20</td>\n",
       "      <td>George  Russell  RUS</td>\n",
       "      <td>Williams Mercedes</td>\n",
       "      <td>17</td>\n",
       "      <td>18</td>\n",
       "      <td>18</td>\n",
       "      <td>1</td>\n",
       "      <td>0</td>\n",
       "      <td>0</td>\n",
       "      <td>16</td>\n",
       "      <td>0</td>\n",
       "    </tr>\n",
       "    <tr>\n",
       "      <th>9</th>\n",
       "      <td>16</td>\n",
       "      <td>Kimi  Räikkönen  RAI</td>\n",
       "      <td>Alfa Romeo Racing Ferrari</td>\n",
       "      <td>16</td>\n",
       "      <td>16</td>\n",
       "      <td>8</td>\n",
       "      <td>1</td>\n",
       "      <td>1</td>\n",
       "      <td>1</td>\n",
       "      <td>15</td>\n",
       "      <td>0</td>\n",
       "    </tr>\n",
       "    <tr>\n",
       "      <th>10</th>\n",
       "      <td>13</td>\n",
       "      <td>Lance  Stroll  STR</td>\n",
       "      <td>Racing Point BWT Mercedes</td>\n",
       "      <td>9</td>\n",
       "      <td>10</td>\n",
       "      <td>1</td>\n",
       "      <td>1</td>\n",
       "      <td>1</td>\n",
       "      <td>1</td>\n",
       "      <td>9</td>\n",
       "      <td>2</td>\n",
       "    </tr>\n",
       "    <tr>\n",
       "      <th>11</th>\n",
       "      <td>7</td>\n",
       "      <td>Lando  Norris  NOR</td>\n",
       "      <td>McLaren Renault</td>\n",
       "      <td>10</td>\n",
       "      <td>5</td>\n",
       "      <td>11</td>\n",
       "      <td>1</td>\n",
       "      <td>1</td>\n",
       "      <td>0</td>\n",
       "      <td>8</td>\n",
       "      <td>5</td>\n",
       "    </tr>\n",
       "    <tr>\n",
       "      <th>12</th>\n",
       "      <td>15</td>\n",
       "      <td>Lewis  Hamilton  HAM</td>\n",
       "      <td>Mercedes</td>\n",
       "      <td>4</td>\n",
       "      <td>20</td>\n",
       "      <td>6</td>\n",
       "      <td>1</td>\n",
       "      <td>1</td>\n",
       "      <td>1</td>\n",
       "      <td>1</td>\n",
       "      <td>25</td>\n",
       "    </tr>\n",
       "    <tr>\n",
       "      <th>13</th>\n",
       "      <td>1</td>\n",
       "      <td>Max  Verstappen  VER</td>\n",
       "      <td>Red Bull Racing Honda</td>\n",
       "      <td>1</td>\n",
       "      <td>1</td>\n",
       "      <td>2</td>\n",
       "      <td>1</td>\n",
       "      <td>1</td>\n",
       "      <td>1</td>\n",
       "      <td>6</td>\n",
       "      <td>8</td>\n",
       "    </tr>\n",
       "    <tr>\n",
       "      <th>15</th>\n",
       "      <td>4</td>\n",
       "      <td>Pierre  Gasly  GAS</td>\n",
       "      <td>AlphaTauri Honda</td>\n",
       "      <td>7</td>\n",
       "      <td>14</td>\n",
       "      <td>15</td>\n",
       "      <td>1</td>\n",
       "      <td>1</td>\n",
       "      <td>0</td>\n",
       "      <td>13</td>\n",
       "      <td>0</td>\n",
       "    </tr>\n",
       "    <tr>\n",
       "      <th>17</th>\n",
       "      <td>5</td>\n",
       "      <td>Sebastian  Vettel  VET</td>\n",
       "      <td>Ferrari</td>\n",
       "      <td>8</td>\n",
       "      <td>6</td>\n",
       "      <td>12</td>\n",
       "      <td>1</td>\n",
       "      <td>1</td>\n",
       "      <td>0</td>\n",
       "      <td>3</td>\n",
       "      <td>15</td>\n",
       "    </tr>\n",
       "    <tr>\n",
       "      <th>18</th>\n",
       "      <td>12</td>\n",
       "      <td>Sergio  Perez  PER</td>\n",
       "      <td>Racing Point BWT Mercedes</td>\n",
       "      <td>11</td>\n",
       "      <td>7</td>\n",
       "      <td>3</td>\n",
       "      <td>1</td>\n",
       "      <td>1</td>\n",
       "      <td>1</td>\n",
       "      <td>2</td>\n",
       "      <td>18</td>\n",
       "    </tr>\n",
       "    <tr>\n",
       "      <th>19</th>\n",
       "      <td>9</td>\n",
       "      <td>Valtteri  Bottas  BOT</td>\n",
       "      <td>Mercedes</td>\n",
       "      <td>3</td>\n",
       "      <td>8</td>\n",
       "      <td>9</td>\n",
       "      <td>1</td>\n",
       "      <td>1</td>\n",
       "      <td>1</td>\n",
       "      <td>14</td>\n",
       "      <td>0</td>\n",
       "    </tr>\n",
       "  </tbody>\n",
       "</table>\n",
       "</div>"
      ],
      "text/plain": [
       "    turkey_Pos1          turkey_Driver1                turkey_Car1  \\\n",
       "0             2   Alexander  Albon  ALB      Red Bull Racing Honda   \n",
       "2            19      Carlos  Sainz  SAI            McLaren Renault   \n",
       "3             3   Charles  Leclerc  LEC                    Ferrari   \n",
       "4            18  Daniel  Ricciardo  RIC                    Renault   \n",
       "5             6      Daniil  Kvyat  KVY           AlphaTauri Honda   \n",
       "6            10      Esteban  Ocon  OCO                    Renault   \n",
       "7            20    George  Russell  RUS          Williams Mercedes   \n",
       "9            16    Kimi  Räikkönen  RAI  Alfa Romeo Racing Ferrari   \n",
       "10           13      Lance  Stroll  STR  Racing Point BWT Mercedes   \n",
       "11            7      Lando  Norris  NOR            McLaren Renault   \n",
       "12           15    Lewis  Hamilton  HAM                   Mercedes   \n",
       "13            1    Max  Verstappen  VER      Red Bull Racing Honda   \n",
       "15            4      Pierre  Gasly  GAS           AlphaTauri Honda   \n",
       "17            5  Sebastian  Vettel  VET                    Ferrari   \n",
       "18           12      Sergio  Perez  PER  Racing Point BWT Mercedes   \n",
       "19            9   Valtteri  Bottas  BOT                   Mercedes   \n",
       "\n",
       "    turkey_Pos2  turkey_Pos3  turkey_PosQ  turkey_Q1_Q  turkey_Q2_Q  \\\n",
       "0             5            3            4            1            1   \n",
       "2            14           12           13            1            1   \n",
       "3             2            2           14            1            1   \n",
       "4            15           11            5            1            1   \n",
       "5             6           17           17            1            0   \n",
       "6            12            4            7            1            1   \n",
       "7            17           18           18            1            0   \n",
       "9            16           16            8            1            1   \n",
       "10            9           10            1            1            1   \n",
       "11           10            5           11            1            1   \n",
       "12            4           20            6            1            1   \n",
       "13            1            1            2            1            1   \n",
       "15            7           14           15            1            1   \n",
       "17            8            6           12            1            1   \n",
       "18           11            7            3            1            1   \n",
       "19            3            8            9            1            1   \n",
       "\n",
       "    turkey_Q3_Q turkey_PosRR  turkey_PTS_RR  \n",
       "0             1            7              6  \n",
       "2             0            5             10  \n",
       "3             0            4             12  \n",
       "4             1           10              1  \n",
       "5             0           12              0  \n",
       "6             1           11              0  \n",
       "7             0           16              0  \n",
       "9             1           15              0  \n",
       "10            1            9              2  \n",
       "11            0            8              5  \n",
       "12            1            1             25  \n",
       "13            1            6              8  \n",
       "15            0           13              0  \n",
       "17            0            3             15  \n",
       "18            1            2             18  \n",
       "19            1           14              0  "
      ]
     },
     "execution_count": 30,
     "metadata": {},
     "output_type": "execute_result"
    }
   ],
   "source": [
    "turkey_dl"
   ]
  },
  {
   "cell_type": "code",
   "execution_count": 31,
   "metadata": {},
   "outputs": [
    {
     "name": "stdout",
     "output_type": "stream",
     "text": [
      "Stored 'turkey_dl' (DataFrame)\n"
     ]
    }
   ],
   "source": [
    "%store turkey_dl"
   ]
  }
 ],
 "metadata": {
  "kernelspec": {
   "display_name": "Python 3",
   "language": "python",
   "name": "python3"
  },
  "language_info": {
   "codemirror_mode": {
    "name": "ipython",
    "version": 3
   },
   "file_extension": ".py",
   "mimetype": "text/x-python",
   "name": "python",
   "nbconvert_exporter": "python",
   "pygments_lexer": "ipython3",
   "version": "3.8.8"
  }
 },
 "nbformat": 4,
 "nbformat_minor": 4
}
