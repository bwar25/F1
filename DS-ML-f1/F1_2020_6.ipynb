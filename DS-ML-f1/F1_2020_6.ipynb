{
 "cells": [
  {
   "cell_type": "code",
   "execution_count": 1,
   "metadata": {},
   "outputs": [],
   "source": [
    "# initial run through of project"
   ]
  },
  {
   "cell_type": "code",
   "execution_count": 2,
   "metadata": {},
   "outputs": [],
   "source": [
    "# import necessary libraries\n",
    "\n",
    "import pandas as pd"
   ]
  },
  {
   "cell_type": "code",
   "execution_count": 3,
   "metadata": {},
   "outputs": [
    {
     "name": "stdout",
     "output_type": "stream",
     "text": [
      "https://www.formula1.com/en/results.html/2020/races/1050/spain/practice-1.html\n",
      "https://www.formula1.com/en/results.html/2020/races/1050/spain/practice-2.html\n",
      "https://www.formula1.com/en/results.html/2020/races/1050/spain/practice-3.html\n",
      "https://www.formula1.com/en/results.html/2020/races/1050/spain/qualifying.html\n",
      "https://www.formula1.com/en/results.html/2020/races/1050/spain/race-result.html\n"
     ]
    }
   ],
   "source": [
    "# scraping data \n",
    "\n",
    "titles = ['practice-1', 'practice-2', 'practice-3', 'qualifying', 'race-result']\n",
    "url = 'https://www.formula1.com/en/results.html/2020/races/1050/spain/{}.html'\n",
    "\n",
    "for title in titles:\n",
    "    urls = url.format(title)\n",
    "    print(urls)"
   ]
  },
  {
   "cell_type": "code",
   "execution_count": 4,
   "metadata": {},
   "outputs": [],
   "source": [
    "SixP1_2020 = 'https://www.formula1.com/en/results.html/2020/races/1050/spain/practice-1.html'\n",
    "SixP2_2020 = 'https://www.formula1.com/en/results.html/2020/races/1050/spain/practice-2.html'\n",
    "SixP3_2020 ='https://www.formula1.com/en/results.html/2020/races/1050/spain/practice-3.html'\n",
    "SixQ_2020 ='https://www.formula1.com/en/results.html/2020/races/1050/spain/qualifying.html'\n",
    "SixRR_2020 ='https://www.formula1.com/en/results.html/2020/races/1050/spain/race-result.html'"
   ]
  },
  {
   "cell_type": "code",
   "execution_count": 5,
   "metadata": {},
   "outputs": [],
   "source": [
    "df_SixP1_2020 = pd.read_html(SixP1_2020, header=0)\n",
    "df_SixP2_2020 = pd.read_html(SixP2_2020, header=0)\n",
    "df_SixP3_2020 = pd.read_html(SixP3_2020, header=0)\n",
    "df_SixQ_2020 = pd.read_html(SixQ_2020, header=0)\n",
    "df_SixRR_2020 = pd.read_html(SixRR_2020, header=0)\n",
    "\n",
    "df_SixP1_2020 = df_SixP1_2020[0]\n",
    "df_SixP2_2020 = df_SixP2_2020[0]\n",
    "df_SixP3_2020 = df_SixP3_2020[0]\n",
    "df_SixQ_2020 = df_SixQ_2020[0]\n",
    "df_SixRR_2020 = df_SixRR_2020[0]"
   ]
  },
  {
   "cell_type": "code",
   "execution_count": 6,
   "metadata": {},
   "outputs": [],
   "source": [
    "df_SixP1_2020.drop(['Unnamed: 0', 'Unnamed: 8', 'No'], axis=1, inplace=True)\n",
    "df_SixP2_2020.drop(['Unnamed: 0', 'Unnamed: 8', 'No'], axis=1, inplace=True)\n",
    "df_SixP3_2020.drop(['Unnamed: 0', 'Unnamed: 8', 'No'], axis=1, inplace=True)\n",
    "df_SixQ_2020.drop(['Unnamed: 0', 'Unnamed: 9', 'No'], axis=1, inplace=True)\n",
    "df_SixRR_2020.drop(['Unnamed: 0', 'Unnamed: 8', 'No'], axis=1, inplace=True)"
   ]
  },
  {
   "cell_type": "code",
   "execution_count": 7,
   "metadata": {},
   "outputs": [],
   "source": [
    "# df_SixP1_2020 = df_SixP1_2020.fillna(0)\n",
    "# df_SixP2_2020 = df_SixP2_2020.fillna(0)\n",
    "# df_SixP3_2020 = df_SixP3_2020.fillna(0)"
   ]
  },
  {
   "cell_type": "code",
   "execution_count": 8,
   "metadata": {
    "scrolled": true
   },
   "outputs": [],
   "source": [
    "spain_GP = [df_SixP1_2020, df_SixP2_2020, df_SixP3_2020, df_SixQ_2020, df_SixRR_2020]"
   ]
  },
  {
   "cell_type": "code",
   "execution_count": 9,
   "metadata": {},
   "outputs": [],
   "source": [
    "spain_GP_0 = spain_GP[0]\n",
    "spain_GP_1 = spain_GP[1]\n",
    "spain_GP_2 = spain_GP[2]\n",
    "spain_GP_3 = spain_GP[3]\n",
    "spain_GP_4 = spain_GP[4]"
   ]
  },
  {
   "cell_type": "code",
   "execution_count": 10,
   "metadata": {},
   "outputs": [],
   "source": [
    "spain_allP = pd.concat([spain_GP_0, spain_GP_1, spain_GP_2])\n",
    "spain_allP = spain_allP.groupby('Driver').Pos.sum()\n",
    "spain_allP = pd.DataFrame(spain_allP)\n",
    "spain_allP.rename(columns = {'Pos': 'Pos_Practice'}, inplace = True)"
   ]
  },
  {
   "cell_type": "code",
   "execution_count": 11,
   "metadata": {},
   "outputs": [],
   "source": [
    "spainQ = spain_GP_3.groupby('Driver').Pos.sum()\n",
    "spainQ = pd.DataFrame(spainQ)\n",
    "spainQ.rename(columns = {'Pos': 'Pos_Qualifying'}, inplace = True)"
   ]
  },
  {
   "cell_type": "code",
   "execution_count": 12,
   "metadata": {},
   "outputs": [],
   "source": [
    "spainR = spain_GP_4.groupby('Driver').Pos.sum()\n",
    "spainR = pd.DataFrame(spainR)\n",
    "spainR.rename(columns = {'Pos': 'Pos_Race'}, inplace = True)"
   ]
  },
  {
   "cell_type": "code",
   "execution_count": 13,
   "metadata": {},
   "outputs": [],
   "source": [
    "spain_end = pd.concat([spain_allP, spainQ, spainR], axis=1)"
   ]
  },
  {
   "cell_type": "code",
   "execution_count": 14,
   "metadata": {},
   "outputs": [],
   "source": [
    "spain_GP_0.sort_values(by=['Driver'], inplace=True)\n",
    "spain_GP_1.sort_values(by=['Driver'], inplace=True)\n",
    "spain_GP_2.sort_values(by=['Driver'], inplace=True)\n",
    "spain_GP_3.sort_values(by=['Driver'], inplace=True)\n",
    "spain_GP_4.sort_values(by=['Driver'], inplace=True)"
   ]
  },
  {
   "cell_type": "code",
   "execution_count": 15,
   "metadata": {},
   "outputs": [],
   "source": [
    "spain_dl = pd.merge(spain_GP_0, spain_GP_1, on='Driver', how='outer')\n",
    "spain_dl = pd.merge(spain_dl, spain_GP_2, on='Driver', how='outer')\n",
    "spain_dl = pd.merge(spain_dl, spain_GP_3, on='Driver', how='outer')\n",
    "spain_dl = pd.merge(spain_dl, spain_GP_4, on='Driver', how='outer')"
   ]
  },
  {
   "cell_type": "code",
   "execution_count": 16,
   "metadata": {},
   "outputs": [
    {
     "data": {
      "text/plain": [
       "['Pos_x',\n",
       " 'Driver',\n",
       " 'Car_x',\n",
       " 'Time_x',\n",
       " 'Gap_x',\n",
       " 'Laps_x',\n",
       " 'Pos_y',\n",
       " 'Car_y',\n",
       " 'Time_y',\n",
       " 'Gap_y',\n",
       " 'Laps_y',\n",
       " 'Pos_x',\n",
       " 'Car_x',\n",
       " 'Time',\n",
       " 'Gap',\n",
       " 'Laps_x',\n",
       " 'Pos_y',\n",
       " 'Car_y',\n",
       " 'Q1',\n",
       " 'Q2',\n",
       " 'Q3',\n",
       " 'Laps_y',\n",
       " 'Pos',\n",
       " 'Car',\n",
       " 'Laps',\n",
       " 'Time/Retired',\n",
       " 'PTS']"
      ]
     },
     "execution_count": 16,
     "metadata": {},
     "output_type": "execute_result"
    }
   ],
   "source": [
    "change_dups = spain_dl.columns.values.tolist()\n",
    "change_dups"
   ]
  },
  {
   "cell_type": "code",
   "execution_count": 17,
   "metadata": {},
   "outputs": [
    {
     "data": {
      "text/plain": [
       "['Pos_x',\n",
       " 'Driver',\n",
       " 'Car_x',\n",
       " 'Time_x',\n",
       " 'Gap_x',\n",
       " 'Laps_x',\n",
       " 'Pos_y',\n",
       " 'Car_y',\n",
       " 'Time_y',\n",
       " 'Gap_y',\n",
       " 'Laps_y',\n",
       " 'Pos_x_2',\n",
       " 'Car_x_2',\n",
       " 'Time',\n",
       " 'Gap',\n",
       " 'Laps_x_2',\n",
       " 'Pos_y_2',\n",
       " 'Car_y_2',\n",
       " 'Q1',\n",
       " 'Q2',\n",
       " 'Q3',\n",
       " 'Laps_y_2',\n",
       " 'Pos',\n",
       " 'Car',\n",
       " 'Laps',\n",
       " 'Time/Retired',\n",
       " 'PTS']"
      ]
     },
     "execution_count": 17,
     "metadata": {},
     "output_type": "execute_result"
    }
   ],
   "source": [
    "def uniquify(change_dups):\n",
    "    seen = set()\n",
    "    \n",
    "    for dup in change_dups:\n",
    "        name = 1\n",
    "        new_name = dup\n",
    "        \n",
    "        while new_name in seen:\n",
    "            name += 1\n",
    "            new_name = \"{}_{}\".format(dup, name)\n",
    "            \n",
    "        yield new_name\n",
    "        seen.add(new_name)\n",
    "        \n",
    "list(uniquify(change_dups))"
   ]
  },
  {
   "cell_type": "code",
   "execution_count": 18,
   "metadata": {},
   "outputs": [],
   "source": [
    "spain_dl = spain_dl.set_axis(['Pos_x',\n",
    " 'Driver',\n",
    " 'Car_x',\n",
    " 'Time_x',\n",
    " 'Gap_x',\n",
    " 'Laps_x',\n",
    " 'Pos_y',\n",
    " 'Car_y',\n",
    " 'Time_y',\n",
    " 'Gap_y',\n",
    " 'Laps_y',\n",
    " 'Pos_x_2',\n",
    " 'Car_x_2',\n",
    " 'Time',\n",
    " 'Gap',\n",
    " 'Laps_x_2',\n",
    " 'Pos_y_2',\n",
    " 'Car_y_2',\n",
    " 'Q1',\n",
    " 'Q2',\n",
    " 'Q3',\n",
    " 'Laps_y_2',\n",
    " 'Pos',\n",
    " 'Car',\n",
    " 'Laps',\n",
    " 'Time/Retired',\n",
    " 'PTS'], axis=1, inplace=False)"
   ]
  },
  {
   "cell_type": "code",
   "execution_count": 19,
   "metadata": {},
   "outputs": [
    {
     "data": {
      "text/plain": [
       "['Pos_x',\n",
       " 'Driver',\n",
       " 'Car_x',\n",
       " 'Time_x',\n",
       " 'Gap_x',\n",
       " 'Laps_x',\n",
       " 'Pos_y',\n",
       " 'Car_y',\n",
       " 'Time_y',\n",
       " 'Gap_y',\n",
       " 'Laps_y',\n",
       " 'Pos_x',\n",
       " 'Car_x',\n",
       " 'Time',\n",
       " 'Gap',\n",
       " 'Laps_x',\n",
       " 'Pos_y',\n",
       " 'Car_y',\n",
       " 'Q1',\n",
       " 'Q2',\n",
       " 'Q3',\n",
       " 'Laps_y',\n",
       " 'Pos',\n",
       " 'Car',\n",
       " 'Laps',\n",
       " 'Time/Retired',\n",
       " 'PTS']"
      ]
     },
     "execution_count": 19,
     "metadata": {},
     "output_type": "execute_result"
    }
   ],
   "source": [
    "change_dups"
   ]
  },
  {
   "cell_type": "code",
   "execution_count": 20,
   "metadata": {},
   "outputs": [],
   "source": [
    "new_names = ['Pos1',\n",
    " 'Driver1',\n",
    " 'Car1',\n",
    " 'Time1',\n",
    " 'Gap1',\n",
    " 'Laps1',\n",
    " 'Pos2',\n",
    " 'Car2',\n",
    " 'Time2',\n",
    " 'Gap2',\n",
    " 'Laps2',\n",
    " 'Pos3',\n",
    " 'Car3',\n",
    " 'Time3',\n",
    " 'Gap3',\n",
    " 'Laps3',\n",
    " 'PosQ',\n",
    " 'CarQ',\n",
    " 'Q1_Q',\n",
    " 'Q2_Q',\n",
    " 'Q3_Q',\n",
    " 'LapsQ',\n",
    " 'PosRR',\n",
    " 'CarRR',\n",
    " 'LapsRR',\n",
    " 'Time/Retired_RR',\n",
    " 'PTS_RR']"
   ]
  },
  {
   "cell_type": "code",
   "execution_count": 21,
   "metadata": {},
   "outputs": [],
   "source": [
    "spain_dl.columns = ['Pos1',\n",
    " 'Driver1',\n",
    " 'Car1',\n",
    " 'Time1',\n",
    " 'Gap1',\n",
    " 'Laps1',\n",
    " 'Pos2',\n",
    " 'Car2',\n",
    " 'Time2',\n",
    " 'Gap2',\n",
    " 'Laps2',\n",
    " 'Pos3',\n",
    " 'Car3',\n",
    " 'Time3',\n",
    " 'Gap3',\n",
    " 'Laps3',\n",
    " 'PosQ',\n",
    " 'CarQ',\n",
    " 'Q1_Q',\n",
    " 'Q2_Q',\n",
    " 'Q3_Q',\n",
    " 'LapsQ',\n",
    " 'PosRR',\n",
    " 'CarRR',\n",
    " 'LapsRR',\n",
    " 'Time/Retired_RR',\n",
    " 'PTS_RR']"
   ]
  },
  {
   "cell_type": "code",
   "execution_count": 22,
   "metadata": {},
   "outputs": [],
   "source": [
    "spain_dl.drop(['Car2', 'Car3', 'CarQ', 'CarRR'], axis=1, inplace=True)"
   ]
  },
  {
   "cell_type": "code",
   "execution_count": 23,
   "metadata": {},
   "outputs": [],
   "source": [
    "# spain_dl = spain_dl.fillna('n/a')"
   ]
  },
  {
   "cell_type": "code",
   "execution_count": 24,
   "metadata": {},
   "outputs": [],
   "source": [
    "names_list = list(spain_dl.columns)\n",
    "\n",
    "new_names_list = []\n",
    "\n",
    "for names in names_list:\n",
    "    names = 'spain_' + names\n",
    "    new_names_list.append(names)\n",
    "    \n",
    "spain_dl.columns = new_names_list"
   ]
  },
  {
   "cell_type": "code",
   "execution_count": 25,
   "metadata": {},
   "outputs": [],
   "source": [
    "spain_dl = spain_dl[~spain_dl['spain_Time/Retired_RR'].isin(['DNF'])]"
   ]
  },
  {
   "cell_type": "code",
   "execution_count": 26,
   "metadata": {},
   "outputs": [],
   "source": [
    "pd.options.mode.chained_assignment = None  # default='warn'\n",
    "spain_dl.drop(spain_dl.columns[[4, 5, 8, 9, 12, 13, 18, 20, 21]], axis=1, inplace=True)"
   ]
  },
  {
   "cell_type": "code",
   "execution_count": 27,
   "metadata": {},
   "outputs": [],
   "source": [
    "spain_dl.drop(['spain_Time1', 'spain_Time2', 'spain_Time3'], axis=1, inplace=True)"
   ]
  },
  {
   "cell_type": "code",
   "execution_count": 28,
   "metadata": {},
   "outputs": [],
   "source": [
    "def qualifying_values(race):\n",
    "    race.iloc[:, 6] = race.iloc[:, 6].apply(lambda x: 1 if not pd.isnull(x) else 0)\n",
    "    race.iloc[:, 7] = race.iloc[:, 7].apply(lambda x: 1 if not pd.isnull(x) else 0)\n",
    "    race.iloc[:, 8] = race.iloc[:, 8].apply(lambda x: 1 if not pd.isnull(x) else 0)"
   ]
  },
  {
   "cell_type": "code",
   "execution_count": 29,
   "metadata": {},
   "outputs": [],
   "source": [
    "qualifying_values(spain_dl)"
   ]
  },
  {
   "cell_type": "code",
   "execution_count": 30,
   "metadata": {},
   "outputs": [],
   "source": [
    "spain_dl = spain_dl.drop(16)"
   ]
  },
  {
   "cell_type": "code",
   "execution_count": 31,
   "metadata": {},
   "outputs": [],
   "source": [
    "spain_dl['spain_Pos1'] = spain_dl['spain_Pos1'].fillna(20.0)"
   ]
  },
  {
   "cell_type": "code",
   "execution_count": 32,
   "metadata": {
    "scrolled": true
   },
   "outputs": [],
   "source": [
    "spain_dl['spain_Car1'] = spain_dl['spain_Car1'].fillna('Williams Mercedes')"
   ]
  },
  {
   "cell_type": "code",
   "execution_count": 33,
   "metadata": {
    "scrolled": true
   },
   "outputs": [
    {
     "data": {
      "text/html": [
       "<div>\n",
       "<style scoped>\n",
       "    .dataframe tbody tr th:only-of-type {\n",
       "        vertical-align: middle;\n",
       "    }\n",
       "\n",
       "    .dataframe tbody tr th {\n",
       "        vertical-align: top;\n",
       "    }\n",
       "\n",
       "    .dataframe thead th {\n",
       "        text-align: right;\n",
       "    }\n",
       "</style>\n",
       "<table border=\"1\" class=\"dataframe\">\n",
       "  <thead>\n",
       "    <tr style=\"text-align: right;\">\n",
       "      <th></th>\n",
       "      <th>spain_Pos1</th>\n",
       "      <th>spain_Driver1</th>\n",
       "      <th>spain_Car1</th>\n",
       "      <th>spain_Pos2</th>\n",
       "      <th>spain_Pos3</th>\n",
       "      <th>spain_PosQ</th>\n",
       "      <th>spain_Q1_Q</th>\n",
       "      <th>spain_Q2_Q</th>\n",
       "      <th>spain_Q3_Q</th>\n",
       "      <th>spain_PosRR</th>\n",
       "      <th>spain_PTS_RR</th>\n",
       "    </tr>\n",
       "  </thead>\n",
       "  <tbody>\n",
       "    <tr>\n",
       "      <th>0</th>\n",
       "      <td>8.0</td>\n",
       "      <td>Alexander  Albon  ALB</td>\n",
       "      <td>Red Bull Racing Honda</td>\n",
       "      <td>13.0</td>\n",
       "      <td>9.0</td>\n",
       "      <td>6.0</td>\n",
       "      <td>1</td>\n",
       "      <td>1</td>\n",
       "      <td>1</td>\n",
       "      <td>8</td>\n",
       "      <td>4.0</td>\n",
       "    </tr>\n",
       "    <tr>\n",
       "      <th>1</th>\n",
       "      <td>15.0</td>\n",
       "      <td>Antonio  Giovinazzi  GIO</td>\n",
       "      <td>Alfa Romeo Racing Ferrari</td>\n",
       "      <td>18.0</td>\n",
       "      <td>18.0</td>\n",
       "      <td>20.0</td>\n",
       "      <td>1</td>\n",
       "      <td>0</td>\n",
       "      <td>0</td>\n",
       "      <td>16</td>\n",
       "      <td>0.0</td>\n",
       "    </tr>\n",
       "    <tr>\n",
       "      <th>2</th>\n",
       "      <td>11.0</td>\n",
       "      <td>Carlos  Sainz  SAI</td>\n",
       "      <td>McLaren Renault</td>\n",
       "      <td>7.0</td>\n",
       "      <td>4.0</td>\n",
       "      <td>7.0</td>\n",
       "      <td>1</td>\n",
       "      <td>1</td>\n",
       "      <td>1</td>\n",
       "      <td>6</td>\n",
       "      <td>8.0</td>\n",
       "    </tr>\n",
       "    <tr>\n",
       "      <th>4</th>\n",
       "      <td>18.0</td>\n",
       "      <td>Daniel  Ricciardo  RIC</td>\n",
       "      <td>Renault</td>\n",
       "      <td>4.0</td>\n",
       "      <td>10.0</td>\n",
       "      <td>13.0</td>\n",
       "      <td>1</td>\n",
       "      <td>1</td>\n",
       "      <td>0</td>\n",
       "      <td>11</td>\n",
       "      <td>0.0</td>\n",
       "    </tr>\n",
       "    <tr>\n",
       "      <th>5</th>\n",
       "      <td>17.0</td>\n",
       "      <td>Daniil  Kvyat  KVY</td>\n",
       "      <td>AlphaTauri Honda</td>\n",
       "      <td>15.0</td>\n",
       "      <td>16.0</td>\n",
       "      <td>12.0</td>\n",
       "      <td>1</td>\n",
       "      <td>1</td>\n",
       "      <td>0</td>\n",
       "      <td>12</td>\n",
       "      <td>0.0</td>\n",
       "    </tr>\n",
       "    <tr>\n",
       "      <th>6</th>\n",
       "      <td>12.0</td>\n",
       "      <td>Esteban  Ocon  OCO</td>\n",
       "      <td>Renault</td>\n",
       "      <td>9.0</td>\n",
       "      <td>11.0</td>\n",
       "      <td>15.0</td>\n",
       "      <td>1</td>\n",
       "      <td>1</td>\n",
       "      <td>0</td>\n",
       "      <td>13</td>\n",
       "      <td>0.0</td>\n",
       "    </tr>\n",
       "    <tr>\n",
       "      <th>7</th>\n",
       "      <td>9.0</td>\n",
       "      <td>Kevin  Magnussen  MAG</td>\n",
       "      <td>Haas Ferrari</td>\n",
       "      <td>16.0</td>\n",
       "      <td>17.0</td>\n",
       "      <td>16.0</td>\n",
       "      <td>1</td>\n",
       "      <td>0</td>\n",
       "      <td>0</td>\n",
       "      <td>15</td>\n",
       "      <td>0.0</td>\n",
       "    </tr>\n",
       "    <tr>\n",
       "      <th>8</th>\n",
       "      <td>16.0</td>\n",
       "      <td>Kimi  Räikkönen  RAI</td>\n",
       "      <td>Alfa Romeo Racing Ferrari</td>\n",
       "      <td>17.0</td>\n",
       "      <td>14.0</td>\n",
       "      <td>14.0</td>\n",
       "      <td>1</td>\n",
       "      <td>1</td>\n",
       "      <td>0</td>\n",
       "      <td>14</td>\n",
       "      <td>0.0</td>\n",
       "    </tr>\n",
       "    <tr>\n",
       "      <th>9</th>\n",
       "      <td>10.0</td>\n",
       "      <td>Lance  Stroll  STR</td>\n",
       "      <td>Racing Point BWT Mercedes</td>\n",
       "      <td>11.0</td>\n",
       "      <td>8.0</td>\n",
       "      <td>5.0</td>\n",
       "      <td>1</td>\n",
       "      <td>1</td>\n",
       "      <td>1</td>\n",
       "      <td>4</td>\n",
       "      <td>12.0</td>\n",
       "    </tr>\n",
       "    <tr>\n",
       "      <th>10</th>\n",
       "      <td>13.0</td>\n",
       "      <td>Lando  Norris  NOR</td>\n",
       "      <td>McLaren Renault</td>\n",
       "      <td>14.0</td>\n",
       "      <td>15.0</td>\n",
       "      <td>8.0</td>\n",
       "      <td>1</td>\n",
       "      <td>1</td>\n",
       "      <td>1</td>\n",
       "      <td>10</td>\n",
       "      <td>1.0</td>\n",
       "    </tr>\n",
       "    <tr>\n",
       "      <th>11</th>\n",
       "      <td>2.0</td>\n",
       "      <td>Lewis  Hamilton  HAM</td>\n",
       "      <td>Mercedes</td>\n",
       "      <td>1.0</td>\n",
       "      <td>1.0</td>\n",
       "      <td>1.0</td>\n",
       "      <td>1</td>\n",
       "      <td>1</td>\n",
       "      <td>1</td>\n",
       "      <td>1</td>\n",
       "      <td>25.0</td>\n",
       "    </tr>\n",
       "    <tr>\n",
       "      <th>12</th>\n",
       "      <td>3.0</td>\n",
       "      <td>Max  Verstappen  VER</td>\n",
       "      <td>Red Bull Racing Honda</td>\n",
       "      <td>3.0</td>\n",
       "      <td>3.0</td>\n",
       "      <td>3.0</td>\n",
       "      <td>1</td>\n",
       "      <td>1</td>\n",
       "      <td>1</td>\n",
       "      <td>2</td>\n",
       "      <td>18.0</td>\n",
       "    </tr>\n",
       "    <tr>\n",
       "      <th>13</th>\n",
       "      <td>19.0</td>\n",
       "      <td>Nicholas  Latifi  LAT</td>\n",
       "      <td>Williams Mercedes</td>\n",
       "      <td>19.0</td>\n",
       "      <td>20.0</td>\n",
       "      <td>19.0</td>\n",
       "      <td>1</td>\n",
       "      <td>0</td>\n",
       "      <td>0</td>\n",
       "      <td>18</td>\n",
       "      <td>0.0</td>\n",
       "    </tr>\n",
       "    <tr>\n",
       "      <th>14</th>\n",
       "      <td>14.0</td>\n",
       "      <td>Pierre  Gasly  GAS</td>\n",
       "      <td>AlphaTauri Honda</td>\n",
       "      <td>10.0</td>\n",
       "      <td>7.0</td>\n",
       "      <td>10.0</td>\n",
       "      <td>1</td>\n",
       "      <td>1</td>\n",
       "      <td>1</td>\n",
       "      <td>9</td>\n",
       "      <td>2.0</td>\n",
       "    </tr>\n",
       "    <tr>\n",
       "      <th>15</th>\n",
       "      <td>6.0</td>\n",
       "      <td>Romain  Grosjean  GRO</td>\n",
       "      <td>Haas Ferrari</td>\n",
       "      <td>5.0</td>\n",
       "      <td>13.0</td>\n",
       "      <td>17.0</td>\n",
       "      <td>1</td>\n",
       "      <td>0</td>\n",
       "      <td>0</td>\n",
       "      <td>19</td>\n",
       "      <td>0.0</td>\n",
       "    </tr>\n",
       "    <tr>\n",
       "      <th>17</th>\n",
       "      <td>5.0</td>\n",
       "      <td>Sebastian  Vettel  VET</td>\n",
       "      <td>Ferrari</td>\n",
       "      <td>12.0</td>\n",
       "      <td>12.0</td>\n",
       "      <td>11.0</td>\n",
       "      <td>1</td>\n",
       "      <td>1</td>\n",
       "      <td>0</td>\n",
       "      <td>7</td>\n",
       "      <td>6.0</td>\n",
       "    </tr>\n",
       "    <tr>\n",
       "      <th>18</th>\n",
       "      <td>7.0</td>\n",
       "      <td>Sergio  Perez  PER</td>\n",
       "      <td>Racing Point BWT Mercedes</td>\n",
       "      <td>8.0</td>\n",
       "      <td>5.0</td>\n",
       "      <td>4.0</td>\n",
       "      <td>1</td>\n",
       "      <td>1</td>\n",
       "      <td>1</td>\n",
       "      <td>5</td>\n",
       "      <td>10.0</td>\n",
       "    </tr>\n",
       "    <tr>\n",
       "      <th>19</th>\n",
       "      <td>1.0</td>\n",
       "      <td>Valtteri  Bottas  BOT</td>\n",
       "      <td>Mercedes</td>\n",
       "      <td>2.0</td>\n",
       "      <td>2.0</td>\n",
       "      <td>2.0</td>\n",
       "      <td>1</td>\n",
       "      <td>1</td>\n",
       "      <td>1</td>\n",
       "      <td>3</td>\n",
       "      <td>16.0</td>\n",
       "    </tr>\n",
       "    <tr>\n",
       "      <th>20</th>\n",
       "      <td>20.0</td>\n",
       "      <td>George  Russell  RUS</td>\n",
       "      <td>Williams Mercedes</td>\n",
       "      <td>20.0</td>\n",
       "      <td>19.0</td>\n",
       "      <td>18.0</td>\n",
       "      <td>1</td>\n",
       "      <td>0</td>\n",
       "      <td>0</td>\n",
       "      <td>17</td>\n",
       "      <td>0.0</td>\n",
       "    </tr>\n",
       "  </tbody>\n",
       "</table>\n",
       "</div>"
      ],
      "text/plain": [
       "    spain_Pos1             spain_Driver1                 spain_Car1  \\\n",
       "0          8.0     Alexander  Albon  ALB      Red Bull Racing Honda   \n",
       "1         15.0  Antonio  Giovinazzi  GIO  Alfa Romeo Racing Ferrari   \n",
       "2         11.0        Carlos  Sainz  SAI            McLaren Renault   \n",
       "4         18.0    Daniel  Ricciardo  RIC                    Renault   \n",
       "5         17.0        Daniil  Kvyat  KVY           AlphaTauri Honda   \n",
       "6         12.0        Esteban  Ocon  OCO                    Renault   \n",
       "7          9.0     Kevin  Magnussen  MAG               Haas Ferrari   \n",
       "8         16.0      Kimi  Räikkönen  RAI  Alfa Romeo Racing Ferrari   \n",
       "9         10.0        Lance  Stroll  STR  Racing Point BWT Mercedes   \n",
       "10        13.0        Lando  Norris  NOR            McLaren Renault   \n",
       "11         2.0      Lewis  Hamilton  HAM                   Mercedes   \n",
       "12         3.0      Max  Verstappen  VER      Red Bull Racing Honda   \n",
       "13        19.0     Nicholas  Latifi  LAT          Williams Mercedes   \n",
       "14        14.0        Pierre  Gasly  GAS           AlphaTauri Honda   \n",
       "15         6.0     Romain  Grosjean  GRO               Haas Ferrari   \n",
       "17         5.0    Sebastian  Vettel  VET                    Ferrari   \n",
       "18         7.0        Sergio  Perez  PER  Racing Point BWT Mercedes   \n",
       "19         1.0     Valtteri  Bottas  BOT                   Mercedes   \n",
       "20        20.0      George  Russell  RUS          Williams Mercedes   \n",
       "\n",
       "    spain_Pos2  spain_Pos3  spain_PosQ  spain_Q1_Q  spain_Q2_Q  spain_Q3_Q  \\\n",
       "0         13.0         9.0         6.0           1           1           1   \n",
       "1         18.0        18.0        20.0           1           0           0   \n",
       "2          7.0         4.0         7.0           1           1           1   \n",
       "4          4.0        10.0        13.0           1           1           0   \n",
       "5         15.0        16.0        12.0           1           1           0   \n",
       "6          9.0        11.0        15.0           1           1           0   \n",
       "7         16.0        17.0        16.0           1           0           0   \n",
       "8         17.0        14.0        14.0           1           1           0   \n",
       "9         11.0         8.0         5.0           1           1           1   \n",
       "10        14.0        15.0         8.0           1           1           1   \n",
       "11         1.0         1.0         1.0           1           1           1   \n",
       "12         3.0         3.0         3.0           1           1           1   \n",
       "13        19.0        20.0        19.0           1           0           0   \n",
       "14        10.0         7.0        10.0           1           1           1   \n",
       "15         5.0        13.0        17.0           1           0           0   \n",
       "17        12.0        12.0        11.0           1           1           0   \n",
       "18         8.0         5.0         4.0           1           1           1   \n",
       "19         2.0         2.0         2.0           1           1           1   \n",
       "20        20.0        19.0        18.0           1           0           0   \n",
       "\n",
       "   spain_PosRR  spain_PTS_RR  \n",
       "0            8           4.0  \n",
       "1           16           0.0  \n",
       "2            6           8.0  \n",
       "4           11           0.0  \n",
       "5           12           0.0  \n",
       "6           13           0.0  \n",
       "7           15           0.0  \n",
       "8           14           0.0  \n",
       "9            4          12.0  \n",
       "10          10           1.0  \n",
       "11           1          25.0  \n",
       "12           2          18.0  \n",
       "13          18           0.0  \n",
       "14           9           2.0  \n",
       "15          19           0.0  \n",
       "17           7           6.0  \n",
       "18           5          10.0  \n",
       "19           3          16.0  \n",
       "20          17           0.0  "
      ]
     },
     "execution_count": 33,
     "metadata": {},
     "output_type": "execute_result"
    }
   ],
   "source": [
    "spain_dl"
   ]
  },
  {
   "cell_type": "code",
   "execution_count": 34,
   "metadata": {},
   "outputs": [
    {
     "name": "stdout",
     "output_type": "stream",
     "text": [
      "Stored 'spain_dl' (DataFrame)\n"
     ]
    }
   ],
   "source": [
    "%store spain_dl"
   ]
  }
 ],
 "metadata": {
  "kernelspec": {
   "display_name": "Python 3",
   "language": "python",
   "name": "python3"
  },
  "language_info": {
   "codemirror_mode": {
    "name": "ipython",
    "version": 3
   },
   "file_extension": ".py",
   "mimetype": "text/x-python",
   "name": "python",
   "nbconvert_exporter": "python",
   "pygments_lexer": "ipython3",
   "version": "3.8.8"
  }
 },
 "nbformat": 4,
 "nbformat_minor": 4
}
