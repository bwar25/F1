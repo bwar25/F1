{
 "cells": [
  {
   "cell_type": "code",
   "execution_count": 1,
   "metadata": {},
   "outputs": [],
   "source": [
    "# initial run through of project"
   ]
  },
  {
   "cell_type": "code",
   "execution_count": 2,
   "metadata": {},
   "outputs": [],
   "source": [
    "# import necessary libraries\n",
    "\n",
    "import pandas as pd"
   ]
  },
  {
   "cell_type": "code",
   "execution_count": 3,
   "metadata": {},
   "outputs": [
    {
     "name": "stdout",
     "output_type": "stream",
     "text": [
      "https://www.formula1.com/en/results.html/2020/races/1053/italy/practice-1.html\n",
      "https://www.formula1.com/en/results.html/2020/races/1053/italy/practice-2.html\n",
      "https://www.formula1.com/en/results.html/2020/races/1053/italy/practice-3.html\n",
      "https://www.formula1.com/en/results.html/2020/races/1053/italy/qualifying.html\n",
      "https://www.formula1.com/en/results.html/2020/races/1053/italy/race-result.html\n"
     ]
    }
   ],
   "source": [
    "# scraping data \n",
    "\n",
    "titles = ['practice-1', 'practice-2', 'practice-3', 'qualifying', 'race-result']\n",
    "url = 'https://www.formula1.com/en/results.html/2020/races/1053/italy/{}.html'\n",
    "\n",
    "for title in titles:\n",
    "    urls = url.format(title)\n",
    "    print(urls)"
   ]
  },
  {
   "cell_type": "code",
   "execution_count": 4,
   "metadata": {},
   "outputs": [],
   "source": [
    "NineP1_2020 ='https://www.formula1.com/en/results.html/2020/races/1053/italy/practice-1.html'\n",
    "NineP2_2020 ='https://www.formula1.com/en/results.html/2020/races/1053/italy/practice-2.html'\n",
    "NineP3_2020 ='https://www.formula1.com/en/results.html/2020/races/1053/italy/practice-3.html'\n",
    "NineQ_2020 ='https://www.formula1.com/en/results.html/2020/races/1053/italy/qualifying.html'\n",
    "NineRR_2020 ='https://www.formula1.com/en/results.html/2020/races/1053/italy/race-result.html'"
   ]
  },
  {
   "cell_type": "code",
   "execution_count": 5,
   "metadata": {},
   "outputs": [],
   "source": [
    "df_NineP1_2020 = pd.read_html(NineP1_2020, header=0)\n",
    "df_NineP2_2020 = pd.read_html(NineP2_2020, header=0)\n",
    "df_NineP3_2020 = pd.read_html(NineP3_2020, header=0)\n",
    "df_NineQ_2020 = pd.read_html(NineQ_2020, header=0)\n",
    "df_NineRR_2020 = pd.read_html(NineRR_2020, header=0)\n",
    "\n",
    "df_NineP1_2020 = df_NineP1_2020[0]\n",
    "df_NineP2_2020 = df_NineP2_2020[0]\n",
    "df_NineP3_2020 = df_NineP3_2020[0]\n",
    "df_NineQ_2020 = df_NineQ_2020[0]\n",
    "df_NineRR_2020 = df_NineRR_2020[0]"
   ]
  },
  {
   "cell_type": "code",
   "execution_count": 6,
   "metadata": {},
   "outputs": [],
   "source": [
    "df_NineP1_2020.drop(['Unnamed: 0', 'Unnamed: 8', 'No'], axis=1, inplace=True)\n",
    "df_NineP2_2020.drop(['Unnamed: 0', 'Unnamed: 8', 'No'], axis=1, inplace=True)\n",
    "df_NineP3_2020.drop(['Unnamed: 0', 'Unnamed: 8', 'No'], axis=1, inplace=True)\n",
    "df_NineQ_2020.drop(['Unnamed: 0', 'Unnamed: 9', 'No'], axis=1, inplace=True)\n",
    "df_NineRR_2020.drop(['Unnamed: 0', 'Unnamed: 8', 'No'], axis=1, inplace=True)"
   ]
  },
  {
   "cell_type": "code",
   "execution_count": 7,
   "metadata": {},
   "outputs": [],
   "source": [
    "# df_NineP1_2020 = df_NineP1_2020.fillna(0)\n",
    "# df_NineP2_2020 = df_NineP2_2020.fillna(0)\n",
    "# df_NineP3_2020 = df_NineP3_2020.fillna(0)"
   ]
  },
  {
   "cell_type": "code",
   "execution_count": 8,
   "metadata": {},
   "outputs": [],
   "source": [
    "tuscany_GP = [df_NineP1_2020, df_NineP2_2020, df_NineP3_2020, df_NineQ_2020, df_NineRR_2020]"
   ]
  },
  {
   "cell_type": "code",
   "execution_count": 9,
   "metadata": {},
   "outputs": [],
   "source": [
    "tuscany_GP_0 = tuscany_GP[0]\n",
    "tuscany_GP_1 = tuscany_GP[1]\n",
    "tuscany_GP_2 = tuscany_GP[2]\n",
    "tuscany_GP_3 = tuscany_GP[3]\n",
    "tuscany_GP_4 = tuscany_GP[4]"
   ]
  },
  {
   "cell_type": "code",
   "execution_count": 10,
   "metadata": {},
   "outputs": [],
   "source": [
    "tuscany_allP = pd.concat([tuscany_GP_0, tuscany_GP_1, tuscany_GP_2])\n",
    "tuscany_allP = tuscany_allP.groupby('Driver').Pos.sum()\n",
    "tuscany_allP = pd.DataFrame(tuscany_allP)\n",
    "tuscany_allP.rename(columns = {'Pos': 'Pos_Practice'}, inplace = True)"
   ]
  },
  {
   "cell_type": "code",
   "execution_count": 11,
   "metadata": {},
   "outputs": [],
   "source": [
    "tuscanyQ = tuscany_GP_3.groupby('Driver').Pos.sum()\n",
    "tuscanyQ = pd.DataFrame(tuscanyQ)\n",
    "tuscanyQ.rename(columns = {'Pos': 'Pos_Qualifying'}, inplace = True)"
   ]
  },
  {
   "cell_type": "code",
   "execution_count": 12,
   "metadata": {},
   "outputs": [],
   "source": [
    "tuscanyR = tuscany_GP_4.groupby('Driver').Pos.sum()\n",
    "tuscanyR = pd.DataFrame(tuscanyR)\n",
    "tuscanyR.rename(columns = {'Pos': 'Pos_Race'}, inplace = True)"
   ]
  },
  {
   "cell_type": "code",
   "execution_count": 13,
   "metadata": {},
   "outputs": [],
   "source": [
    "tuscany_end = pd.concat([tuscany_allP, tuscanyQ, tuscanyR], axis=1)"
   ]
  },
  {
   "cell_type": "code",
   "execution_count": 14,
   "metadata": {},
   "outputs": [],
   "source": [
    "tuscany_GP_0.sort_values(by=['Driver'], inplace=True)\n",
    "tuscany_GP_1.sort_values(by=['Driver'], inplace=True)\n",
    "tuscany_GP_2.sort_values(by=['Driver'], inplace=True)\n",
    "tuscany_GP_3.sort_values(by=['Driver'], inplace=True)\n",
    "tuscany_GP_4.sort_values(by=['Driver'], inplace=True)"
   ]
  },
  {
   "cell_type": "code",
   "execution_count": 15,
   "metadata": {},
   "outputs": [],
   "source": [
    "tuscany_dl = pd.merge(tuscany_GP_0, tuscany_GP_1, on='Driver', how='outer')\n",
    "tuscany_dl = pd.merge(tuscany_dl, tuscany_GP_2, on='Driver', how='outer')\n",
    "tuscany_dl = pd.merge(tuscany_dl, tuscany_GP_3, on='Driver', how='outer')\n",
    "tuscany_dl = pd.merge(tuscany_dl, tuscany_GP_4, on='Driver', how='outer')"
   ]
  },
  {
   "cell_type": "code",
   "execution_count": 16,
   "metadata": {},
   "outputs": [
    {
     "data": {
      "text/plain": [
       "['Pos_x',\n",
       " 'Driver',\n",
       " 'Car_x',\n",
       " 'Time_x',\n",
       " 'Gap_x',\n",
       " 'Laps_x',\n",
       " 'Pos_y',\n",
       " 'Car_y',\n",
       " 'Time_y',\n",
       " 'Gap_y',\n",
       " 'Laps_y',\n",
       " 'Pos_x',\n",
       " 'Car_x',\n",
       " 'Time',\n",
       " 'Gap',\n",
       " 'Laps_x',\n",
       " 'Pos_y',\n",
       " 'Car_y',\n",
       " 'Q1',\n",
       " 'Q2',\n",
       " 'Q3',\n",
       " 'Laps_y',\n",
       " 'Pos',\n",
       " 'Car',\n",
       " 'Laps',\n",
       " 'Time/Retired',\n",
       " 'PTS']"
      ]
     },
     "execution_count": 16,
     "metadata": {},
     "output_type": "execute_result"
    }
   ],
   "source": [
    "change_dups = tuscany_dl.columns.values.tolist()\n",
    "change_dups"
   ]
  },
  {
   "cell_type": "code",
   "execution_count": 17,
   "metadata": {},
   "outputs": [
    {
     "data": {
      "text/plain": [
       "['Pos_x',\n",
       " 'Driver',\n",
       " 'Car_x',\n",
       " 'Time_x',\n",
       " 'Gap_x',\n",
       " 'Laps_x',\n",
       " 'Pos_y',\n",
       " 'Car_y',\n",
       " 'Time_y',\n",
       " 'Gap_y',\n",
       " 'Laps_y',\n",
       " 'Pos_x_2',\n",
       " 'Car_x_2',\n",
       " 'Time',\n",
       " 'Gap',\n",
       " 'Laps_x_2',\n",
       " 'Pos_y_2',\n",
       " 'Car_y_2',\n",
       " 'Q1',\n",
       " 'Q2',\n",
       " 'Q3',\n",
       " 'Laps_y_2',\n",
       " 'Pos',\n",
       " 'Car',\n",
       " 'Laps',\n",
       " 'Time/Retired',\n",
       " 'PTS']"
      ]
     },
     "execution_count": 17,
     "metadata": {},
     "output_type": "execute_result"
    }
   ],
   "source": [
    "def uniquify(change_dups):\n",
    "    seen = set()\n",
    "    \n",
    "    for dup in change_dups:\n",
    "        name = 1\n",
    "        new_name = dup\n",
    "        \n",
    "        while new_name in seen:\n",
    "            name += 1\n",
    "            new_name = \"{}_{}\".format(dup, name)\n",
    "            \n",
    "        yield new_name\n",
    "        seen.add(new_name)\n",
    "        \n",
    "list(uniquify(change_dups))"
   ]
  },
  {
   "cell_type": "code",
   "execution_count": 18,
   "metadata": {},
   "outputs": [],
   "source": [
    "tuscany_dl = tuscany_dl.set_axis(['Pos_x',\n",
    " 'Driver',\n",
    " 'Car_x',\n",
    " 'Time_x',\n",
    " 'Gap_x',\n",
    " 'Laps_x',\n",
    " 'Pos_y',\n",
    " 'Car_y',\n",
    " 'Time_y',\n",
    " 'Gap_y',\n",
    " 'Laps_y',\n",
    " 'Pos_x_2',\n",
    " 'Car_x_2',\n",
    " 'Time',\n",
    " 'Gap',\n",
    " 'Laps_x_2',\n",
    " 'Pos_y_2',\n",
    " 'Car_y_2',\n",
    " 'Q1',\n",
    " 'Q2',\n",
    " 'Q3',\n",
    " 'Laps_y_2',\n",
    " 'Pos',\n",
    " 'Car',\n",
    " 'Laps',\n",
    " 'Time/Retired',\n",
    " 'PTS'], axis=1, inplace=False)"
   ]
  },
  {
   "cell_type": "code",
   "execution_count": 19,
   "metadata": {},
   "outputs": [
    {
     "data": {
      "text/plain": [
       "['Pos_x',\n",
       " 'Driver',\n",
       " 'Car_x',\n",
       " 'Time_x',\n",
       " 'Gap_x',\n",
       " 'Laps_x',\n",
       " 'Pos_y',\n",
       " 'Car_y',\n",
       " 'Time_y',\n",
       " 'Gap_y',\n",
       " 'Laps_y',\n",
       " 'Pos_x',\n",
       " 'Car_x',\n",
       " 'Time',\n",
       " 'Gap',\n",
       " 'Laps_x',\n",
       " 'Pos_y',\n",
       " 'Car_y',\n",
       " 'Q1',\n",
       " 'Q2',\n",
       " 'Q3',\n",
       " 'Laps_y',\n",
       " 'Pos',\n",
       " 'Car',\n",
       " 'Laps',\n",
       " 'Time/Retired',\n",
       " 'PTS']"
      ]
     },
     "execution_count": 19,
     "metadata": {},
     "output_type": "execute_result"
    }
   ],
   "source": [
    "change_dups"
   ]
  },
  {
   "cell_type": "code",
   "execution_count": 20,
   "metadata": {},
   "outputs": [],
   "source": [
    "new_names = ['Pos1',\n",
    " 'Driver1',\n",
    " 'Car1',\n",
    " 'Time1',\n",
    " 'Gap1',\n",
    " 'Laps1',\n",
    " 'Pos2',\n",
    " 'Car2',\n",
    " 'Time2',\n",
    " 'Gap2',\n",
    " 'Laps2',\n",
    " 'Pos3',\n",
    " 'Car3',\n",
    " 'Time3',\n",
    " 'Gap3',\n",
    " 'Laps3',\n",
    " 'PosQ',\n",
    " 'CarQ',\n",
    " 'Q1_Q',\n",
    " 'Q2_Q',\n",
    " 'Q3_Q',\n",
    " 'LapsQ',\n",
    " 'PosRR',\n",
    " 'CarRR',\n",
    " 'LapsRR',\n",
    " 'Time/Retired_RR',\n",
    " 'PTS_RR']"
   ]
  },
  {
   "cell_type": "code",
   "execution_count": 21,
   "metadata": {},
   "outputs": [],
   "source": [
    "tuscany_dl.columns = ['Pos1',\n",
    " 'Driver1',\n",
    " 'Car1',\n",
    " 'Time1',\n",
    " 'Gap1',\n",
    " 'Laps1',\n",
    " 'Pos2',\n",
    " 'Car2',\n",
    " 'Time2',\n",
    " 'Gap2',\n",
    " 'Laps2',\n",
    " 'Pos3',\n",
    " 'Car3',\n",
    " 'Time3',\n",
    " 'Gap3',\n",
    " 'Laps3',\n",
    " 'PosQ',\n",
    " 'CarQ',\n",
    " 'Q1_Q',\n",
    " 'Q2_Q',\n",
    " 'Q3_Q',\n",
    " 'LapsQ',\n",
    " 'PosRR',\n",
    " 'CarRR',\n",
    " 'LapsRR',\n",
    " 'Time/Retired_RR',\n",
    " 'PTS_RR']"
   ]
  },
  {
   "cell_type": "code",
   "execution_count": 22,
   "metadata": {},
   "outputs": [],
   "source": [
    "tuscany_dl.drop(['Car2', 'Car3', 'CarQ', 'CarRR'], axis=1, inplace=True)"
   ]
  },
  {
   "cell_type": "code",
   "execution_count": 23,
   "metadata": {},
   "outputs": [],
   "source": [
    "# tuscany_dl = tuscany_dl.fillna('n/a')"
   ]
  },
  {
   "cell_type": "code",
   "execution_count": 24,
   "metadata": {},
   "outputs": [],
   "source": [
    "names_list = list(tuscany_dl.columns)\n",
    "\n",
    "new_names_list = []\n",
    "\n",
    "for names in names_list:\n",
    "    names = 'tuscany_' + names\n",
    "    new_names_list.append(names)\n",
    "    \n",
    "tuscany_dl.columns = new_names_list"
   ]
  },
  {
   "cell_type": "code",
   "execution_count": 25,
   "metadata": {},
   "outputs": [],
   "source": [
    "tuscany_dl = tuscany_dl[~tuscany_dl['tuscany_Time/Retired_RR'].isin(['DNF'])]"
   ]
  },
  {
   "cell_type": "code",
   "execution_count": 26,
   "metadata": {},
   "outputs": [],
   "source": [
    "pd.options.mode.chained_assignment = None  # default='warn'\n",
    "tuscany_dl.drop(tuscany_dl.columns[[4, 5, 8, 9, 12, 13, 18, 20, 21]], axis=1, inplace=True)"
   ]
  },
  {
   "cell_type": "code",
   "execution_count": 27,
   "metadata": {},
   "outputs": [],
   "source": [
    "tuscany_dl.drop(['tuscany_Time1', 'tuscany_Time2', 'tuscany_Time3'], axis=1, inplace=True)"
   ]
  },
  {
   "cell_type": "code",
   "execution_count": 28,
   "metadata": {},
   "outputs": [],
   "source": [
    "def qualifying_values(race):\n",
    "    race.iloc[:, 6] = race.iloc[:, 6].apply(lambda x: 1 if not pd.isnull(x) else 0)\n",
    "    race.iloc[:, 7] = race.iloc[:, 7].apply(lambda x: 1 if not pd.isnull(x) else 0)\n",
    "    race.iloc[:, 8] = race.iloc[:, 8].apply(lambda x: 1 if not pd.isnull(x) else 0)"
   ]
  },
  {
   "cell_type": "code",
   "execution_count": 29,
   "metadata": {},
   "outputs": [],
   "source": [
    "qualifying_values(tuscany_dl)"
   ]
  },
  {
   "cell_type": "code",
   "execution_count": 30,
   "metadata": {
    "scrolled": true
   },
   "outputs": [
    {
     "data": {
      "text/html": [
       "<div>\n",
       "<style scoped>\n",
       "    .dataframe tbody tr th:only-of-type {\n",
       "        vertical-align: middle;\n",
       "    }\n",
       "\n",
       "    .dataframe tbody tr th {\n",
       "        vertical-align: top;\n",
       "    }\n",
       "\n",
       "    .dataframe thead th {\n",
       "        text-align: right;\n",
       "    }\n",
       "</style>\n",
       "<table border=\"1\" class=\"dataframe\">\n",
       "  <thead>\n",
       "    <tr style=\"text-align: right;\">\n",
       "      <th></th>\n",
       "      <th>tuscany_Pos1</th>\n",
       "      <th>tuscany_Driver1</th>\n",
       "      <th>tuscany_Car1</th>\n",
       "      <th>tuscany_Pos2</th>\n",
       "      <th>tuscany_Pos3</th>\n",
       "      <th>tuscany_PosQ</th>\n",
       "      <th>tuscany_Q1_Q</th>\n",
       "      <th>tuscany_Q2_Q</th>\n",
       "      <th>tuscany_Q3_Q</th>\n",
       "      <th>tuscany_PosRR</th>\n",
       "      <th>tuscany_PTS_RR</th>\n",
       "    </tr>\n",
       "  </thead>\n",
       "  <tbody>\n",
       "    <tr>\n",
       "      <th>0</th>\n",
       "      <td>9</td>\n",
       "      <td>Alexander  Albon  ALB</td>\n",
       "      <td>Red Bull Racing Honda</td>\n",
       "      <td>4</td>\n",
       "      <td>8</td>\n",
       "      <td>4</td>\n",
       "      <td>1</td>\n",
       "      <td>1</td>\n",
       "      <td>1</td>\n",
       "      <td>3</td>\n",
       "      <td>15</td>\n",
       "    </tr>\n",
       "    <tr>\n",
       "      <th>3</th>\n",
       "      <td>3</td>\n",
       "      <td>Charles  Leclerc  LEC</td>\n",
       "      <td>Ferrari</td>\n",
       "      <td>10</td>\n",
       "      <td>7</td>\n",
       "      <td>5</td>\n",
       "      <td>1</td>\n",
       "      <td>1</td>\n",
       "      <td>1</td>\n",
       "      <td>8</td>\n",
       "      <td>4</td>\n",
       "    </tr>\n",
       "    <tr>\n",
       "      <th>4</th>\n",
       "      <td>10</td>\n",
       "      <td>Daniel  Ricciardo  RIC</td>\n",
       "      <td>Renault</td>\n",
       "      <td>5</td>\n",
       "      <td>17</td>\n",
       "      <td>8</td>\n",
       "      <td>1</td>\n",
       "      <td>1</td>\n",
       "      <td>1</td>\n",
       "      <td>4</td>\n",
       "      <td>12</td>\n",
       "    </tr>\n",
       "    <tr>\n",
       "      <th>5</th>\n",
       "      <td>7</td>\n",
       "      <td>Daniil  Kvyat  KVY</td>\n",
       "      <td>AlphaTauri Honda</td>\n",
       "      <td>15</td>\n",
       "      <td>9</td>\n",
       "      <td>12</td>\n",
       "      <td>1</td>\n",
       "      <td>1</td>\n",
       "      <td>0</td>\n",
       "      <td>7</td>\n",
       "      <td>6</td>\n",
       "    </tr>\n",
       "    <tr>\n",
       "      <th>7</th>\n",
       "      <td>16</td>\n",
       "      <td>George  Russell  RUS</td>\n",
       "      <td>Williams Mercedes</td>\n",
       "      <td>16</td>\n",
       "      <td>20</td>\n",
       "      <td>18</td>\n",
       "      <td>1</td>\n",
       "      <td>0</td>\n",
       "      <td>0</td>\n",
       "      <td>11</td>\n",
       "      <td>0</td>\n",
       "    </tr>\n",
       "    <tr>\n",
       "      <th>9</th>\n",
       "      <td>11</td>\n",
       "      <td>Kimi  Räikkönen  RAI</td>\n",
       "      <td>Alfa Romeo Racing Ferrari</td>\n",
       "      <td>9</td>\n",
       "      <td>14</td>\n",
       "      <td>13</td>\n",
       "      <td>1</td>\n",
       "      <td>1</td>\n",
       "      <td>0</td>\n",
       "      <td>9</td>\n",
       "      <td>2</td>\n",
       "    </tr>\n",
       "    <tr>\n",
       "      <th>11</th>\n",
       "      <td>8</td>\n",
       "      <td>Lando  Norris  NOR</td>\n",
       "      <td>McLaren Renault</td>\n",
       "      <td>14</td>\n",
       "      <td>19</td>\n",
       "      <td>11</td>\n",
       "      <td>1</td>\n",
       "      <td>1</td>\n",
       "      <td>0</td>\n",
       "      <td>6</td>\n",
       "      <td>8</td>\n",
       "    </tr>\n",
       "    <tr>\n",
       "      <th>12</th>\n",
       "      <td>4</td>\n",
       "      <td>Lewis  Hamilton  HAM</td>\n",
       "      <td>Mercedes</td>\n",
       "      <td>2</td>\n",
       "      <td>3</td>\n",
       "      <td>1</td>\n",
       "      <td>1</td>\n",
       "      <td>1</td>\n",
       "      <td>1</td>\n",
       "      <td>1</td>\n",
       "      <td>26</td>\n",
       "    </tr>\n",
       "    <tr>\n",
       "      <th>16</th>\n",
       "      <td>12</td>\n",
       "      <td>Romain  Grosjean  GRO</td>\n",
       "      <td>Haas Ferrari</td>\n",
       "      <td>20</td>\n",
       "      <td>10</td>\n",
       "      <td>15</td>\n",
       "      <td>1</td>\n",
       "      <td>1</td>\n",
       "      <td>0</td>\n",
       "      <td>12</td>\n",
       "      <td>0</td>\n",
       "    </tr>\n",
       "    <tr>\n",
       "      <th>17</th>\n",
       "      <td>13</td>\n",
       "      <td>Sebastian  Vettel  VET</td>\n",
       "      <td>Ferrari</td>\n",
       "      <td>12</td>\n",
       "      <td>18</td>\n",
       "      <td>14</td>\n",
       "      <td>1</td>\n",
       "      <td>1</td>\n",
       "      <td>0</td>\n",
       "      <td>10</td>\n",
       "      <td>1</td>\n",
       "    </tr>\n",
       "    <tr>\n",
       "      <th>18</th>\n",
       "      <td>19</td>\n",
       "      <td>Sergio  Perez  PER</td>\n",
       "      <td>Racing Point BWT Mercedes</td>\n",
       "      <td>7</td>\n",
       "      <td>6</td>\n",
       "      <td>6</td>\n",
       "      <td>1</td>\n",
       "      <td>1</td>\n",
       "      <td>1</td>\n",
       "      <td>5</td>\n",
       "      <td>10</td>\n",
       "    </tr>\n",
       "    <tr>\n",
       "      <th>19</th>\n",
       "      <td>1</td>\n",
       "      <td>Valtteri  Bottas  BOT</td>\n",
       "      <td>Mercedes</td>\n",
       "      <td>1</td>\n",
       "      <td>1</td>\n",
       "      <td>2</td>\n",
       "      <td>1</td>\n",
       "      <td>1</td>\n",
       "      <td>1</td>\n",
       "      <td>2</td>\n",
       "      <td>18</td>\n",
       "    </tr>\n",
       "  </tbody>\n",
       "</table>\n",
       "</div>"
      ],
      "text/plain": [
       "    tuscany_Pos1         tuscany_Driver1               tuscany_Car1  \\\n",
       "0              9   Alexander  Albon  ALB      Red Bull Racing Honda   \n",
       "3              3   Charles  Leclerc  LEC                    Ferrari   \n",
       "4             10  Daniel  Ricciardo  RIC                    Renault   \n",
       "5              7      Daniil  Kvyat  KVY           AlphaTauri Honda   \n",
       "7             16    George  Russell  RUS          Williams Mercedes   \n",
       "9             11    Kimi  Räikkönen  RAI  Alfa Romeo Racing Ferrari   \n",
       "11             8      Lando  Norris  NOR            McLaren Renault   \n",
       "12             4    Lewis  Hamilton  HAM                   Mercedes   \n",
       "16            12   Romain  Grosjean  GRO               Haas Ferrari   \n",
       "17            13  Sebastian  Vettel  VET                    Ferrari   \n",
       "18            19      Sergio  Perez  PER  Racing Point BWT Mercedes   \n",
       "19             1   Valtteri  Bottas  BOT                   Mercedes   \n",
       "\n",
       "    tuscany_Pos2  tuscany_Pos3  tuscany_PosQ  tuscany_Q1_Q  tuscany_Q2_Q  \\\n",
       "0              4             8             4             1             1   \n",
       "3             10             7             5             1             1   \n",
       "4              5            17             8             1             1   \n",
       "5             15             9            12             1             1   \n",
       "7             16            20            18             1             0   \n",
       "9              9            14            13             1             1   \n",
       "11            14            19            11             1             1   \n",
       "12             2             3             1             1             1   \n",
       "16            20            10            15             1             1   \n",
       "17            12            18            14             1             1   \n",
       "18             7             6             6             1             1   \n",
       "19             1             1             2             1             1   \n",
       "\n",
       "    tuscany_Q3_Q tuscany_PosRR  tuscany_PTS_RR  \n",
       "0              1             3              15  \n",
       "3              1             8               4  \n",
       "4              1             4              12  \n",
       "5              0             7               6  \n",
       "7              0            11               0  \n",
       "9              0             9               2  \n",
       "11             0             6               8  \n",
       "12             1             1              26  \n",
       "16             0            12               0  \n",
       "17             0            10               1  \n",
       "18             1             5              10  \n",
       "19             1             2              18  "
      ]
     },
     "execution_count": 30,
     "metadata": {},
     "output_type": "execute_result"
    }
   ],
   "source": [
    "tuscany_dl"
   ]
  },
  {
   "cell_type": "code",
   "execution_count": 31,
   "metadata": {},
   "outputs": [
    {
     "name": "stdout",
     "output_type": "stream",
     "text": [
      "Stored 'tuscany_dl' (DataFrame)\n"
     ]
    }
   ],
   "source": [
    "%store tuscany_dl"
   ]
  }
 ],
 "metadata": {
  "kernelspec": {
   "display_name": "Python 3",
   "language": "python",
   "name": "python3"
  },
  "language_info": {
   "codemirror_mode": {
    "name": "ipython",
    "version": 3
   },
   "file_extension": ".py",
   "mimetype": "text/x-python",
   "name": "python",
   "nbconvert_exporter": "python",
   "pygments_lexer": "ipython3",
   "version": "3.8.8"
  }
 },
 "nbformat": 4,
 "nbformat_minor": 4
}
