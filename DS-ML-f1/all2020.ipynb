{
 "cells": [
  {
   "cell_type": "code",
   "execution_count": 1,
   "metadata": {},
   "outputs": [],
   "source": [
    "# level 1"
   ]
  },
  {
   "cell_type": "code",
   "execution_count": 2,
   "metadata": {},
   "outputs": [],
   "source": [
    "# import necessary libraries\n",
    "\n",
    "import pandas as pd"
   ]
  },
  {
   "cell_type": "code",
   "execution_count": 3,
   "metadata": {},
   "outputs": [],
   "source": [
    "# notes on missing titles\n",
    "\n",
    "# 2 (styria) does not have practice-3\n",
    "\n",
    "# 11 (eifel) does not have practice-1 and practice-2\n",
    "\n",
    "# 13 (emilia romagna) does not have practice-2 and practice 3"
   ]
  },
  {
   "cell_type": "code",
   "execution_count": 4,
   "metadata": {},
   "outputs": [],
   "source": [
    "# scraping data \n",
    "\n",
    "titles = ['practice-1', 'practice-2', 'practice-3', 'qualfying', 'race-result']\n",
    "urls = [\n",
    "       'https://www.formula1.com/en/results.html/2020/races/1045/austria/{}.html', \n",
    "       'https://www.formula1.com/en/results.html/2020/races/1046/austria/{}.html', \n",
    "       'https://www.formula1.com/en/results.html/2020/races/1047/hungary/{}.html', \n",
    "       'https://www.formula1.com/en/results.html/2020/races/1048/great-britain/{}.html', \n",
    "       'https://www.formula1.com/en/results.html/2020/races/1049/great-britain/{}.html', \n",
    "       'https://www.formula1.com/en/results.html/2020/races/1050/spain/{}.html', \n",
    "       'https://www.formula1.com/en/results.html/2020/races/1051/belgium/{}.html', \n",
    "       'https://www.formula1.com/en/results.html/2020/races/1052/italy/{}.html', \n",
    "       'https://www.formula1.com/en/results.html/2020/races/1053/italy/{}.html', \n",
    "       'https://www.formula1.com/en/results.html/2020/races/1054/russia/{}.html', \n",
    "       'https://www.formula1.com/en/results.html/2020/races/1055/germany/{}.html', \n",
    "       'https://www.formula1.com/en/results.html/2020/races/1056/portugal/{}.html', \n",
    "       'https://www.formula1.com/en/results.html/2020/races/1057/italy/{}.html', \n",
    "       'https://www.formula1.com/en/results.html/2020/races/1058/turkey/{}.html', \n",
    "       'https://www.formula1.com/en/results.html/2020/races/1059/bahrain/{}.html', \n",
    "       'https://www.formula1.com/en/results.html/2020/races/1060/bahrain/{}.html', \n",
    "       'https://www.formula1.com/en/results.html/2020/races/1061/abu-dhabi/{}.html'\n",
    "]\n",
    "\n",
    "all_sites = []\n",
    "for url in urls:\n",
    "    for title in titles:\n",
    "        sites = url.format(title)\n",
    "        all_sites.append(sites)"
   ]
  },
  {
   "cell_type": "code",
   "execution_count": 5,
   "metadata": {},
   "outputs": [],
   "source": [
    "each_race = [all_sites[x:x+5] for x in range(0, len(all_sites), 5)]"
   ]
  },
  {
   "cell_type": "code",
   "execution_count": 6,
   "metadata": {},
   "outputs": [],
   "source": [
    "race_count = []\n",
    "for i in range(1, 18):\n",
    "    race_count.append(i)"
   ]
  },
  {
   "cell_type": "code",
   "execution_count": 7,
   "metadata": {},
   "outputs": [],
   "source": [
    "blueprint2020 = dict(zip(race_count, each_race))"
   ]
  },
  {
   "cell_type": "code",
   "execution_count": 8,
   "metadata": {},
   "outputs": [
    {
     "data": {
      "text/plain": [
       "['https://www.formula1.com/en/results.html/2020/races/1046/austria/practice-1.html',\n",
       " 'https://www.formula1.com/en/results.html/2020/races/1046/austria/practice-2.html',\n",
       " 'https://www.formula1.com/en/results.html/2020/races/1046/austria/practice-3.html',\n",
       " 'https://www.formula1.com/en/results.html/2020/races/1046/austria/qualfying.html',\n",
       " 'https://www.formula1.com/en/results.html/2020/races/1046/austria/race-result.html']"
      ]
     },
     "execution_count": 8,
     "metadata": {},
     "output_type": "execute_result"
    }
   ],
   "source": [
    "blueprint2020[2]"
   ]
  },
  {
   "cell_type": "code",
   "execution_count": 9,
   "metadata": {},
   "outputs": [],
   "source": [
    "blueprint2020[2].remove('https://www.formula1.com/en/results.html/2020/races/1046/austria/practice-3.html')"
   ]
  },
  {
   "cell_type": "code",
   "execution_count": 10,
   "metadata": {},
   "outputs": [
    {
     "data": {
      "text/plain": [
       "['https://www.formula1.com/en/results.html/2020/races/1046/austria/practice-1.html',\n",
       " 'https://www.formula1.com/en/results.html/2020/races/1046/austria/practice-2.html',\n",
       " 'https://www.formula1.com/en/results.html/2020/races/1046/austria/qualfying.html',\n",
       " 'https://www.formula1.com/en/results.html/2020/races/1046/austria/race-result.html']"
      ]
     },
     "execution_count": 10,
     "metadata": {},
     "output_type": "execute_result"
    }
   ],
   "source": [
    "blueprint2020[2]"
   ]
  },
  {
   "cell_type": "code",
   "execution_count": 11,
   "metadata": {
    "scrolled": true
   },
   "outputs": [
    {
     "data": {
      "text/plain": [
       "['https://www.formula1.com/en/results.html/2020/races/1055/germany/practice-1.html',\n",
       " 'https://www.formula1.com/en/results.html/2020/races/1055/germany/practice-2.html',\n",
       " 'https://www.formula1.com/en/results.html/2020/races/1055/germany/practice-3.html',\n",
       " 'https://www.formula1.com/en/results.html/2020/races/1055/germany/qualfying.html',\n",
       " 'https://www.formula1.com/en/results.html/2020/races/1055/germany/race-result.html']"
      ]
     },
     "execution_count": 11,
     "metadata": {},
     "output_type": "execute_result"
    }
   ],
   "source": [
    "blueprint2020[11]"
   ]
  },
  {
   "cell_type": "code",
   "execution_count": 12,
   "metadata": {},
   "outputs": [],
   "source": [
    "blueprint2020[11].remove('https://www.formula1.com/en/results.html/2020/races/1055/germany/practice-1.html')\n",
    "blueprint2020[11].remove('https://www.formula1.com/en/results.html/2020/races/1055/germany/practice-2.html')"
   ]
  },
  {
   "cell_type": "code",
   "execution_count": 13,
   "metadata": {},
   "outputs": [
    {
     "data": {
      "text/plain": [
       "['https://www.formula1.com/en/results.html/2020/races/1055/germany/practice-3.html',\n",
       " 'https://www.formula1.com/en/results.html/2020/races/1055/germany/qualfying.html',\n",
       " 'https://www.formula1.com/en/results.html/2020/races/1055/germany/race-result.html']"
      ]
     },
     "execution_count": 13,
     "metadata": {},
     "output_type": "execute_result"
    }
   ],
   "source": [
    "blueprint2020[11]"
   ]
  },
  {
   "cell_type": "code",
   "execution_count": 14,
   "metadata": {
    "scrolled": true
   },
   "outputs": [
    {
     "data": {
      "text/plain": [
       "['https://www.formula1.com/en/results.html/2020/races/1057/italy/practice-1.html',\n",
       " 'https://www.formula1.com/en/results.html/2020/races/1057/italy/practice-2.html',\n",
       " 'https://www.formula1.com/en/results.html/2020/races/1057/italy/practice-3.html',\n",
       " 'https://www.formula1.com/en/results.html/2020/races/1057/italy/qualfying.html',\n",
       " 'https://www.formula1.com/en/results.html/2020/races/1057/italy/race-result.html']"
      ]
     },
     "execution_count": 14,
     "metadata": {},
     "output_type": "execute_result"
    }
   ],
   "source": [
    "blueprint2020[13]"
   ]
  },
  {
   "cell_type": "code",
   "execution_count": 15,
   "metadata": {},
   "outputs": [],
   "source": [
    "blueprint2020[13].remove('https://www.formula1.com/en/results.html/2020/races/1057/italy/practice-2.html')\n",
    "blueprint2020[13].remove('https://www.formula1.com/en/results.html/2020/races/1057/italy/practice-3.html')"
   ]
  },
  {
   "cell_type": "code",
   "execution_count": 16,
   "metadata": {},
   "outputs": [
    {
     "data": {
      "text/plain": [
       "['https://www.formula1.com/en/results.html/2020/races/1057/italy/practice-1.html',\n",
       " 'https://www.formula1.com/en/results.html/2020/races/1057/italy/qualfying.html',\n",
       " 'https://www.formula1.com/en/results.html/2020/races/1057/italy/race-result.html']"
      ]
     },
     "execution_count": 16,
     "metadata": {},
     "output_type": "execute_result"
    }
   ],
   "source": [
    "blueprint2020[13]"
   ]
  },
  {
   "cell_type": "code",
   "execution_count": 17,
   "metadata": {
    "scrolled": true
   },
   "outputs": [
    {
     "data": {
      "text/plain": [
       "{1: ['https://www.formula1.com/en/results.html/2020/races/1045/austria/practice-1.html',\n",
       "  'https://www.formula1.com/en/results.html/2020/races/1045/austria/practice-2.html',\n",
       "  'https://www.formula1.com/en/results.html/2020/races/1045/austria/practice-3.html',\n",
       "  'https://www.formula1.com/en/results.html/2020/races/1045/austria/qualfying.html',\n",
       "  'https://www.formula1.com/en/results.html/2020/races/1045/austria/race-result.html'],\n",
       " 2: ['https://www.formula1.com/en/results.html/2020/races/1046/austria/practice-1.html',\n",
       "  'https://www.formula1.com/en/results.html/2020/races/1046/austria/practice-2.html',\n",
       "  'https://www.formula1.com/en/results.html/2020/races/1046/austria/qualfying.html',\n",
       "  'https://www.formula1.com/en/results.html/2020/races/1046/austria/race-result.html'],\n",
       " 3: ['https://www.formula1.com/en/results.html/2020/races/1047/hungary/practice-1.html',\n",
       "  'https://www.formula1.com/en/results.html/2020/races/1047/hungary/practice-2.html',\n",
       "  'https://www.formula1.com/en/results.html/2020/races/1047/hungary/practice-3.html',\n",
       "  'https://www.formula1.com/en/results.html/2020/races/1047/hungary/qualfying.html',\n",
       "  'https://www.formula1.com/en/results.html/2020/races/1047/hungary/race-result.html'],\n",
       " 4: ['https://www.formula1.com/en/results.html/2020/races/1048/great-britain/practice-1.html',\n",
       "  'https://www.formula1.com/en/results.html/2020/races/1048/great-britain/practice-2.html',\n",
       "  'https://www.formula1.com/en/results.html/2020/races/1048/great-britain/practice-3.html',\n",
       "  'https://www.formula1.com/en/results.html/2020/races/1048/great-britain/qualfying.html',\n",
       "  'https://www.formula1.com/en/results.html/2020/races/1048/great-britain/race-result.html'],\n",
       " 5: ['https://www.formula1.com/en/results.html/2020/races/1049/great-britain/practice-1.html',\n",
       "  'https://www.formula1.com/en/results.html/2020/races/1049/great-britain/practice-2.html',\n",
       "  'https://www.formula1.com/en/results.html/2020/races/1049/great-britain/practice-3.html',\n",
       "  'https://www.formula1.com/en/results.html/2020/races/1049/great-britain/qualfying.html',\n",
       "  'https://www.formula1.com/en/results.html/2020/races/1049/great-britain/race-result.html'],\n",
       " 6: ['https://www.formula1.com/en/results.html/2020/races/1050/spain/practice-1.html',\n",
       "  'https://www.formula1.com/en/results.html/2020/races/1050/spain/practice-2.html',\n",
       "  'https://www.formula1.com/en/results.html/2020/races/1050/spain/practice-3.html',\n",
       "  'https://www.formula1.com/en/results.html/2020/races/1050/spain/qualfying.html',\n",
       "  'https://www.formula1.com/en/results.html/2020/races/1050/spain/race-result.html'],\n",
       " 7: ['https://www.formula1.com/en/results.html/2020/races/1051/belgium/practice-1.html',\n",
       "  'https://www.formula1.com/en/results.html/2020/races/1051/belgium/practice-2.html',\n",
       "  'https://www.formula1.com/en/results.html/2020/races/1051/belgium/practice-3.html',\n",
       "  'https://www.formula1.com/en/results.html/2020/races/1051/belgium/qualfying.html',\n",
       "  'https://www.formula1.com/en/results.html/2020/races/1051/belgium/race-result.html'],\n",
       " 8: ['https://www.formula1.com/en/results.html/2020/races/1052/italy/practice-1.html',\n",
       "  'https://www.formula1.com/en/results.html/2020/races/1052/italy/practice-2.html',\n",
       "  'https://www.formula1.com/en/results.html/2020/races/1052/italy/practice-3.html',\n",
       "  'https://www.formula1.com/en/results.html/2020/races/1052/italy/qualfying.html',\n",
       "  'https://www.formula1.com/en/results.html/2020/races/1052/italy/race-result.html'],\n",
       " 9: ['https://www.formula1.com/en/results.html/2020/races/1053/italy/practice-1.html',\n",
       "  'https://www.formula1.com/en/results.html/2020/races/1053/italy/practice-2.html',\n",
       "  'https://www.formula1.com/en/results.html/2020/races/1053/italy/practice-3.html',\n",
       "  'https://www.formula1.com/en/results.html/2020/races/1053/italy/qualfying.html',\n",
       "  'https://www.formula1.com/en/results.html/2020/races/1053/italy/race-result.html'],\n",
       " 10: ['https://www.formula1.com/en/results.html/2020/races/1054/russia/practice-1.html',\n",
       "  'https://www.formula1.com/en/results.html/2020/races/1054/russia/practice-2.html',\n",
       "  'https://www.formula1.com/en/results.html/2020/races/1054/russia/practice-3.html',\n",
       "  'https://www.formula1.com/en/results.html/2020/races/1054/russia/qualfying.html',\n",
       "  'https://www.formula1.com/en/results.html/2020/races/1054/russia/race-result.html'],\n",
       " 11: ['https://www.formula1.com/en/results.html/2020/races/1055/germany/practice-3.html',\n",
       "  'https://www.formula1.com/en/results.html/2020/races/1055/germany/qualfying.html',\n",
       "  'https://www.formula1.com/en/results.html/2020/races/1055/germany/race-result.html'],\n",
       " 12: ['https://www.formula1.com/en/results.html/2020/races/1056/portugal/practice-1.html',\n",
       "  'https://www.formula1.com/en/results.html/2020/races/1056/portugal/practice-2.html',\n",
       "  'https://www.formula1.com/en/results.html/2020/races/1056/portugal/practice-3.html',\n",
       "  'https://www.formula1.com/en/results.html/2020/races/1056/portugal/qualfying.html',\n",
       "  'https://www.formula1.com/en/results.html/2020/races/1056/portugal/race-result.html'],\n",
       " 13: ['https://www.formula1.com/en/results.html/2020/races/1057/italy/practice-1.html',\n",
       "  'https://www.formula1.com/en/results.html/2020/races/1057/italy/qualfying.html',\n",
       "  'https://www.formula1.com/en/results.html/2020/races/1057/italy/race-result.html'],\n",
       " 14: ['https://www.formula1.com/en/results.html/2020/races/1058/turkey/practice-1.html',\n",
       "  'https://www.formula1.com/en/results.html/2020/races/1058/turkey/practice-2.html',\n",
       "  'https://www.formula1.com/en/results.html/2020/races/1058/turkey/practice-3.html',\n",
       "  'https://www.formula1.com/en/results.html/2020/races/1058/turkey/qualfying.html',\n",
       "  'https://www.formula1.com/en/results.html/2020/races/1058/turkey/race-result.html'],\n",
       " 15: ['https://www.formula1.com/en/results.html/2020/races/1059/bahrain/practice-1.html',\n",
       "  'https://www.formula1.com/en/results.html/2020/races/1059/bahrain/practice-2.html',\n",
       "  'https://www.formula1.com/en/results.html/2020/races/1059/bahrain/practice-3.html',\n",
       "  'https://www.formula1.com/en/results.html/2020/races/1059/bahrain/qualfying.html',\n",
       "  'https://www.formula1.com/en/results.html/2020/races/1059/bahrain/race-result.html'],\n",
       " 16: ['https://www.formula1.com/en/results.html/2020/races/1060/bahrain/practice-1.html',\n",
       "  'https://www.formula1.com/en/results.html/2020/races/1060/bahrain/practice-2.html',\n",
       "  'https://www.formula1.com/en/results.html/2020/races/1060/bahrain/practice-3.html',\n",
       "  'https://www.formula1.com/en/results.html/2020/races/1060/bahrain/qualfying.html',\n",
       "  'https://www.formula1.com/en/results.html/2020/races/1060/bahrain/race-result.html'],\n",
       " 17: ['https://www.formula1.com/en/results.html/2020/races/1061/abu-dhabi/practice-1.html',\n",
       "  'https://www.formula1.com/en/results.html/2020/races/1061/abu-dhabi/practice-2.html',\n",
       "  'https://www.formula1.com/en/results.html/2020/races/1061/abu-dhabi/practice-3.html',\n",
       "  'https://www.formula1.com/en/results.html/2020/races/1061/abu-dhabi/qualfying.html',\n",
       "  'https://www.formula1.com/en/results.html/2020/races/1061/abu-dhabi/race-result.html']}"
      ]
     },
     "execution_count": 17,
     "metadata": {},
     "output_type": "execute_result"
    }
   ],
   "source": [
    "blueprint2020"
   ]
  }
 ],
 "metadata": {
  "kernelspec": {
   "display_name": "Python 3",
   "language": "python",
   "name": "python3"
  },
  "language_info": {
   "codemirror_mode": {
    "name": "ipython",
    "version": 3
   },
   "file_extension": ".py",
   "mimetype": "text/x-python",
   "name": "python",
   "nbconvert_exporter": "python",
   "pygments_lexer": "ipython3",
   "version": "3.8.8"
  }
 },
 "nbformat": 4,
 "nbformat_minor": 4
}
